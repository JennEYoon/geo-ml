{
 "cells": [
  {
   "cell_type": "markdown",
   "metadata": {
    "papermill": {
     "duration": 0.016923,
     "end_time": "2020-10-22T02:10:27.659423",
     "exception": false,
     "start_time": "2020-10-22T02:10:27.642500",
     "status": "completed"
    },
    "tags": []
   },
   "source": [
    "# Setup Env"
   ]
  },
  {
   "cell_type": "code",
   "execution_count": 1,
   "metadata": {
    "_cell_guid": "b1076dfc-b9ad-4769-8c92-a6c4dae69d19",
    "_uuid": "8f2839f25d086af736a60e9eeb907d3b93b6e0e5",
    "execution": {
     "iopub.execute_input": "2020-10-22T02:10:27.703669Z",
     "iopub.status.busy": "2020-10-22T02:10:27.702588Z",
     "iopub.status.idle": "2020-10-22T02:11:02.199880Z",
     "shell.execute_reply": "2020-10-22T02:11:02.199171Z"
    },
    "papermill": {
     "duration": 34.524838,
     "end_time": "2020-10-22T02:11:02.200029",
     "exception": false,
     "start_time": "2020-10-22T02:10:27.675191",
     "status": "completed"
    },
    "tags": []
   },
   "outputs": [
    {
     "name": "stdout",
     "output_type": "stream",
     "text": [
      "\u001b[33mWARNING: You are using pip version 20.2.3; however, version 20.2.4 is available.\r\n",
      "You should consider upgrading via the '/opt/conda/bin/python3.7 -m pip install --upgrade pip' command.\u001b[0m\r\n",
      "\u001b[33mWARNING: You are using pip version 20.2.3; however, version 20.2.4 is available.\r\n",
      "You should consider upgrading via the '/opt/conda/bin/python3.7 -m pip install --upgrade pip' command.\u001b[0m\r\n",
      "\u001b[33mWARNING: You are using pip version 20.2.3; however, version 20.2.4 is available.\r\n",
      "You should consider upgrading via the '/opt/conda/bin/python3.7 -m pip install --upgrade pip' command.\u001b[0m\r\n"
     ]
    }
   ],
   "source": [
    "!pip install fastai --upgrade -q\n",
    "from fastai.vision.all import *\n",
    "# from fastai.callback.cutmix import *\n",
    "\n",
    "!pip install wwf -q\n",
    "!pip install timm -q\n",
    "from wwf.vision.timm import *\n",
    "\n",
    "# !pip install efficientnet_pytorch -q\n",
    "# from efficientnet_pytorch import EfficientNet"
   ]
  },
  {
   "cell_type": "markdown",
   "metadata": {
    "papermill": {
     "duration": 0.016793,
     "end_time": "2020-10-22T02:11:02.234319",
     "exception": false,
     "start_time": "2020-10-22T02:11:02.217526",
     "status": "completed"
    },
    "tags": []
   },
   "source": [
    "# Import data"
   ]
  },
  {
   "cell_type": "code",
   "execution_count": 2,
   "metadata": {
    "_cell_guid": "79c7e3d0-c299-4dcb-8224-4455121ee9b0",
    "_uuid": "d629ff2d2480ee46fbb7e2d37f6b5fab8052498a",
    "execution": {
     "iopub.execute_input": "2020-10-22T02:11:02.273930Z",
     "iopub.status.busy": "2020-10-22T02:11:02.272934Z",
     "iopub.status.idle": "2020-10-22T02:11:02.276149Z",
     "shell.execute_reply": "2020-10-22T02:11:02.275526Z"
    },
    "papermill": {
     "duration": 0.024691,
     "end_time": "2020-10-22T02:11:02.276266",
     "exception": false,
     "start_time": "2020-10-22T02:11:02.251575",
     "status": "completed"
    },
    "tags": []
   },
   "outputs": [],
   "source": [
    "path = Path('../input/planets-dataset/planet/planet')"
   ]
  },
  {
   "cell_type": "code",
   "execution_count": 3,
   "metadata": {
    "execution": {
     "iopub.execute_input": "2020-10-22T02:11:02.317633Z",
     "iopub.status.busy": "2020-10-22T02:11:02.316897Z",
     "iopub.status.idle": "2020-10-22T02:11:02.419565Z",
     "shell.execute_reply": "2020-10-22T02:11:02.418684Z"
    },
    "papermill": {
     "duration": 0.126766,
     "end_time": "2020-10-22T02:11:02.419772",
     "exception": false,
     "start_time": "2020-10-22T02:11:02.293006",
     "status": "completed"
    },
    "tags": []
   },
   "outputs": [
    {
     "data": {
      "text/html": [
       "<div>\n",
       "<style scoped>\n",
       "    .dataframe tbody tr th:only-of-type {\n",
       "        vertical-align: middle;\n",
       "    }\n",
       "\n",
       "    .dataframe tbody tr th {\n",
       "        vertical-align: top;\n",
       "    }\n",
       "\n",
       "    .dataframe thead th {\n",
       "        text-align: right;\n",
       "    }\n",
       "</style>\n",
       "<table border=\"1\" class=\"dataframe\">\n",
       "  <thead>\n",
       "    <tr style=\"text-align: right;\">\n",
       "      <th></th>\n",
       "      <th>image_name</th>\n",
       "      <th>tags</th>\n",
       "    </tr>\n",
       "  </thead>\n",
       "  <tbody>\n",
       "    <tr>\n",
       "      <th>0</th>\n",
       "      <td>train_0</td>\n",
       "      <td>haze primary</td>\n",
       "    </tr>\n",
       "    <tr>\n",
       "      <th>1</th>\n",
       "      <td>train_1</td>\n",
       "      <td>agriculture clear primary water</td>\n",
       "    </tr>\n",
       "    <tr>\n",
       "      <th>2</th>\n",
       "      <td>train_2</td>\n",
       "      <td>clear primary</td>\n",
       "    </tr>\n",
       "    <tr>\n",
       "      <th>3</th>\n",
       "      <td>train_3</td>\n",
       "      <td>clear primary</td>\n",
       "    </tr>\n",
       "    <tr>\n",
       "      <th>4</th>\n",
       "      <td>train_4</td>\n",
       "      <td>agriculture clear habitation primary road</td>\n",
       "    </tr>\n",
       "    <tr>\n",
       "      <th>...</th>\n",
       "      <td>...</td>\n",
       "      <td>...</td>\n",
       "    </tr>\n",
       "    <tr>\n",
       "      <th>40474</th>\n",
       "      <td>train_40474</td>\n",
       "      <td>clear primary</td>\n",
       "    </tr>\n",
       "    <tr>\n",
       "      <th>40475</th>\n",
       "      <td>train_40475</td>\n",
       "      <td>cloudy</td>\n",
       "    </tr>\n",
       "    <tr>\n",
       "      <th>40476</th>\n",
       "      <td>train_40476</td>\n",
       "      <td>agriculture clear primary</td>\n",
       "    </tr>\n",
       "    <tr>\n",
       "      <th>40477</th>\n",
       "      <td>train_40477</td>\n",
       "      <td>agriculture clear primary road</td>\n",
       "    </tr>\n",
       "    <tr>\n",
       "      <th>40478</th>\n",
       "      <td>train_40478</td>\n",
       "      <td>agriculture cultivation partly_cloudy primary</td>\n",
       "    </tr>\n",
       "  </tbody>\n",
       "</table>\n",
       "<p>40479 rows × 2 columns</p>\n",
       "</div>"
      ],
      "text/plain": [
       "        image_name                                           tags\n",
       "0          train_0                                   haze primary\n",
       "1          train_1                agriculture clear primary water\n",
       "2          train_2                                  clear primary\n",
       "3          train_3                                  clear primary\n",
       "4          train_4      agriculture clear habitation primary road\n",
       "...            ...                                            ...\n",
       "40474  train_40474                                  clear primary\n",
       "40475  train_40475                                         cloudy\n",
       "40476  train_40476                      agriculture clear primary\n",
       "40477  train_40477                 agriculture clear primary road\n",
       "40478  train_40478  agriculture cultivation partly_cloudy primary\n",
       "\n",
       "[40479 rows x 2 columns]"
      ]
     },
     "execution_count": 3,
     "metadata": {},
     "output_type": "execute_result"
    }
   ],
   "source": [
    "train_df = pd.read_csv(path/'train_classes.csv')\n",
    "train_df"
   ]
  },
  {
   "cell_type": "code",
   "execution_count": 4,
   "metadata": {
    "execution": {
     "iopub.execute_input": "2020-10-22T02:11:02.467623Z",
     "iopub.status.busy": "2020-10-22T02:11:02.466551Z",
     "iopub.status.idle": "2020-10-22T02:11:02.470119Z",
     "shell.execute_reply": "2020-10-22T02:11:02.469445Z"
    },
    "papermill": {
     "duration": 0.032204,
     "end_time": "2020-10-22T02:11:02.470259",
     "exception": false,
     "start_time": "2020-10-22T02:11:02.438055",
     "status": "completed"
    },
    "tags": []
   },
   "outputs": [],
   "source": [
    "def get_x(r):\n",
    "    return path/'train-jpg'/(r['image_name']+'.jpg')\n",
    "\n",
    "def get_y(r):\n",
    "    return r['tags'].split()\n",
    "\n",
    "def get_data(size=224,bs=64,data_df=train_df):\n",
    "    dblock = DataBlock(blocks=(ImageBlock, MultiCategoryBlock),\n",
    "                       splitter=RandomSplitter(seed=42),\n",
    "                       get_x=get_x, \n",
    "                       get_y=get_y,\n",
    "                       item_tfms = Resize(size),\n",
    "                       batch_tfms = [*aug_transforms(flip_vert=True,max_warp=0),\n",
    "                                     Normalize.from_stats(*imagenet_stats)]\n",
    "                      )\n",
    "    return dblock.dataloaders(data_df,bs=bs)"
   ]
  },
  {
   "cell_type": "code",
   "execution_count": 5,
   "metadata": {
    "execution": {
     "iopub.execute_input": "2020-10-22T02:11:02.515785Z",
     "iopub.status.busy": "2020-10-22T02:11:02.514912Z",
     "iopub.status.idle": "2020-10-22T02:11:15.939345Z",
     "shell.execute_reply": "2020-10-22T02:11:15.937998Z"
    },
    "papermill": {
     "duration": 13.45098,
     "end_time": "2020-10-22T02:11:15.939488",
     "exception": false,
     "start_time": "2020-10-22T02:11:02.488508",
     "status": "completed"
    },
    "tags": []
   },
   "outputs": [],
   "source": [
    "dls = get_data(300,40)"
   ]
  },
  {
   "cell_type": "code",
   "execution_count": 6,
   "metadata": {
    "execution": {
     "iopub.execute_input": "2020-10-22T02:11:16.010656Z",
     "iopub.status.busy": "2020-10-22T02:11:16.005560Z",
     "iopub.status.idle": "2020-10-22T02:11:16.799652Z",
     "shell.execute_reply": "2020-10-22T02:11:16.800215Z"
    },
    "papermill": {
     "duration": 0.842401,
     "end_time": "2020-10-22T02:11:16.800368",
     "exception": false,
     "start_time": "2020-10-22T02:11:15.957967",
     "status": "completed"
    },
    "tags": []
   },
   "outputs": [
    {
     "data": {
      "image/png": "[encoded data removed]",
      "text/plain": [
       "<Figure size 648x216 with 3 Axes>"
      ]
     },
     "metadata": {
      "needs_background": "light"
     },
     "output_type": "display_data"
    }
   ],
   "source": [
    "dls.show_batch(nrows=1, ncols=3)"
   ]
  },
  {
   "cell_type": "markdown",
   "metadata": {
    "papermill": {
     "duration": 0.021841,
     "end_time": "2020-10-22T02:11:16.844320",
     "exception": false,
     "start_time": "2020-10-22T02:11:16.822479",
     "status": "completed"
    },
    "tags": []
   },
   "source": [
    "# Training"
   ]
  },
  {
   "cell_type": "code",
   "execution_count": 7,
   "metadata": {
    "execution": {
     "iopub.execute_input": "2020-10-22T02:11:16.897259Z",
     "iopub.status.busy": "2020-10-22T02:11:16.895343Z",
     "iopub.status.idle": "2020-10-22T02:11:16.898035Z",
     "shell.execute_reply": "2020-10-22T02:11:16.898577Z"
    },
    "papermill": {
     "duration": 0.031999,
     "end_time": "2020-10-22T02:11:16.898738",
     "exception": false,
     "start_time": "2020-10-22T02:11:16.866739",
     "status": "completed"
    },
    "tags": []
   },
   "outputs": [],
   "source": [
    "# f2macro = FBetaMulti(beta=2,average='macro')\n",
    "# f2micro = FBetaMulti(beta=2,average='micro')\n",
    "f2samples = FBetaMulti(beta=2,average='samples',thresh=0.2)\n",
    "\n",
    "# model = EfficientNet.from_pretrained('efficientnet-b7', get_c(dls))\n",
    "metrics = [partial(accuracy_multi, thresh=0.2), f2samples]\n",
    "cbs = [MixUp]"
   ]
  },
  {
   "cell_type": "code",
   "execution_count": 8,
   "metadata": {
    "execution": {
     "iopub.execute_input": "2020-10-22T02:11:16.954661Z",
     "iopub.status.busy": "2020-10-22T02:11:16.953521Z",
     "iopub.status.idle": "2020-10-22T02:11:18.336111Z",
     "shell.execute_reply": "2020-10-22T02:11:18.335401Z"
    },
    "papermill": {
     "duration": 1.415083,
     "end_time": "2020-10-22T02:11:18.336236",
     "exception": false,
     "start_time": "2020-10-22T02:11:16.921153",
     "status": "completed"
    },
    "tags": []
   },
   "outputs": [
    {
     "name": "stderr",
     "output_type": "stream",
     "text": [
      "Downloading: \"https://github.com/rwightman/pytorch-image-models/releases/download/v0.1-weights/efficientnet_b3_ra2-cf984f9c.pth\" to /root/.cache/torch/hub/checkpoints/efficientnet_b3_ra2-cf984f9c.pth\n"
     ]
    }
   ],
   "source": [
    "# learn = cnn_learner(dls, resnet50, metrics=metrics, cbs=cbs)\n",
    "# learn = Learner(dls, model, metrics=metrics, f2samples], cbs=cbs)\n",
    "# learn = Learner(dls, model, metrics=metrics, loss_func=LabelSmoothingCrossEntropy(), cbs=cbs)\n",
    "\n",
    "learn = timm_learner(dls, 'efficientnet_b3', metrics=metrics, cbs=cbs)\n",
    "\n",
    "# learn.lr_find()"
   ]
  },
  {
   "cell_type": "code",
   "execution_count": 9,
   "metadata": {
    "execution": {
     "iopub.execute_input": "2020-10-22T02:11:18.389519Z",
     "iopub.status.busy": "2020-10-22T02:11:18.388546Z",
     "iopub.status.idle": "2020-10-22T04:15:17.281738Z",
     "shell.execute_reply": "2020-10-22T04:15:17.280725Z"
    },
    "papermill": {
     "duration": 7438.923048,
     "end_time": "2020-10-22T04:15:17.281871",
     "exception": false,
     "start_time": "2020-10-22T02:11:18.358823",
     "status": "completed"
    },
    "tags": []
   },
   "outputs": [
    {
     "data": {
      "text/html": [
       "<table border=\"1\" class=\"dataframe\">\n",
       "  <thead>\n",
       "    <tr style=\"text-align: left;\">\n",
       "      <th>epoch</th>\n",
       "      <th>train_loss</th>\n",
       "      <th>valid_loss</th>\n",
       "      <th>accuracy_multi</th>\n",
       "      <th>fbeta_score</th>\n",
       "      <th>time</th>\n",
       "    </tr>\n",
       "  </thead>\n",
       "  <tbody>\n",
       "    <tr>\n",
       "      <td>0</td>\n",
       "      <td>0.189156</td>\n",
       "      <td>0.442741</td>\n",
       "      <td>0.927414</td>\n",
       "      <td>0.870250</td>\n",
       "      <td>06:49</td>\n",
       "    </tr>\n",
       "    <tr>\n",
       "      <td>1</td>\n",
       "      <td>0.170155</td>\n",
       "      <td>0.249043</td>\n",
       "      <td>0.935370</td>\n",
       "      <td>0.891579</td>\n",
       "      <td>06:13</td>\n",
       "    </tr>\n",
       "    <tr>\n",
       "      <td>2</td>\n",
       "      <td>0.172334</td>\n",
       "      <td>0.209572</td>\n",
       "      <td>0.942586</td>\n",
       "      <td>0.906572</td>\n",
       "      <td>06:13</td>\n",
       "    </tr>\n",
       "    <tr>\n",
       "      <td>3</td>\n",
       "      <td>0.168832</td>\n",
       "      <td>2.200543</td>\n",
       "      <td>0.944795</td>\n",
       "      <td>0.908534</td>\n",
       "      <td>06:13</td>\n",
       "    </tr>\n",
       "  </tbody>\n",
       "</table>"
      ],
      "text/plain": [
       "<IPython.core.display.HTML object>"
      ]
     },
     "metadata": {},
     "output_type": "display_data"
    },
    {
     "data": {
      "text/html": [
       "<table border=\"1\" class=\"dataframe\">\n",
       "  <thead>\n",
       "    <tr style=\"text-align: left;\">\n",
       "      <th>epoch</th>\n",
       "      <th>train_loss</th>\n",
       "      <th>valid_loss</th>\n",
       "      <th>accuracy_multi</th>\n",
       "      <th>fbeta_score</th>\n",
       "      <th>time</th>\n",
       "    </tr>\n",
       "  </thead>\n",
       "  <tbody>\n",
       "    <tr>\n",
       "      <td>0</td>\n",
       "      <td>0.149794</td>\n",
       "      <td>15.907427</td>\n",
       "      <td>0.953596</td>\n",
       "      <td>0.918378</td>\n",
       "      <td>08:12</td>\n",
       "    </tr>\n",
       "    <tr>\n",
       "      <td>1</td>\n",
       "      <td>0.148965</td>\n",
       "      <td>96.602074</td>\n",
       "      <td>0.948174</td>\n",
       "      <td>0.912174</td>\n",
       "      <td>08:12</td>\n",
       "    </tr>\n",
       "    <tr>\n",
       "      <td>2</td>\n",
       "      <td>0.150347</td>\n",
       "      <td>3.295362</td>\n",
       "      <td>0.952971</td>\n",
       "      <td>0.916631</td>\n",
       "      <td>08:11</td>\n",
       "    </tr>\n",
       "    <tr>\n",
       "      <td>3</td>\n",
       "      <td>0.155809</td>\n",
       "      <td>17.755909</td>\n",
       "      <td>0.953014</td>\n",
       "      <td>0.912219</td>\n",
       "      <td>08:10</td>\n",
       "    </tr>\n",
       "    <tr>\n",
       "      <td>4</td>\n",
       "      <td>0.142231</td>\n",
       "      <td>0.286071</td>\n",
       "      <td>0.959300</td>\n",
       "      <td>0.921711</td>\n",
       "      <td>08:10</td>\n",
       "    </tr>\n",
       "    <tr>\n",
       "      <td>5</td>\n",
       "      <td>0.141272</td>\n",
       "      <td>0.333953</td>\n",
       "      <td>0.956357</td>\n",
       "      <td>0.921633</td>\n",
       "      <td>08:11</td>\n",
       "    </tr>\n",
       "    <tr>\n",
       "      <td>6</td>\n",
       "      <td>0.139819</td>\n",
       "      <td>9.770691</td>\n",
       "      <td>0.953421</td>\n",
       "      <td>0.919026</td>\n",
       "      <td>08:10</td>\n",
       "    </tr>\n",
       "    <tr>\n",
       "      <td>7</td>\n",
       "      <td>0.135602</td>\n",
       "      <td>0.101218</td>\n",
       "      <td>0.958028</td>\n",
       "      <td>0.923304</td>\n",
       "      <td>08:10</td>\n",
       "    </tr>\n",
       "    <tr>\n",
       "      <td>8</td>\n",
       "      <td>0.127834</td>\n",
       "      <td>0.089364</td>\n",
       "      <td>0.955673</td>\n",
       "      <td>0.925283</td>\n",
       "      <td>08:11</td>\n",
       "    </tr>\n",
       "    <tr>\n",
       "      <td>9</td>\n",
       "      <td>0.126752</td>\n",
       "      <td>0.089453</td>\n",
       "      <td>0.958899</td>\n",
       "      <td>0.924918</td>\n",
       "      <td>08:13</td>\n",
       "    </tr>\n",
       "    <tr>\n",
       "      <td>10</td>\n",
       "      <td>0.124318</td>\n",
       "      <td>0.090493</td>\n",
       "      <td>0.958013</td>\n",
       "      <td>0.924302</td>\n",
       "      <td>08:18</td>\n",
       "    </tr>\n",
       "    <tr>\n",
       "      <td>11</td>\n",
       "      <td>0.125242</td>\n",
       "      <td>0.090232</td>\n",
       "      <td>0.958907</td>\n",
       "      <td>0.925052</td>\n",
       "      <td>08:15</td>\n",
       "    </tr>\n",
       "  </tbody>\n",
       "</table>"
      ],
      "text/plain": [
       "<IPython.core.display.HTML object>"
      ]
     },
     "metadata": {},
     "output_type": "display_data"
    }
   ],
   "source": [
    "learn.fine_tune(12, base_lr=3e-2, freeze_epochs=4)"
   ]
  },
  {
   "cell_type": "code",
   "execution_count": 10,
   "metadata": {
    "execution": {
     "iopub.execute_input": "2020-10-22T04:15:17.336283Z",
     "iopub.status.busy": "2020-10-22T04:15:17.335521Z",
     "iopub.status.idle": "2020-10-22T04:15:17.340631Z",
     "shell.execute_reply": "2020-10-22T04:15:17.340043Z"
    },
    "papermill": {
     "duration": 0.034129,
     "end_time": "2020-10-22T04:15:17.340755",
     "exception": false,
     "start_time": "2020-10-22T04:15:17.306626",
     "status": "completed"
    },
    "tags": []
   },
   "outputs": [],
   "source": [
    "# def f2_score(y_pred, y_true, threshold=0.5, beta=2, eps=1e-9):\n",
    "#     y_pred = (y_pred > threshold).float()\n",
    "\n",
    "#     true_positives  = (y_pred * y_true)\n",
    "#     true_negatives  = ((y_pred + y_true) == 0.).float()\n",
    "#     false_positives = ((y_pred - y_true) == 1.).float()\n",
    "#     false_negatives = ((y_true - y_pred) == 1.).float()\n",
    "    \n",
    "#     precision = true_positives.sum(dim=1) / ((true_positives + false_positives).sum(dim=1) + eps)\n",
    "#     recall    = true_positives.sum(dim=1) / ((true_positives + false_negatives).sum(dim=1) + eps)\n",
    "    \n",
    "#     score = (1 + beta**2) * (precision * recall) / (beta**2 * precision + recall + eps)\n",
    "\n",
    "#     return torch.mean(score)"
   ]
  },
  {
   "cell_type": "code",
   "execution_count": 11,
   "metadata": {
    "execution": {
     "iopub.execute_input": "2020-10-22T04:15:17.396452Z",
     "iopub.status.busy": "2020-10-22T04:15:17.394349Z",
     "iopub.status.idle": "2020-10-22T04:15:17.397260Z",
     "shell.execute_reply": "2020-10-22T04:15:17.397837Z"
    },
    "papermill": {
     "duration": 0.033267,
     "end_time": "2020-10-22T04:15:17.397988",
     "exception": false,
     "start_time": "2020-10-22T04:15:17.364721",
     "status": "completed"
    },
    "tags": []
   },
   "outputs": [],
   "source": [
    "# preds,targs = learn.get_preds()\n",
    "\n",
    "# xs = torch.linspace(0.05,0.95,29)\n",
    "# accs = [f2_score(preds, targs, threshold=i) for i in xs]\n",
    "# plt.plot(xs,accs);"
   ]
  },
  {
   "cell_type": "markdown",
   "metadata": {
    "papermill": {
     "duration": 0.024003,
     "end_time": "2020-10-22T04:15:17.446459",
     "exception": false,
     "start_time": "2020-10-22T04:15:17.422456",
     "status": "completed"
    },
    "tags": []
   },
   "source": [
    "# Submission using TTA"
   ]
  },
  {
   "cell_type": "code",
   "execution_count": 12,
   "metadata": {
    "execution": {
     "iopub.execute_input": "2020-10-22T04:15:17.524465Z",
     "iopub.status.busy": "2020-10-22T04:15:17.523730Z",
     "iopub.status.idle": "2020-10-22T04:15:18.275004Z",
     "shell.execute_reply": "2020-10-22T04:15:18.274228Z"
    },
    "papermill": {
     "duration": 0.804116,
     "end_time": "2020-10-22T04:15:18.275138",
     "exception": false,
     "start_time": "2020-10-22T04:15:17.471022",
     "status": "completed"
    },
    "tags": []
   },
   "outputs": [],
   "source": [
    "file_path = Path('../input/planets-dataset/test-jpg-additional/test-jpg-additional')\n",
    "test_path = Path('../input/planets-dataset/planet/planet/test-jpg')\n",
    "submission_df = pd.read_csv(path/'sample_submission.csv')\n",
    "testing_path = (submission_df['image_name'] + '.jpg').apply(lambda x: test_path/x if x.startswith('test') else file_path/x)\n",
    "\n",
    "def prediction(filename='submission.csv', tta=False):\n",
    "    tst_dl = learn.dls.test_dl(testing_path)\n",
    "    if tta:\n",
    "        predictions = learn.tta(dl = tst_dl)\n",
    "    else:\n",
    "        predictions = learn.get_preds(dl = tst_dl)\n",
    "    predlist = [' '.join(learn.dls.vocab[i]) for i in (predictions[0] > 0.2)]\n",
    "\n",
    "    df = submission_df\n",
    "    df['tags'] = predlist\n",
    "\n",
    "    df.to_csv(filename, index=False)\n",
    "    return df"
   ]
  },
  {
   "cell_type": "code",
   "execution_count": 13,
   "metadata": {
    "execution": {
     "iopub.execute_input": "2020-10-22T04:15:18.341579Z",
     "iopub.status.busy": "2020-10-22T04:15:18.334045Z",
     "iopub.status.idle": "2020-10-22T04:48:41.243287Z",
     "shell.execute_reply": "2020-10-22T04:48:41.243890Z"
    },
    "papermill": {
     "duration": 2002.943402,
     "end_time": "2020-10-22T04:48:41.244053",
     "exception": false,
     "start_time": "2020-10-22T04:15:18.300651",
     "status": "completed"
    },
    "tags": []
   },
   "outputs": [
    {
     "data": {
      "text/html": [
       "\n",
       "    <div>\n",
       "        <style>\n",
       "            /* Turns off some styling */\n",
       "            progress {\n",
       "                /* gets rid of default border in Firefox and Opera. */\n",
       "                border: none;\n",
       "                /* Needs to be in here for Safari polyfill so background images work as expected. */\n",
       "                background-size: auto;\n",
       "            }\n",
       "            .progress-bar-interrupted, .progress-bar-interrupted::-webkit-progress-bar {\n",
       "                background: #F44336;\n",
       "            }\n",
       "        </style>\n",
       "      <progress value='0' class='' max='12' style='width:300px; height:20px; vertical-align: middle;'></progress>\n",
       "      \n",
       "    </div>\n",
       "    \n"
      ],
      "text/plain": [
       "<IPython.core.display.HTML object>"
      ]
     },
     "metadata": {},
     "output_type": "display_data"
    },
    {
     "data": {
      "text/html": [],
      "text/plain": [
       "<IPython.core.display.HTML object>"
      ]
     },
     "metadata": {},
     "output_type": "display_data"
    },
    {
     "data": {
      "text/html": [
       "<div>\n",
       "<style scoped>\n",
       "    .dataframe tbody tr th:only-of-type {\n",
       "        vertical-align: middle;\n",
       "    }\n",
       "\n",
       "    .dataframe tbody tr th {\n",
       "        vertical-align: top;\n",
       "    }\n",
       "\n",
       "    .dataframe thead th {\n",
       "        text-align: right;\n",
       "    }\n",
       "</style>\n",
       "<table border=\"1\" class=\"dataframe\">\n",
       "  <thead>\n",
       "    <tr style=\"text-align: right;\">\n",
       "      <th></th>\n",
       "      <th>image_name</th>\n",
       "      <th>tags</th>\n",
       "    </tr>\n",
       "  </thead>\n",
       "  <tbody>\n",
       "    <tr>\n",
       "      <th>0</th>\n",
       "      <td>test_0</td>\n",
       "      <td>clear primary</td>\n",
       "    </tr>\n",
       "    <tr>\n",
       "      <th>1</th>\n",
       "      <td>test_1</td>\n",
       "      <td>clear primary</td>\n",
       "    </tr>\n",
       "    <tr>\n",
       "      <th>2</th>\n",
       "      <td>test_2</td>\n",
       "      <td>partly_cloudy primary</td>\n",
       "    </tr>\n",
       "    <tr>\n",
       "      <th>3</th>\n",
       "      <td>test_3</td>\n",
       "      <td>agriculture clear primary</td>\n",
       "    </tr>\n",
       "    <tr>\n",
       "      <th>4</th>\n",
       "      <td>test_4</td>\n",
       "      <td>partly_cloudy primary</td>\n",
       "    </tr>\n",
       "    <tr>\n",
       "      <th>...</th>\n",
       "      <td>...</td>\n",
       "      <td>...</td>\n",
       "    </tr>\n",
       "    <tr>\n",
       "      <th>61186</th>\n",
       "      <td>file_9995</td>\n",
       "      <td>cloudy</td>\n",
       "    </tr>\n",
       "    <tr>\n",
       "      <th>61187</th>\n",
       "      <td>file_9996</td>\n",
       "      <td>clear primary water</td>\n",
       "    </tr>\n",
       "    <tr>\n",
       "      <th>61188</th>\n",
       "      <td>file_9997</td>\n",
       "      <td>clear primary road water</td>\n",
       "    </tr>\n",
       "    <tr>\n",
       "      <th>61189</th>\n",
       "      <td>file_9998</td>\n",
       "      <td>cloudy</td>\n",
       "    </tr>\n",
       "    <tr>\n",
       "      <th>61190</th>\n",
       "      <td>file_9999</td>\n",
       "      <td>clear habitation primary road</td>\n",
       "    </tr>\n",
       "  </tbody>\n",
       "</table>\n",
       "<p>61191 rows × 2 columns</p>\n",
       "</div>"
      ],
      "text/plain": [
       "      image_name                           tags\n",
       "0         test_0                  clear primary\n",
       "1         test_1                  clear primary\n",
       "2         test_2          partly_cloudy primary\n",
       "3         test_3      agriculture clear primary\n",
       "4         test_4          partly_cloudy primary\n",
       "...          ...                            ...\n",
       "61186  file_9995                         cloudy\n",
       "61187  file_9996            clear primary water\n",
       "61188  file_9997       clear primary road water\n",
       "61189  file_9998                         cloudy\n",
       "61190  file_9999  clear habitation primary road\n",
       "\n",
       "[61191 rows x 2 columns]"
      ]
     },
     "execution_count": 13,
     "metadata": {},
     "output_type": "execute_result"
    }
   ],
   "source": [
    "prediction('submission_tta.csv', tta=True)"
   ]
  },
  {
   "cell_type": "markdown",
   "metadata": {
    "papermill": {
     "duration": 0.026678,
     "end_time": "2020-10-22T04:48:41.297741",
     "exception": false,
     "start_time": "2020-10-22T04:48:41.271063",
     "status": "completed"
    },
    "tags": []
   },
   "source": [
    "# Progressive Resizing\n",
    "not getting good result and take a long time to train\n",
    "\n",
    "To try: Using a smaller size first then use the 224 size"
   ]
  },
  {
   "cell_type": "code",
   "execution_count": 14,
   "metadata": {
    "execution": {
     "iopub.execute_input": "2020-10-22T04:48:41.358796Z",
     "iopub.status.busy": "2020-10-22T04:48:41.356705Z",
     "iopub.status.idle": "2020-10-22T04:48:41.359556Z",
     "shell.execute_reply": "2020-10-22T04:48:41.360135Z"
    },
    "papermill": {
     "duration": 0.035362,
     "end_time": "2020-10-22T04:48:41.360282",
     "exception": false,
     "start_time": "2020-10-22T04:48:41.324920",
     "status": "completed"
    },
    "tags": []
   },
   "outputs": [],
   "source": [
    "# dls = get_data(size=448,bs=32)\n",
    "# learn.dls = dls\n",
    "# learn.freeze()\n",
    "# learn.lr_find()"
   ]
  },
  {
   "cell_type": "code",
   "execution_count": 15,
   "metadata": {
    "execution": {
     "iopub.execute_input": "2020-10-22T04:48:41.419369Z",
     "iopub.status.busy": "2020-10-22T04:48:41.418640Z",
     "iopub.status.idle": "2020-10-22T04:48:41.423587Z",
     "shell.execute_reply": "2020-10-22T04:48:41.423027Z"
    },
    "papermill": {
     "duration": 0.036398,
     "end_time": "2020-10-22T04:48:41.423742",
     "exception": false,
     "start_time": "2020-10-22T04:48:41.387344",
     "status": "completed"
    },
    "tags": []
   },
   "outputs": [],
   "source": [
    "# learn.fine_tune(12, base_lr=3e-3, freeze_epochs=4)"
   ]
  },
  {
   "cell_type": "code",
   "execution_count": 16,
   "metadata": {
    "execution": {
     "iopub.execute_input": "2020-10-22T04:48:41.484663Z",
     "iopub.status.busy": "2020-10-22T04:48:41.483576Z",
     "iopub.status.idle": "2020-10-22T04:48:41.489529Z",
     "shell.execute_reply": "2020-10-22T04:48:41.490329Z"
    },
    "papermill": {
     "duration": 0.03949,
     "end_time": "2020-10-22T04:48:41.490563",
     "exception": false,
     "start_time": "2020-10-22T04:48:41.451073",
     "status": "completed"
    },
    "tags": []
   },
   "outputs": [],
   "source": [
    "# prediction('submission_tta_2.csv', tta=True)"
   ]
  }
 ],
 "metadata": {
  "kernelspec": {
   "display_name": "Python 3",
   "language": "python",
   "name": "python3"
  },
  "language_info": {
   "codemirror_mode": {
    "name": "ipython",
    "version": 3
   },
   "file_extension": ".py",
   "mimetype": "text/x-python",
   "name": "python",
   "nbconvert_exporter": "python",
   "pygments_lexer": "ipython3",
   "version": "3.7.6"
  },
  "papermill": {
   "duration": 9499.863929,
   "end_time": "2020-10-22T04:48:42.890195",
   "environment_variables": {},
   "exception": null,
   "input_path": "__notebook__.ipynb",
   "output_path": "__notebook__.ipynb",
   "parameters": {},
   "start_time": "2020-10-22T02:10:23.026266",
   "version": "2.1.0"
  }
 },
 "nbformat": 4,
 "nbformat_minor": 4
}
