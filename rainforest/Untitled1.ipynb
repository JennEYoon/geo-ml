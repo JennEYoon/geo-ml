{
 "cells": [
  {
   "cell_type": "code",
   "execution_count": 1,
   "id": "written-journalist",
   "metadata": {},
   "outputs": [
    {
     "data": {
      "text/plain": [
       "<module 'pandas' from '/home/jyoon/conda3/lib/python3.7/site-packages/pandas/__init__.py'>"
      ]
     },
     "execution_count": 1,
     "metadata": {},
     "output_type": "execute_result"
    }
   ],
   "source": [
    "import pandas as pd\n",
    "pd"
   ]
  },
  {
   "cell_type": "code",
   "execution_count": 2,
   "id": "indie-startup",
   "metadata": {},
   "outputs": [],
   "source": [
    "# Conda root env, activates python 3.7, conda base env. "
   ]
  },
  {
   "cell_type": "code",
   "execution_count": null,
   "id": "undefined-rouge",
   "metadata": {},
   "outputs": [],
   "source": []
  }
 ],
 "metadata": {
  "kernelspec": {
   "display_name": "Python [conda env:root]",
   "language": "python",
   "name": "conda-root-py"
  },
  "language_info": {
   "codemirror_mode": {
    "name": "ipython",
    "version": 3
   },
   "file_extension": ".py",
   "mimetype": "text/x-python",
   "name": "python",
   "nbconvert_exporter": "python",
   "pygments_lexer": "ipython3",
   "version": "3.7.3"
  }
 },
 "nbformat": 4,
 "nbformat_minor": 5
}
