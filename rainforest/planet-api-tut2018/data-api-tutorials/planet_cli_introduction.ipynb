{
 "cells": [
  {
   "cell_type": "markdown",
   "metadata": {},
   "source": [
    "# Planet API Python Client\n"
   ]
  },
  {
   "cell_type": "markdown",
   "metadata": {},
   "source": [
    "This tutorial is an introduction to [Planet](https://www.planet.com)'s Data API using the official [Python client](https://github.com/planetlabs/planet-client-python), the `planet` module.\n",
    "\n",
    "## Requirements\n",
    "\n",
    "This tutorial assumes familiarity with the [Python](https://python.org) programming language throughout. Python modules used in this tutorial are:\n",
    "* [IPython](https://ipython.org/) and [Jupyter](https://jupyter.org/)\n",
    "* [planet](https://github.com/planetlabs/planet-client-python)\n",
    "* [geojsonio](https://pypi.python.org/pypi/geojsonio)\n",
    "\n",
    "You should also have an account on the Planet Platform and retrieve your API key from your [account page](https://www.planet.com/account/).\n",
    "\n",
    "## Useful links \n",
    "* [Documentation](https://planetlabs.github.io/planet-client-python/index.html)\n",
    "* [Planet Data API reference](https://www.planet.com/docs/reference/data-api/)"
   ]
  },
  {
   "cell_type": "markdown",
   "metadata": {},
   "source": [
    "This tutorial will cover the basic operations possible with the Python client, particularly those that interact with the Data API."
   ]
  },
  {
   "cell_type": "markdown",
   "metadata": {},
   "source": [
    "The basic workflow for interacting with the Data API is:\n",
    "1. search item types based on filters\n",
    "1. activate assets\n",
    "1. download assets"
   ]
  },
  {
   "cell_type": "markdown",
   "metadata": {},
   "source": [
    "## Set up\n",
    "\n",
    "In order to interact with the Planet API using the client, we need to import `planet.api`."
   ]
  },
  {
   "cell_type": "code",
   "execution_count": 1,
   "metadata": {},
   "outputs": [],
   "source": [
    "from planet import api"
   ]
  },
  {
   "cell_type": "markdown",
   "metadata": {},
   "source": [
    "We next need to create a `ClientV1` object registered with our API key. The API key will be automatically read from the `PL_API_KEY` environment variable if it exists. If not it can be provided when creating the `api` object."
   ]
  },
  {
   "cell_type": "code",
   "execution_count": 2,
   "metadata": {},
   "outputs": [],
   "source": [
    "client = api.ClientV1()\n",
    "# client = api.ClientV1(api_key=\"abcdef0123456789\") <-- not a real key\n",
    "\n",
    "# print client.auth.value"
   ]
  },
  {
   "cell_type": "markdown",
   "metadata": {},
   "source": [
    "`ClientV1` provides basic low-level access to Planet’s API. Only one `ClientV1` should be in existence for an application. The client is thread safe and takes care to avoid API throttling and also retries any throttled requests. Any exceptional HTTP responses are handled by translation to one of the `planet.api.exceptions` classes."
   ]
  },
  {
   "cell_type": "markdown",
   "metadata": {},
   "source": [
    "We will also create a small helper function to print out JSON with proper indentation."
   ]
  },
  {
   "cell_type": "code",
   "execution_count": 3,
   "metadata": {},
   "outputs": [],
   "source": [
    "import json\n",
    "\n",
    "def p(data):\n",
    "    print(json.dumps(data, indent=2))"
   ]
  },
  {
   "cell_type": "markdown",
   "metadata": {},
   "source": [
    "Let's also read in a GeoJSON geometry into a variable so we can use it during testing."
   ]
  },
  {
   "cell_type": "code",
   "execution_count": 4,
   "metadata": {},
   "outputs": [],
   "source": [
    "with open(\"data/san-francisco.json\") as f:\n",
    "    geom = json.loads(f.read())"
   ]
  },
  {
   "cell_type": "markdown",
   "metadata": {},
   "source": [
    "## Searching\n",
    "\n",
    "We can search for items that are interesting by using the `quick_search` member function. Searches, however, always require a proper request that includes a filter that selects the specific items to return as seach results.\n",
    "\n",
    "### Filters\n",
    "\n",
    "The Planet Python client also includes `planet.api.filters` to assist in the creation of search filters."
   ]
  },
  {
   "cell_type": "code",
   "execution_count": 5,
   "metadata": {},
   "outputs": [],
   "source": [
    "from planet.api import filters"
   ]
  },
  {
   "cell_type": "markdown",
   "metadata": {},
   "source": [
    "The possible filters include `and_filter`, `date_filter`, `range_filter` and so on, mirroring the options supported by the Planet API.\n"
   ]
  },
  {
   "cell_type": "code",
   "execution_count": 6,
   "metadata": {},
   "outputs": [],
   "source": [
    "from datetime import datetime\n",
    "start_date = datetime(year=2017, month=1, day=1)\n",
    "\n",
    "date_filter = filters.date_range('acquired', gte=start_date)\n",
    "cloud_filter = filters.range_filter('cloud_cover', lte=0.1)"
   ]
  },
  {
   "cell_type": "code",
   "execution_count": 7,
   "metadata": {},
   "outputs": [],
   "source": [
    "and_filter = filters.and_filter(date_filter, cloud_filter)"
   ]
  },
  {
   "cell_type": "code",
   "execution_count": 8,
   "metadata": {},
   "outputs": [
    {
     "name": "stdout",
     "output_type": "stream",
     "text": [
      "{\n",
      "  \"type\": \"AndFilter\",\n",
      "  \"config\": [\n",
      "    {\n",
      "      \"field_name\": \"acquired\",\n",
      "      \"type\": \"DateRangeFilter\",\n",
      "      \"config\": {\n",
      "        \"gte\": \"2017-01-01T00:00:00Z\"\n",
      "      }\n",
      "    },\n",
      "    {\n",
      "      \"field_name\": \"cloud_cover\",\n",
      "      \"type\": \"RangeFilter\",\n",
      "      \"config\": {\n",
      "        \"lte\": 0.1\n",
      "      }\n",
      "    }\n",
      "  ]\n",
      "}\n"
     ]
    }
   ],
   "source": [
    "p(and_filter)"
   ]
  },
  {
   "cell_type": "markdown",
   "metadata": {},
   "source": [
    "In addition to the filter, a properly-constructed request also contains the list of item types that we want to select."
   ]
  },
  {
   "cell_type": "code",
   "execution_count": 9,
   "metadata": {},
   "outputs": [],
   "source": [
    "item_types = [\"REOrthoTile\", \"PSOrthoTile\"]\n",
    "req = filters.build_search_request(and_filter, item_types)"
   ]
  },
  {
   "cell_type": "code",
   "execution_count": 10,
   "metadata": {},
   "outputs": [
    {
     "name": "stdout",
     "output_type": "stream",
     "text": [
      "{\n",
      "  \"item_types\": [\n",
      "    \"REOrthoTile\",\n",
      "    \"PSOrthoTile\"\n",
      "  ],\n",
      "  \"filter\": {\n",
      "    \"type\": \"AndFilter\",\n",
      "    \"config\": [\n",
      "      {\n",
      "        \"field_name\": \"acquired\",\n",
      "        \"type\": \"DateRangeFilter\",\n",
      "        \"config\": {\n",
      "          \"gte\": \"2017-01-01T00:00:00Z\"\n",
      "        }\n",
      "      },\n",
      "      {\n",
      "        \"field_name\": \"cloud_cover\",\n",
      "        \"type\": \"RangeFilter\",\n",
      "        \"config\": {\n",
      "          \"lte\": 0.1\n",
      "        }\n",
      "      }\n",
      "    ]\n",
      "  }\n",
      "}\n"
     ]
    }
   ],
   "source": [
    "p(req)"
   ]
  },
  {
   "cell_type": "code",
   "execution_count": 11,
   "metadata": {},
   "outputs": [],
   "source": [
    "res = client.quick_search(req)"
   ]
  },
  {
   "cell_type": "markdown",
   "metadata": {},
   "source": [
    "The results of `quick_search` can be handled in different ways, but most commonly the user will either iterating through the list of items (`items_iter`) or writing items to a GeoJSON file (`json_encode`).\n",
    "\n",
    "In either case, the number of items must be specified."
   ]
  },
  {
   "cell_type": "code",
   "execution_count": 13,
   "metadata": {},
   "outputs": [
    {
     "name": "stdout",
     "output_type": "stream",
     "text": [
      "1727806_1357318_2018-09-22_100e PSOrthoTile\n",
      "1727806_1354111_2018-09-22_100e PSOrthoTile\n",
      "1727806_1466421_2018-09-22_100e PSOrthoTile\n",
      "1727806_1465419_2018-09-22_100e PSOrthoTile\n"
     ]
    }
   ],
   "source": [
    "for item in res.items_iter(4):\n",
    "    print(item['id'], item['properties']['item_type'])"
   ]
  },
  {
   "cell_type": "markdown",
   "metadata": {},
   "source": [
    "If the number of items requested is more than 250, the client will automatically fetch more pages of results in order to get the exact number requested."
   ]
  },
  {
   "cell_type": "code",
   "execution_count": 14,
   "metadata": {},
   "outputs": [],
   "source": [
    "with open('output/results.json','w') as f:\n",
    "    res.json_encode(f,1000)"
   ]
  },
  {
   "cell_type": "markdown",
   "metadata": {},
   "source": [
    "This GeoJSON file can be opened and viewed in any compatible application."
   ]
  },
  {
   "cell_type": "markdown",
   "metadata": {
    "collapsed": true
   },
   "source": [
    "## Assets and downloads\n",
    "\n",
    "After a search returns results, the Python client can be used to check for assets and initiate downloads.\n",
    "\n",
    "The list of assets for an item can be retrieved with `get_assets` or `get_assets_by_id`."
   ]
  },
  {
   "cell_type": "code",
   "execution_count": 15,
   "metadata": {},
   "outputs": [
    {
     "name": "stdout",
     "output_type": "stream",
     "text": [
      "1727806_1465419_2018-09-22_100e\n"
     ]
    }
   ],
   "source": [
    "print(item['id'])"
   ]
  },
  {
   "cell_type": "code",
   "execution_count": 16,
   "metadata": {},
   "outputs": [],
   "source": [
    "assets = client.get_assets(item).get()"
   ]
  },
  {
   "cell_type": "code",
   "execution_count": 17,
   "metadata": {},
   "outputs": [
    {
     "name": "stdout",
     "output_type": "stream",
     "text": [
      "analytic\n",
      "analytic_dn\n",
      "analytic_dn_xml\n",
      "analytic_xml\n",
      "udm\n",
      "visual\n",
      "visual_xml\n"
     ]
    }
   ],
   "source": [
    "for asset in sorted(assets.keys()):\n",
    "    print(asset)"
   ]
  },
  {
   "cell_type": "code",
   "execution_count": 18,
   "metadata": {},
   "outputs": [
    {
     "data": {
      "text/plain": [
       "202"
      ]
     },
     "execution_count": 18,
     "metadata": {},
     "output_type": "execute_result"
    }
   ],
   "source": [
    "activation = client.activate(assets['analytic'])\n",
    "activation.response.status_code"
   ]
  },
  {
   "cell_type": "markdown",
   "metadata": {},
   "source": [
    "A response of 202 means that the request has been accepted and the activation will begin shortly. A 204 code indicates that the asset is already active and no further action is needed. A 401 code means the user does not have permissions to download this file.\n",
    "\n",
    "Below, we are polling the API until the item is done activation. This may take awhile."
   ]
  },
  {
   "cell_type": "code",
   "execution_count": 19,
   "metadata": {},
   "outputs": [
    {
     "name": "stdout",
     "output_type": "stream",
     "text": [
      "...Still waiting for asset activation...\n",
      "...Still waiting for asset activation...\n",
      "...Still waiting for asset activation...\n",
      "...Still waiting for asset activation...\n",
      "...Still waiting for asset activation...\n",
      "...Still waiting for asset activation...\n",
      "...Still waiting for asset activation...\n",
      "...Still waiting for asset activation...\n",
      "...Still waiting for asset activation...\n",
      "...Still waiting for asset activation...\n",
      "...Still waiting for asset activation...\n",
      "...Still waiting for asset activation...\n",
      "...Still waiting for asset activation...\n",
      "...Still waiting for asset activation...\n",
      "...Still waiting for asset activation...\n",
      "...Still waiting for asset activation...\n",
      "...Still waiting for asset activation...\n",
      "...Still waiting for asset activation...\n",
      "...Still waiting for asset activation...\n",
      "...Still waiting for asset activation...\n",
      "...Still waiting for asset activation...\n",
      "...Still waiting for asset activation...\n",
      "...Still waiting for asset activation...\n",
      "...Still waiting for asset activation...\n",
      "...Still waiting for asset activation...\n",
      "...Still waiting for asset activation...\n",
      "...Still waiting for asset activation...\n",
      "...Still waiting for asset activation...\n",
      "...Still waiting for asset activation...\n",
      "...Still waiting for asset activation...\n",
      "...Still waiting for asset activation...\n",
      "...Still waiting for asset activation...\n",
      "...Still waiting for asset activation...\n",
      "...Still waiting for asset activation...\n",
      "...Still waiting for asset activation...\n",
      "...Still waiting for asset activation...\n",
      "...Still waiting for asset activation...\n",
      "...Still waiting for asset activation...\n",
      "...Still waiting for asset activation...\n",
      "...Still waiting for asset activation...\n",
      "...Still waiting for asset activation...\n",
      "...Still waiting for asset activation...\n",
      "...Still waiting for asset activation...\n",
      "...Still waiting for asset activation...\n",
      "...Still waiting for asset activation...\n",
      "...Still waiting for asset activation...\n",
      "...Still waiting for asset activation...\n",
      "...Still waiting for asset activation...\n",
      "...Still waiting for asset activation...\n",
      "...Still waiting for asset activation...\n",
      "...Still waiting for asset activation...\n",
      "...Still waiting for asset activation...\n",
      "...Still waiting for asset activation...\n",
      "...Still waiting for asset activation...\n",
      "...Still waiting for asset activation...\n",
      "...Still waiting for asset activation...\n",
      "...Still waiting for asset activation...\n",
      "...Still waiting for asset activation...\n",
      "...Still waiting for asset activation...\n",
      "...Still waiting for asset activation...\n",
      "...Still waiting for asset activation...\n",
      "...Still waiting for asset activation...\n",
      "...Still waiting for asset activation...\n",
      "...Still waiting for asset activation...\n",
      "...Still waiting for asset activation...\n",
      "...Still waiting for asset activation...\n",
      "...Still waiting for asset activation...\n",
      "...Still waiting for asset activation...\n",
      "...Still waiting for asset activation...\n",
      "...Still waiting for asset activation...\n",
      "...Still waiting for asset activation...\n",
      "...Still waiting for asset activation...\n",
      "...Still waiting for asset activation...\n",
      "...Still waiting for asset activation...\n",
      "...Still waiting for asset activation...\n",
      "...Still waiting for asset activation...\n",
      "...Still waiting for asset activation...\n",
      "...Still waiting for asset activation...\n",
      "...Still waiting for asset activation...\n",
      "...Still waiting for asset activation...\n",
      "...Still waiting for asset activation...\n",
      "...Still waiting for asset activation...\n",
      "...Still waiting for asset activation...\n",
      "...Still waiting for asset activation...\n",
      "...Still waiting for asset activation...\n",
      "...Still waiting for asset activation...\n",
      "...Still waiting for asset activation...\n",
      "...Still waiting for asset activation...\n",
      "...Still waiting for asset activation...\n",
      "...Still waiting for asset activation...\n",
      "...Still waiting for asset activation...\n",
      "...Still waiting for asset activation...\n",
      "...Still waiting for asset activation...\n",
      "...Still waiting for asset activation...\n",
      "...Still waiting for asset activation...\n",
      "...Still waiting for asset activation...\n",
      "...Still waiting for asset activation...\n",
      "...Still waiting for asset activation...\n",
      "...Still waiting for asset activation...\n",
      "...Still waiting for asset activation...\n",
      "...Still waiting for asset activation...\n",
      "...Still waiting for asset activation...\n",
      "...Still waiting for asset activation...\n",
      "...Still waiting for asset activation...\n",
      "Asset is active and ready to download\n"
     ]
    }
   ],
   "source": [
    "import time\n",
    "\n",
    "asset_activated = False\n",
    "\n",
    "while asset_activated == False:\n",
    "    \n",
    "    # Get asset and its activation status\n",
    "    assets = client.get_assets(item).get()\n",
    "    asset = assets.get('analytic')\n",
    "    asset_status = asset[\"status\"]\n",
    "    \n",
    "    # If asset is already active, we are done\n",
    "    if asset_status == 'active':\n",
    "        asset_activated = True\n",
    "        print(\"Asset is active and ready to download\")\n",
    "   \n",
    "    # Still activating. Wait and check again.\n",
    "    else:\n",
    "        print(\"...Still waiting for asset activation...\")\n",
    "        time.sleep(3)"
   ]
  },
  {
   "cell_type": "code",
   "execution_count": 20,
   "metadata": {},
   "outputs": [
    {
     "data": {
      "text/plain": [
       "<planet.api.models.Body at 0x7f6f0e06d668>"
      ]
     },
     "execution_count": 20,
     "metadata": {},
     "output_type": "execute_result"
    }
   ],
   "source": [
    "callback = api.write_to_file(directory='output/')\n",
    "body = client.download(assets['analytic_xml'], callback=callback)\n",
    "body.await()"
   ]
  },
  {
   "cell_type": "markdown",
   "metadata": {},
   "source": [
    "## Saved Searches\n",
    "\n",
    "The Python API client can also help in managing saved searches on the Planet Platform."
   ]
  },
  {
   "cell_type": "code",
   "execution_count": 21,
   "metadata": {},
   "outputs": [],
   "source": [
    "searches = client.get_searches()"
   ]
  },
  {
   "cell_type": "code",
   "execution_count": 22,
   "metadata": {},
   "outputs": [
    {
     "name": "stdout",
     "output_type": "stream",
     "text": [
      "3b67071ddf0a4f2c9cd032d269992dae San Francisco\n",
      "06b6392f4076460b9514e5c6a11d8577 Viet smaller AOI\n",
      "fa1622c65a4644e58bd5cc3e51fe41ce Vietnam Label-Maker\n",
      "378c4e84629a48688fac99c917214c76 San Francisco\n",
      "7d793c34ee074cdebdb4c85b56b65e18 Medianía Alta\n"
     ]
    }
   ],
   "source": [
    "for search in searches.items_iter(100):\n",
    "    print(search['id'], search['name'])"
   ]
  },
  {
   "cell_type": "code",
   "execution_count": 23,
   "metadata": {},
   "outputs": [],
   "source": [
    "item_types = [\"PSScene3Band\"]\n",
    "san_francisco_filter = filters.geom_filter(geom)\n",
    "req = filters.build_search_request(san_francisco_filter, item_types, name=\"San Francisco\")"
   ]
  },
  {
   "cell_type": "code",
   "execution_count": 24,
   "metadata": {},
   "outputs": [
    {
     "name": "stdout",
     "output_type": "stream",
     "text": [
      "{\n",
      "  \"item_types\": [\n",
      "    \"PSScene3Band\"\n",
      "  ],\n",
      "  \"filter\": {\n",
      "    \"field_name\": \"geometry\",\n",
      "    \"type\": \"GeometryFilter\",\n",
      "    \"config\": {\n",
      "      \"type\": \"Polygon\",\n",
      "      \"coordinates\": [\n",
      "        [\n",
      "          [\n",
      "            -122.47455596923828,\n",
      "            37.810326435534755\n",
      "          ],\n",
      "          [\n",
      "            -122.49172210693358,\n",
      "            37.795406713958236\n",
      "          ],\n",
      "          [\n",
      "            -122.52056121826172,\n",
      "            37.784282779035216\n",
      "          ],\n",
      "          [\n",
      "            -122.51953124999999,\n",
      "            37.6971326434885\n",
      "          ],\n",
      "          [\n",
      "            -122.38941192626953,\n",
      "            37.69441603823106\n",
      "          ],\n",
      "          [\n",
      "            -122.38872528076173,\n",
      "            37.705010235842614\n",
      "          ],\n",
      "          [\n",
      "            -122.36228942871092,\n",
      "            37.70935613533687\n",
      "          ],\n",
      "          [\n",
      "            -122.34992980957031,\n",
      "            37.727280276860036\n",
      "          ],\n",
      "          [\n",
      "            -122.37773895263672,\n",
      "            37.76230130281876\n",
      "          ],\n",
      "          [\n",
      "            -122.38494873046875,\n",
      "            37.794592824285104\n",
      "          ],\n",
      "          [\n",
      "            -122.40554809570311,\n",
      "            37.813310018173155\n",
      "          ],\n",
      "          [\n",
      "            -122.46150970458983,\n",
      "            37.805715207044685\n",
      "          ],\n",
      "          [\n",
      "            -122.47455596923828,\n",
      "            37.810326435534755\n",
      "          ]\n",
      "        ]\n",
      "      ]\n",
      "    }\n",
      "  },\n",
      "  \"name\": \"San Francisco\"\n",
      "}\n"
     ]
    }
   ],
   "source": [
    "p(req)"
   ]
  },
  {
   "cell_type": "code",
   "execution_count": 25,
   "metadata": {},
   "outputs": [],
   "source": [
    "res = client.create_search(req)"
   ]
  },
  {
   "cell_type": "code",
   "execution_count": 26,
   "metadata": {},
   "outputs": [
    {
     "name": "stdout",
     "output_type": "stream",
     "text": [
      "f1d47dd8eb00453da94cf5f0d690bb10 San Francisco\n"
     ]
    }
   ],
   "source": [
    "search = res.get()\n",
    "print(search[\"id\"], search[\"name\"])"
   ]
  },
  {
   "cell_type": "code",
   "execution_count": 27,
   "metadata": {},
   "outputs": [],
   "source": [
    "res = client.saved_search(search[\"id\"])"
   ]
  },
  {
   "cell_type": "code",
   "execution_count": 28,
   "metadata": {},
   "outputs": [
    {
     "name": "stdout",
     "output_type": "stream",
     "text": [
      "20180926_181023_0f40 0\n",
      "20180926_181022_0f40 0\n",
      "20180926_181024_0f40 0\n",
      "20180926_182749_1018 0.5\n",
      "20180926_182750_1018 0.5\n",
      "20180926_182747_1018 0.5\n",
      "20180925_181112_100d 0.2\n",
      "20180925_181113_100d 0.2\n",
      "20180925_181115_100d 0.2\n",
      "20180925_213151_0f02 0\n",
      "20180925_213153_0f02 0\n",
      "20180925_181114_100d 0.1\n",
      "20180925_213152_0f02 0\n",
      "20180925_182742_0f34 1.3\n",
      "20180925_182741_0f34 1.3\n",
      "20180925_182743_0f34 1.2\n",
      "20180924_182734_101e 0.1\n",
      "20180924_182736_101e 0.1\n",
      "20180924_182735_101e 0.1\n",
      "20180923_213329_0f4c 0\n"
     ]
    }
   ],
   "source": [
    "for item in res.items_iter(20):\n",
    "    print(item[\"id\"], item[\"properties\"][\"view_angle\"])"
   ]
  },
  {
   "cell_type": "markdown",
   "metadata": {},
   "source": [
    "# Statistics\n",
    "\n",
    "The Python API client can also help report statistical summaries of the amount of data in the Planet API."
   ]
  },
  {
   "cell_type": "code",
   "execution_count": 29,
   "metadata": {},
   "outputs": [],
   "source": [
    "item_types = [\"PSScene3Band\"]\n",
    "san_francisco_filter = filters.geom_filter(geom)\n",
    "req = filters.build_search_request(san_francisco_filter, item_types, interval=\"year\")"
   ]
  },
  {
   "cell_type": "code",
   "execution_count": 30,
   "metadata": {},
   "outputs": [],
   "source": [
    "stats = client.stats(req).get()"
   ]
  },
  {
   "cell_type": "code",
   "execution_count": 31,
   "metadata": {},
   "outputs": [
    {
     "name": "stdout",
     "output_type": "stream",
     "text": [
      "{\n",
      "  \"utc_offset\": \"+0h\",\n",
      "  \"interval\": \"year\",\n",
      "  \"buckets\": [\n",
      "    {\n",
      "      \"count\": 3,\n",
      "      \"start_time\": \"2014-01-01T00:00:00.000000Z\"\n",
      "    },\n",
      "    {\n",
      "      \"count\": 54,\n",
      "      \"start_time\": \"2015-01-01T00:00:00.000000Z\"\n",
      "    },\n",
      "    {\n",
      "      \"count\": 204,\n",
      "      \"start_time\": \"2016-01-01T00:00:00.000000Z\"\n",
      "    },\n",
      "    {\n",
      "      \"count\": 1083,\n",
      "      \"start_time\": \"2017-01-01T00:00:00.000000Z\"\n",
      "    },\n",
      "    {\n",
      "      \"count\": 1207,\n",
      "      \"start_time\": \"2018-01-01T00:00:00.000000Z\"\n",
      "    }\n",
      "  ]\n",
      "}\n"
     ]
    }
   ],
   "source": [
    "p(stats)"
   ]
  },
  {
   "cell_type": "code",
   "execution_count": 32,
   "metadata": {},
   "outputs": [],
   "source": [
    "assets = client.get_assets(item)"
   ]
  },
  {
   "cell_type": "code",
   "execution_count": 33,
   "metadata": {},
   "outputs": [],
   "source": [
    "assets.last_modified()"
   ]
  },
  {
   "cell_type": "code",
   "execution_count": 34,
   "metadata": {},
   "outputs": [
    {
     "data": {
      "text/plain": [
       "{'analytic': {'_links': {'_self': 'https://api.planet.com/data/v1/assets/eyJpIjogIjIwMTgwOTIzXzIxMzMyOV8wZjRjIiwgImMiOiAiUFNTY2VuZTNCYW5kIiwgInQiOiAiYW5hbHl0aWMiLCAiY3QiOiAiaXRlbS10eXBlIn0',\n",
       "   'activate': 'https://api.planet.com/data/v1/assets/eyJpIjogIjIwMTgwOTIzXzIxMzMyOV8wZjRjIiwgImMiOiAiUFNTY2VuZTNCYW5kIiwgInQiOiAiYW5hbHl0aWMiLCAiY3QiOiAiaXRlbS10eXBlIn0/activate',\n",
       "   'type': 'https://api.planet.com/data/v1/asset-types/analytic'},\n",
       "  '_permissions': ['download'],\n",
       "  'md5_digest': None,\n",
       "  'status': 'inactive',\n",
       "  'type': 'analytic'},\n",
       " 'analytic_dn': {'_links': {'_self': 'https://api.planet.com/data/v1/assets/eyJpIjogIjIwMTgwOTIzXzIxMzMyOV8wZjRjIiwgImMiOiAiUFNTY2VuZTNCYW5kIiwgInQiOiAiYW5hbHl0aWNfZG4iLCAiY3QiOiAiaXRlbS10eXBlIn0',\n",
       "   'activate': 'https://api.planet.com/data/v1/assets/eyJpIjogIjIwMTgwOTIzXzIxMzMyOV8wZjRjIiwgImMiOiAiUFNTY2VuZTNCYW5kIiwgInQiOiAiYW5hbHl0aWNfZG4iLCAiY3QiOiAiaXRlbS10eXBlIn0/activate',\n",
       "   'type': 'https://api.planet.com/data/v1/asset-types/analytic_dn'},\n",
       "  '_permissions': ['download'],\n",
       "  'md5_digest': None,\n",
       "  'status': 'inactive',\n",
       "  'type': 'analytic_dn'},\n",
       " 'analytic_dn_xml': {'_links': {'_self': 'https://api.planet.com/data/v1/assets/eyJpIjogIjIwMTgwOTIzXzIxMzMyOV8wZjRjIiwgImMiOiAiUFNTY2VuZTNCYW5kIiwgInQiOiAiYW5hbHl0aWNfZG5feG1sIiwgImN0IjogIml0ZW0tdHlwZSJ9',\n",
       "   'activate': 'https://api.planet.com/data/v1/assets/eyJpIjogIjIwMTgwOTIzXzIxMzMyOV8wZjRjIiwgImMiOiAiUFNTY2VuZTNCYW5kIiwgInQiOiAiYW5hbHl0aWNfZG5feG1sIiwgImN0IjogIml0ZW0tdHlwZSJ9/activate',\n",
       "   'type': 'https://api.planet.com/data/v1/asset-types/analytic_dn_xml'},\n",
       "  '_permissions': ['download'],\n",
       "  'md5_digest': None,\n",
       "  'status': 'inactive',\n",
       "  'type': 'analytic_dn_xml'},\n",
       " 'analytic_xml': {'_links': {'_self': 'https://api.planet.com/data/v1/assets/eyJpIjogIjIwMTgwOTIzXzIxMzMyOV8wZjRjIiwgImMiOiAiUFNTY2VuZTNCYW5kIiwgInQiOiAiYW5hbHl0aWNfeG1sIiwgImN0IjogIml0ZW0tdHlwZSJ9',\n",
       "   'activate': 'https://api.planet.com/data/v1/assets/eyJpIjogIjIwMTgwOTIzXzIxMzMyOV8wZjRjIiwgImMiOiAiUFNTY2VuZTNCYW5kIiwgInQiOiAiYW5hbHl0aWNfeG1sIiwgImN0IjogIml0ZW0tdHlwZSJ9/activate',\n",
       "   'type': 'https://api.planet.com/data/v1/asset-types/analytic_xml'},\n",
       "  '_permissions': ['download'],\n",
       "  'md5_digest': None,\n",
       "  'status': 'inactive',\n",
       "  'type': 'analytic_xml'},\n",
       " 'basic_analytic': {'_links': {'_self': 'https://api.planet.com/data/v1/assets/eyJpIjogIjIwMTgwOTIzXzIxMzMyOV8wZjRjIiwgImMiOiAiUFNTY2VuZTNCYW5kIiwgInQiOiAiYmFzaWNfYW5hbHl0aWMiLCAiY3QiOiAiaXRlbS10eXBlIn0',\n",
       "   'activate': 'https://api.planet.com/data/v1/assets/eyJpIjogIjIwMTgwOTIzXzIxMzMyOV8wZjRjIiwgImMiOiAiUFNTY2VuZTNCYW5kIiwgInQiOiAiYmFzaWNfYW5hbHl0aWMiLCAiY3QiOiAiaXRlbS10eXBlIn0/activate',\n",
       "   'type': 'https://api.planet.com/data/v1/asset-types/basic_analytic'},\n",
       "  '_permissions': ['download'],\n",
       "  'md5_digest': None,\n",
       "  'status': 'inactive',\n",
       "  'type': 'basic_analytic'},\n",
       " 'basic_analytic_dn': {'_links': {'_self': 'https://api.planet.com/data/v1/assets/eyJpIjogIjIwMTgwOTIzXzIxMzMyOV8wZjRjIiwgImMiOiAiUFNTY2VuZTNCYW5kIiwgInQiOiAiYmFzaWNfYW5hbHl0aWNfZG4iLCAiY3QiOiAiaXRlbS10eXBlIn0',\n",
       "   'activate': 'https://api.planet.com/data/v1/assets/eyJpIjogIjIwMTgwOTIzXzIxMzMyOV8wZjRjIiwgImMiOiAiUFNTY2VuZTNCYW5kIiwgInQiOiAiYmFzaWNfYW5hbHl0aWNfZG4iLCAiY3QiOiAiaXRlbS10eXBlIn0/activate',\n",
       "   'type': 'https://api.planet.com/data/v1/asset-types/basic_analytic_dn'},\n",
       "  '_permissions': ['download'],\n",
       "  'md5_digest': None,\n",
       "  'status': 'inactive',\n",
       "  'type': 'basic_analytic_dn'},\n",
       " 'basic_analytic_dn_rpc': {'_links': {'_self': 'https://api.planet.com/data/v1/assets/eyJpIjogIjIwMTgwOTIzXzIxMzMyOV8wZjRjIiwgImMiOiAiUFNTY2VuZTNCYW5kIiwgInQiOiAiYmFzaWNfYW5hbHl0aWNfZG5fcnBjIiwgImN0IjogIml0ZW0tdHlwZSJ9',\n",
       "   'activate': 'https://api.planet.com/data/v1/assets/eyJpIjogIjIwMTgwOTIzXzIxMzMyOV8wZjRjIiwgImMiOiAiUFNTY2VuZTNCYW5kIiwgInQiOiAiYmFzaWNfYW5hbHl0aWNfZG5fcnBjIiwgImN0IjogIml0ZW0tdHlwZSJ9/activate',\n",
       "   'type': 'https://api.planet.com/data/v1/asset-types/basic_analytic_dn_rpc'},\n",
       "  '_permissions': ['download'],\n",
       "  'md5_digest': None,\n",
       "  'status': 'inactive',\n",
       "  'type': 'basic_analytic_dn_rpc'},\n",
       " 'basic_analytic_dn_xml': {'_links': {'_self': 'https://api.planet.com/data/v1/assets/eyJpIjogIjIwMTgwOTIzXzIxMzMyOV8wZjRjIiwgImMiOiAiUFNTY2VuZTNCYW5kIiwgInQiOiAiYmFzaWNfYW5hbHl0aWNfZG5feG1sIiwgImN0IjogIml0ZW0tdHlwZSJ9',\n",
       "   'activate': 'https://api.planet.com/data/v1/assets/eyJpIjogIjIwMTgwOTIzXzIxMzMyOV8wZjRjIiwgImMiOiAiUFNTY2VuZTNCYW5kIiwgInQiOiAiYmFzaWNfYW5hbHl0aWNfZG5feG1sIiwgImN0IjogIml0ZW0tdHlwZSJ9/activate',\n",
       "   'type': 'https://api.planet.com/data/v1/asset-types/basic_analytic_dn_xml'},\n",
       "  '_permissions': ['download'],\n",
       "  'md5_digest': None,\n",
       "  'status': 'inactive',\n",
       "  'type': 'basic_analytic_dn_xml'},\n",
       " 'basic_analytic_rpc': {'_links': {'_self': 'https://api.planet.com/data/v1/assets/eyJpIjogIjIwMTgwOTIzXzIxMzMyOV8wZjRjIiwgImMiOiAiUFNTY2VuZTNCYW5kIiwgInQiOiAiYmFzaWNfYW5hbHl0aWNfcnBjIiwgImN0IjogIml0ZW0tdHlwZSJ9',\n",
       "   'activate': 'https://api.planet.com/data/v1/assets/eyJpIjogIjIwMTgwOTIzXzIxMzMyOV8wZjRjIiwgImMiOiAiUFNTY2VuZTNCYW5kIiwgInQiOiAiYmFzaWNfYW5hbHl0aWNfcnBjIiwgImN0IjogIml0ZW0tdHlwZSJ9/activate',\n",
       "   'type': 'https://api.planet.com/data/v1/asset-types/basic_analytic_rpc'},\n",
       "  '_permissions': ['download'],\n",
       "  'md5_digest': None,\n",
       "  'status': 'inactive',\n",
       "  'type': 'basic_analytic_rpc'},\n",
       " 'basic_analytic_xml': {'_links': {'_self': 'https://api.planet.com/data/v1/assets/eyJpIjogIjIwMTgwOTIzXzIxMzMyOV8wZjRjIiwgImMiOiAiUFNTY2VuZTNCYW5kIiwgInQiOiAiYmFzaWNfYW5hbHl0aWNfeG1sIiwgImN0IjogIml0ZW0tdHlwZSJ9',\n",
       "   'activate': 'https://api.planet.com/data/v1/assets/eyJpIjogIjIwMTgwOTIzXzIxMzMyOV8wZjRjIiwgImMiOiAiUFNTY2VuZTNCYW5kIiwgInQiOiAiYmFzaWNfYW5hbHl0aWNfeG1sIiwgImN0IjogIml0ZW0tdHlwZSJ9/activate',\n",
       "   'type': 'https://api.planet.com/data/v1/asset-types/basic_analytic_xml'},\n",
       "  '_permissions': ['download'],\n",
       "  'md5_digest': None,\n",
       "  'status': 'inactive',\n",
       "  'type': 'basic_analytic_xml'},\n",
       " 'basic_udm': {'_links': {'_self': 'https://api.planet.com/data/v1/assets/eyJpIjogIjIwMTgwOTIzXzIxMzMyOV8wZjRjIiwgImMiOiAiUFNTY2VuZTNCYW5kIiwgInQiOiAiYmFzaWNfdWRtIiwgImN0IjogIml0ZW0tdHlwZSJ9',\n",
       "   'activate': 'https://api.planet.com/data/v1/assets/eyJpIjogIjIwMTgwOTIzXzIxMzMyOV8wZjRjIiwgImMiOiAiUFNTY2VuZTNCYW5kIiwgInQiOiAiYmFzaWNfdWRtIiwgImN0IjogIml0ZW0tdHlwZSJ9/activate',\n",
       "   'type': 'https://api.planet.com/data/v1/asset-types/basic_udm'},\n",
       "  '_permissions': ['download'],\n",
       "  'md5_digest': None,\n",
       "  'status': 'inactive',\n",
       "  'type': 'basic_udm'},\n",
       " 'udm': {'_links': {'_self': 'https://api.planet.com/data/v1/assets/eyJpIjogIjIwMTgwOTIzXzIxMzMyOV8wZjRjIiwgImMiOiAiUFNTY2VuZTNCYW5kIiwgInQiOiAidWRtIiwgImN0IjogIml0ZW0tdHlwZSJ9',\n",
       "   'activate': 'https://api.planet.com/data/v1/assets/eyJpIjogIjIwMTgwOTIzXzIxMzMyOV8wZjRjIiwgImMiOiAiUFNTY2VuZTNCYW5kIiwgInQiOiAidWRtIiwgImN0IjogIml0ZW0tdHlwZSJ9/activate',\n",
       "   'type': 'https://api.planet.com/data/v1/asset-types/udm'},\n",
       "  '_permissions': ['download'],\n",
       "  'md5_digest': None,\n",
       "  'status': 'inactive',\n",
       "  'type': 'udm'},\n",
       " 'visual': {'_links': {'_self': 'https://api.planet.com/data/v1/assets/eyJpIjogIjIwMTgwOTIzXzIxMzMyOV8wZjRjIiwgImMiOiAiUFNTY2VuZTNCYW5kIiwgInQiOiAidmlzdWFsIiwgImN0IjogIml0ZW0tdHlwZSJ9',\n",
       "   'activate': 'https://api.planet.com/data/v1/assets/eyJpIjogIjIwMTgwOTIzXzIxMzMyOV8wZjRjIiwgImMiOiAiUFNTY2VuZTNCYW5kIiwgInQiOiAidmlzdWFsIiwgImN0IjogIml0ZW0tdHlwZSJ9/activate',\n",
       "   'type': 'https://api.planet.com/data/v1/asset-types/visual'},\n",
       "  '_permissions': ['download'],\n",
       "  'md5_digest': None,\n",
       "  'status': 'inactive',\n",
       "  'type': 'visual'},\n",
       " 'visual_xml': {'_links': {'_self': 'https://api.planet.com/data/v1/assets/eyJpIjogIjIwMTgwOTIzXzIxMzMyOV8wZjRjIiwgImMiOiAiUFNTY2VuZTNCYW5kIiwgInQiOiAidmlzdWFsX3htbCIsICJjdCI6ICJpdGVtLXR5cGUifQ',\n",
       "   'activate': 'https://api.planet.com/data/v1/assets/eyJpIjogIjIwMTgwOTIzXzIxMzMyOV8wZjRjIiwgImMiOiAiUFNTY2VuZTNCYW5kIiwgInQiOiAidmlzdWFsX3htbCIsICJjdCI6ICJpdGVtLXR5cGUifQ/activate',\n",
       "   'type': 'https://api.planet.com/data/v1/asset-types/visual_xml'},\n",
       "  '_permissions': ['download'],\n",
       "  'md5_digest': None,\n",
       "  'status': 'inactive',\n",
       "  'type': 'visual_xml'}}"
      ]
     },
     "execution_count": 34,
     "metadata": {},
     "output_type": "execute_result"
    }
   ],
   "source": [
    "assets.get()"
   ]
  },
  {
   "cell_type": "code",
   "execution_count": null,
   "metadata": {},
   "outputs": [],
   "source": []
  }
 ],
 "metadata": {
  "kernelspec": {
   "display_name": "Python 3",
   "language": "python",
   "name": "python3"
  },
  "language_info": {
   "codemirror_mode": {
    "name": "ipython",
    "version": 3
   },
   "file_extension": ".py",
   "mimetype": "text/x-python",
   "name": "python",
   "nbconvert_exporter": "python",
   "pygments_lexer": "ipython3",
   "version": "3.6.3"
  }
 },
 "nbformat": 4,
 "nbformat_minor": 1
}
