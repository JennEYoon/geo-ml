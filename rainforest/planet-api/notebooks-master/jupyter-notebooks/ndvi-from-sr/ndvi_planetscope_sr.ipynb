{
 "cells": [
  {
   "cell_type": "markdown",
   "metadata": {},
   "source": [
    "# Deriving a vegetation index from PlanetScope SR data"
   ]
  },
  {
   "cell_type": "markdown",
   "metadata": {},
   "source": [
    "Researchers often use a vegetation index called NDVI to measure the \"greenness\" or density of vegetation across a landscape. In addition to monitoring vegetation health, NDVI _(Normalized Difference Vegetation Index)_ can be used to track climate change, agricultural production, desertification, and land cover change. Developed by NASA scientist Compton Tucker in 1977, NDVI is derived from satellite imagery and compares reflected near-infrared light to reflected visible red light. It can be expressed as following equation:"
   ]
  },
  {
   "cell_type": "markdown",
   "metadata": {},
   "source": [
    "![ndvi-equation.png](images/ndvi-equation.png)"
   ]
  },
  {
   "cell_type": "markdown",
   "metadata": {},
   "source": [
    "In general, healthy and/or dense vegetation reflects a lot of near-infrared light and not as much red visible light. Conversely, when vegetation is sparse or not-so-healthy, its near-infrared reflectance decreases and its red light reflectance increases. You can read more about how NDVI is used to study cyclical, seasonal, and long-term changes to the Earth's physical characteristics from [NASA](https://earthobservatory.nasa.gov/Features/MeasuringVegetation/measuring_vegetation_1.php) and [USGS](https://phenology.cr.usgs.gov/ndvi_foundation.php) researchers. "
   ]
  },
  {
   "cell_type": "markdown",
   "metadata": {},
   "source": [
    "To create this vegetation index, we're going to use PlanetScope's SR _(Surface Reflectance)_ data product. This data has been algorithmically corrected to remove atmospheric interference, and contains normalized Surface Reflectance values."
   ]
  },
  {
   "cell_type": "markdown",
   "metadata": {},
   "source": [
    "**In this guide, you'll perform a basic NDVI calculation on PlanetScope Surface Reflectance data using just a few lines of Python. Here are the steps:**\n",
    "\n",
    "1. Download a PlanetScope SR product\n",
    "2. Extract data from the red and near-infrared bands\n",
    "3. Perform the NDVI calculation\n",
    "4. Save the NDVI image\n",
    "5. Apply a color scheme and visualize NDVI on a map\n",
    "6. Generate a histogram to view NDVI values "
   ]
  },
  {
   "cell_type": "markdown",
   "metadata": {},
   "source": [
    "### Requirements\n",
    "- Python 3+\n",
    "- [Planet's Python Client](https://www.planet.com/docs/api-quickstart-examples/cli/)\n",
    "- [rasterio](https://github.com/mapbox/rasterio)\n",
    "- [numpy](http://www.numpy.org/)\n",
    "- [matplotlib](https://matplotlib.org/)\n",
    "- [Planet API Key](https://www.planet.com/account/#/), stored as environment variable `$PL_API_KEY`.\n",
    "- [Planet 4-Band Imagery](https://www.planet.com/docs/imagery-quickstart/) with the following specifications: `item-type`: `PSScene4Band`; `asset-type`: `analytic_sr`"
   ]
  },
  {
   "cell_type": "markdown",
   "metadata": {},
   "source": [
    "## Step 1. Download a PlanetScope SR Product "
   ]
  },
  {
   "cell_type": "markdown",
   "metadata": {},
   "source": [
    "First, you're going to download a [4-band PlanetScope Surface Reflectance product](https://www.planet.com/docs/spec-sheets/sat-imagery/#ps-imagery-product) of agricultural land in California's Central Valley, captured in late August 2016 (`item-id`: `20160831_180302_0e26`). You can do this using [Planet's Python client](https://www.planet.com/docs/api-quickstart-examples/cli/) to interact with our Data API, or by browsing [Planet Explorer](https://www.planet.com/products/explorer/), filtering for 4 Band PlanetScope scene (`PSScene4Band`), and downloading an `analytic_sr` asset.\n",
    "\n",
    "Before you download the full image, you can [preview a thumbnail](https://www.planet.com/docs/reference/data-api/previews/) of the image via Planet's Data API. (The thumbnails are 256x256 by default, and can be scaled up to 512x512 by passing in a `width` parameter.) "
   ]
  },
  {
   "cell_type": "code",
   "execution_count": 1,
   "metadata": {},
   "outputs": [
    {
     "data": {
      "text/html": [
       "<img src=\"https://api.planet.com/data/v1/item-types/PSScene4Band/items/20160831_180302_0e26/thumb?width=512\"/>"
      ],
      "text/plain": [
       "<IPython.core.display.Image object>"
      ]
     },
     "execution_count": 1,
     "metadata": {},
     "output_type": "execute_result"
    }
   ],
   "source": [
    "from IPython.display import Image\n",
    "Image(url=\"https://api.planet.com/data/v1/item-types/PSScene4Band/items/20160831_180302_0e26/thumb?width=512\")"
   ]
  },
  {
   "cell_type": "markdown",
   "metadata": {},
   "source": [
    "Next, you'll use [Planet's Python client](https://planetlabs.github.io/planet-client-python/index.html) to download the image. *Note: when you run this command, you'll get a stream of messages in your Jupyter notebook as the Python client polls the Data API to determine if the image is [activated and ready to download](https://www.planet.com/docs/api-quickstart-examples/step-2-download/#activate).*"
   ]
  },
  {
   "cell_type": "code",
   "execution_count": 2,
   "metadata": {
    "scrolled": true
   },
   "outputs": [
    {
     "name": "stdout",
     "output_type": "stream",
     "text": [
      "psscene4band\n",
      "analytic_sr\n",
      "\u001b[2J\u001b[1;1H\u001b[2J\u001b[1;1H\u001b[30;47mactivating: 0            complete: 0              elapsed: 0                    \n",
      "paging: False            pending: 0                                             \u001b[39;49m\n",
      "\n",
      "\u001b[2J\u001b[1;1H\u001b[30;47mactivating: 0            complete: 0              elapsed: 1                    \n",
      "paging: False            pending: 0                                             \u001b[39;49m\n",
      "\n",
      "\u001b[2J\u001b[1;1H\u001b[30;47mactivating: 1            complete: 0              downloaded: 0.00MB            \n",
      "downloading: 0           elapsed: 2               paging: True                  \n",
      "pending: 0                                                                      \u001b[39;49m\n",
      "\n",
      "\u001b[2J\u001b[1;1H\u001b[30;47mactivating: 1            complete: 0              downloaded: 0.00MB            \n",
      "downloading: 0           elapsed: 3               paging: False                 \n",
      "pending: 0                                                                      \u001b[39;49m\n",
      "\n",
      "\u001b[2J\u001b[1;1H\u001b[30;47mactivating: 0            complete: 0              downloaded: 0.00MB            \n",
      "downloading: 1           elapsed: 4               paging: False                 \n",
      "pending: 0                                                                      \u001b[39;49m\n",
      "\n",
      "\u001b[2J\u001b[1;1H\u001b[30;47mactivating: 0            complete: 0              downloaded: 0.00MB            \n",
      "downloading: 1           elapsed: 5               paging: False                 \n",
      "pending: 0                                                                      \u001b[39;49m\n",
      "\n",
      "\u001b[2J\u001b[1;1H\u001b[30;47mactivating: 0            complete: 0              downloaded: 0.00MB            \n",
      "downloading: 1           elapsed: 6               paging: False                 \n",
      "pending: 0                                                                      \u001b[39;49m\n",
      "\n",
      "\u001b[2J\u001b[1;1H\u001b[30;47mactivating: 0            complete: 0              downloaded: 0.00MB            \n",
      "downloading: 1           elapsed: 6               paging: False                 \n",
      "pending: 0                                                                      \u001b[39;49m\n",
      "\n"
     ]
    }
   ],
   "source": [
    "!planet data download --item-type PSScene4Band --asset-type analytic_sr \\\n",
    "                      --dest data --string-in id 20160831_180302_0e26"
   ]
  },
  {
   "cell_type": "markdown",
   "metadata": {},
   "source": [
    "**Congratulations!** You now have a new file in your `data` directory: `20160831_180302_0e26_3B_AnalyticMS_SR.tif`. This file is a GeoTIFF, the image you requested with spatial reference data embedded. "
   ]
  },
  {
   "cell_type": "markdown",
   "metadata": {},
   "source": [
    "## Step 2. Extract the data from the red and near-infrared bands "
   ]
  },
  {
   "cell_type": "markdown",
   "metadata": {},
   "source": [
    "In this step, you'll use [Rasterio](https://github.com/mapbox/rasterio), a Python library for reading and writing geospatial raster datasets, to open the raster image you downloaded (the .tif file). Then you'll extract the data from the red and near-infrared bands and load the band data into arrays that you can manipulate using Python's [NumPy](http://www.numpy.org/) libary. \n",
    "\n",
    "*Note: in PlanetScope 4-band images, the band order is BGRN: (1) Blue, (2) Green, (3) Red, (4) Near-infrared.*"
   ]
  },
  {
   "cell_type": "code",
   "execution_count": 3,
   "metadata": {},
   "outputs": [],
   "source": [
    "import rasterio\n",
    "import numpy as np\n",
    "\n",
    "filename = \"data/20160831_180302_0e26_3B_AnalyticMS_SR.tif\"\n",
    "\n",
    "# Load red and NIR bands - note all PlanetScope 4-band images have band order BGRN\n",
    "with rasterio.open(filename) as src:\n",
    "    band_red = src.read(3)\n",
    "\n",
    "with rasterio.open(filename) as src:\n",
    "    band_nir = src.read(4)"
   ]
  },
  {
   "cell_type": "markdown",
   "metadata": {},
   "source": [
    " "
   ]
  },
  {
   "cell_type": "markdown",
   "metadata": {},
   "source": [
    "## Step 3. Perform the NDVI calculation"
   ]
  },
  {
   "cell_type": "markdown",
   "metadata": {},
   "source": [
    "Next, you're going to calculate NDVI through subtraction and division of the values stored in the NumPy arrays. This calculation will give you NDVI values that range from -1 to 1. Values closer to 1 indicate a greater density of vegetation or higher level of \"greenness.\""
   ]
  },
  {
   "cell_type": "code",
   "execution_count": 4,
   "metadata": {},
   "outputs": [],
   "source": [
    "# Allow division by zero\n",
    "np.seterr(divide='ignore', invalid='ignore')\n",
    "\n",
    "# Calculate NDVI. This is the equation at the top of this guide expressed in code\n",
    "ndvi = (band_nir.astype(float) - band_red.astype(float)) / (band_nir + band_red)"
   ]
  },
  {
   "cell_type": "code",
   "execution_count": 5,
   "metadata": {},
   "outputs": [
    {
     "data": {
      "text/plain": [
       "(-0.4971605575632421, 0.8841409691629956)"
      ]
     },
     "execution_count": 5,
     "metadata": {},
     "output_type": "execute_result"
    }
   ],
   "source": [
    "# check range NDVI values, excluding NaN\n",
    "np.nanmin(ndvi), np.nanmax(ndvi)"
   ]
  },
  {
   "cell_type": "markdown",
   "metadata": {},
   "source": [
    "## Step 5. Save the NDVI image "
   ]
  },
  {
   "cell_type": "markdown",
   "metadata": {},
   "source": [
    "Next, you're going to save the calculated NDVI values to a new image file, making sure the new image file has the same geospatial metadata as the original GeoTIFF we downloaded."
   ]
  },
  {
   "cell_type": "code",
   "execution_count": 6,
   "metadata": {},
   "outputs": [],
   "source": [
    "# Set spatial characteristics of the output object to mirror the input\n",
    "kwargs = src.meta\n",
    "kwargs.update(\n",
    "    dtype=rasterio.float32,\n",
    "    count = 1)\n",
    "\n",
    "# Write band calculations to a new raster file\n",
    "with rasterio.open('output/ndvi.tif', 'w', **kwargs) as dst:\n",
    "        dst.write_band(1, ndvi.astype(rasterio.float32))"
   ]
  },
  {
   "cell_type": "markdown",
   "metadata": {},
   "source": [
    "## Step 6. Apply a color scheme to visualize the NDVI values on the image"
   ]
  },
  {
   "cell_type": "markdown",
   "metadata": {},
   "source": [
    "In the last two steps, you'll use [Matplotlib](https://matplotlib.org/) to visualize the NDVI values you calculated for the PlanetScope scene. First you'll view a map of the NDVI values; then you'll generate a histogram of NDVI values. "
   ]
  },
  {
   "cell_type": "code",
   "execution_count": 7,
   "metadata": {},
   "outputs": [
    {
     "data": {
      "text/plain": [
       "<Figure size 2000x1000 with 2 Axes>"
      ]
     },
     "metadata": {},
     "output_type": "display_data"
    }
   ],
   "source": [
    "import matplotlib.pyplot as plt\n",
    "import matplotlib.colors as colors\n",
    "\n",
    "\"\"\"\n",
    "The NDVI values will range from -1 to 1. You want to use a diverging color scheme to visualize the data,\n",
    "and you want to center the colorbar at a defined midpoint. The class below allows you to normalize the colorbar.\n",
    "\"\"\"\n",
    "\n",
    "class MidpointNormalize(colors.Normalize):\n",
    "    \"\"\"\n",
    "    Normalise the colorbar so that diverging bars work there way either side from a prescribed midpoint value)\n",
    "    e.g. im=ax1.imshow(array, norm=MidpointNormalize(midpoint=0.,vmin=-100, vmax=100))\n",
    "    Credit: Joe Kington, http://chris35wills.github.io/matplotlib_diverging_colorbar/\n",
    "    \"\"\"\n",
    "    def __init__(self, vmin=None, vmax=None, midpoint=None, clip=False):\n",
    "        self.midpoint = midpoint\n",
    "        colors.Normalize.__init__(self, vmin, vmax, clip)\n",
    "\n",
    "    def __call__(self, value, clip=None):\n",
    "        # I'm ignoring masked values and all kinds of edge cases to make a\n",
    "        # simple example...\n",
    "        x, y = [self.vmin, self.midpoint, self.vmax], [0, 0.5, 1]\n",
    "        return np.ma.masked_array(np.interp(value, x, y), np.isnan(value))\n",
    "\n",
    "\n",
    "# Set min/max values from NDVI range for image (excluding NAN)\n",
    "# set midpoint according to how NDVI is interpreted: https://earthobservatory.nasa.gov/Features/MeasuringVegetation/\n",
    "min=np.nanmin(ndvi)\n",
    "max=np.nanmax(ndvi)\n",
    "mid=0.1\n",
    "\n",
    "fig = plt.figure(figsize=(20,10))\n",
    "ax = fig.add_subplot(111)\n",
    "\n",
    "# diverging color scheme chosen from https://matplotlib.org/users/colormaps.html\n",
    "cmap = plt.cm.RdYlGn \n",
    "\n",
    "cax = ax.imshow(ndvi, cmap=cmap, clim=(min, max), norm=MidpointNormalize(midpoint=mid,vmin=min, vmax=max))\n",
    "\n",
    "ax.axis('off')\n",
    "ax.set_title('Normalized Difference Vegetation Index', fontsize=18, fontweight='bold')\n",
    "\n",
    "cbar = fig.colorbar(cax, orientation='horizontal', shrink=0.65)\n",
    "\n",
    "fig.savefig(\"output/ndvi-fig.png\", dpi=200, bbox_inches='tight', pad_inches=0.7)\n",
    "\n",
    "plt.show()"
   ]
  },
  {
   "cell_type": "markdown",
   "metadata": {
    "collapsed": true
   },
   "source": [
    "## 7. Generate a histogram of NDVI values"
   ]
  },
  {
   "cell_type": "code",
   "execution_count": 8,
   "metadata": {},
   "outputs": [
    {
     "data": {
      "image/png": "[encoded data removed]",
      "text/plain": [
       "<Figure size 720x720 with 1 Axes>"
      ]
     },
     "metadata": {},
     "output_type": "display_data"
    }
   ],
   "source": [
    "fig2 = plt.figure(figsize=(10,10))\n",
    "ax = fig2.add_subplot(111)\n",
    "\n",
    "plt.title(\"NDVI Histogram\", fontsize=18, fontweight='bold')\n",
    "plt.xlabel(\"NDVI values\", fontsize=14)\n",
    "plt.ylabel(\"# pixels\", fontsize=14)\n",
    "\n",
    "\n",
    "x = ndvi[~np.isnan(ndvi)]\n",
    "numBins = 20\n",
    "ax.hist(x,numBins,color='green',alpha=0.8)\n",
    "\n",
    "fig2.savefig(\"output/ndvi-histogram.png\", dpi=200, bbox_inches='tight', pad_inches=0.7)\n",
    "\n",
    "plt.show()"
   ]
  }
 ],
 "metadata": {
  "kernelspec": {
   "display_name": "Python 3",
   "language": "python",
   "name": "python3"
  },
  "language_info": {
   "codemirror_mode": {
    "name": "ipython",
    "version": 3
   },
   "file_extension": ".py",
   "mimetype": "text/x-python",
   "name": "python",
   "nbconvert_exporter": "python",
   "pygments_lexer": "ipython3",
   "version": "3.6.6"
  }
 },
 "nbformat": 4,
 "nbformat_minor": 1
}
