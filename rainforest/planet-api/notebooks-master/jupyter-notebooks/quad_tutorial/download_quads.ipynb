{
 "cells": [
  {
   "cell_type": "markdown",
   "metadata": {},
   "source": [
    "# Download Quads from a Mosiac Using Basemaps API#\n",
    "---\n",
    "\n",
    "## Overview ##\n",
    "---\n",
    "The purpose of this tutorial is to provide a user-friendly way to use Planet's Basemaps API to download all quads to a folder in their directory."
   ]
  },
  {
   "cell_type": "markdown",
   "metadata": {},
   "source": [
    "## Table of Contents\n",
    "\n",
    "---\n",
    "\n",
    "* **[How to Get Started](#how-to-get-started)**\n",
    "    * Imports and Packages\n",
    "    \n",
    "* **[Setup Session Using Basemaps API](#setup-session)**\n",
    "    * Create session to access API\n",
    "    * Send request and check status code\n",
    "    \n",
    "* **[Access Mosaic Metadata](#mosaic-meta)**\n",
    "    * Further examine the json object\n",
    "    * Get id and bbox values from mosaic \n",
    "    \n",
    "* **[Search for Mosaic Quads Using Area of Interest](#search-quads)**\n",
    "    * Setup request for quads to basemaps API\n",
    "    * Quads metadata\n",
    "    \n",
    "* **[Download and Save Quads to Directory](#save-quads)**\n",
    "    * Iterate over quad download links and save as individual files\n",
    "\n",
    "* **[Conclusion](#conclusion)**"
   ]
  },
  {
   "cell_type": "markdown",
   "metadata": {},
   "source": [
    "<a name=\"how-to-get-started\"></a> \n",
    "## How To Get Started\n",
    "---\n",
    "Before we jump into downloading the quads, let's quickly review the required packages for utilizing this tutorial."
   ]
  },
  {
   "cell_type": "markdown",
   "metadata": {},
   "source": [
    "### Imports\n",
    "\n",
    "* requests\n",
    "* os\n",
    "* json\n",
    "* Your Planet API Key\n",
    "* urllib.request"
   ]
  },
  {
   "cell_type": "markdown",
   "metadata": {},
   "source": [
    "<a name=\"setup-session\"></a> \n",
    "## Setup Session Using Basemaps API\n",
    "---\n",
    "The first step is to setup a session to access the basemaps API. The basemaps API can be used to download full mosaics, or in our case, to download individual parts of the mosaic known as quads. "
   ]
  },
  {
   "cell_type": "markdown",
   "metadata": {},
   "source": [
    "### Create Session to Access API\n",
    "---\n",
    "In order to access the basemaps API, we need a Planet API key for successful authentication. In this case, the API key is saved to a config file and imported into the python script, but feel free to use your API key directly in the notebook if you are following along."
   ]
  },
  {
   "cell_type": "code",
   "execution_count": 26,
   "metadata": {},
   "outputs": [],
   "source": [
    "import requests\n",
    "import config\n",
    "\n",
    "#setup API KEY\n",
    "PLANET_API_KEY = '' # <= insert API key here \n",
    "#setup Planet base URL\n",
    "API_URL = \"https://api.planet.com/basemaps/v1/mosaics\"\n",
    "#setup session\n",
    "session = requests.Session()\n",
    "#authenticate\n",
    "session.auth = (config.PLANET_API_KEY, \"\") #<= change to match variable for API Key if needed"
   ]
  },
  {
   "cell_type": "markdown",
   "metadata": {},
   "source": [
    "### Send Request and Check Status Code\n",
    "---\n",
    "When sending the request, we will provide one parameter. Assuming we know the name of the mosaic, we can include those details in the request to access the corresponding metadata. After sending the request, let's check the status code to ensure it was successful."
   ]
  },
  {
   "cell_type": "code",
   "execution_count": 4,
   "metadata": {},
   "outputs": [
    {
     "name": "stdout",
     "output_type": "stream",
     "text": [
      "200\n"
     ]
    }
   ],
   "source": [
    "#set params for search using name of mosaic\n",
    "parameters = {\n",
    "    \"name__is\" :\"nsw_ps_1month_date_ramp_L15_mosaic\" # <= customize to your use case\n",
    "}\n",
    "#make get request to access mosaic from basemaps API\n",
    "res = session.get(API_URL, params = parameters)\n",
    "#response status code\n",
    "print(res.status_code)"
   ]
  },
  {
   "cell_type": "markdown",
   "metadata": {},
   "source": [
    "<a name=\"mosaic-meta\"></a> \n",
    "## Access Mosaic MetaData\n",
    "---\n",
    "The metadata for each mosaic is necessary to access the quads. Specifically, we need to extract the mosaic id and bbox to search for the quads within our area of interest. In this tutorial we are using the AOI from the entire mosaic to download all quads, but those values can be customized for your use case.\n"
   ]
  },
  {
   "cell_type": "markdown",
   "metadata": {},
   "source": [
    "### Further Examine the JSON Object\n"
   ]
  },
  {
   "cell_type": "code",
   "execution_count": 6,
   "metadata": {},
   "outputs": [
    {
     "name": "stdout",
     "output_type": "stream",
     "text": [
      "{\n",
      "  \"_links\": {\n",
      "    \"_self\": \"https://api.planet.com/basemaps/v1/mosaics?api_key=06755eb6ce744dd08d99604c52d2dbc5\"\n",
      "  },\n",
      "  \"mosaics\": [\n",
      "    {\n",
      "      \"_links\": {\n",
      "        \"_self\": \"https://api.planet.com/basemaps/v1/mosaics/e8cd50a5-e9dc-4278-a8f3-1c2475b452c5?api_key=06755eb6ce744dd08d99604c52d2dbc5\",\n",
      "        \"quads\": \"https://api.planet.com/basemaps/v1/mosaics/e8cd50a5-e9dc-4278-a8f3-1c2475b452c5/quads?api_key=06755eb6ce744dd08d99604c52d2dbc5&bbox={lx},{ly},{ux},{uy}\",\n",
      "        \"tiles\": \"https://tiles.planet.com/basemaps/v1/planet-tiles/nsw_ps_1month_date_ramp_L15_mosaic/gmap/{z}/{x}/{y}.png?api_key=06755eb6ce744dd08d99604c52d2dbc5\"\n",
      "      },\n",
      "      \"bbox\": [\n",
      "        141,\n",
      "        -38,\n",
      "        154,\n",
      "        -28\n",
      "      ],\n",
      "      \"coordinate_system\": \"EPSG:3857\",\n",
      "      \"datatype\": \"byte\",\n",
      "      \"first_acquired\": \"2017-08-25T00:00:00.000Z\",\n",
      "      \"grid\": {\n",
      "        \"quad_size\": 2048,\n",
      "        \"resolution\": 4.777314267823516\n",
      "      },\n",
      "      \"id\": \"e8cd50a5-e9dc-4278-a8f3-1c2475b452c5\",\n",
      "      \"item_types\": [\n",
      "        \"PSScene3Band\"\n",
      "      ],\n",
      "      \"last_acquired\": \"2017-09-25T00:00:00.000Z\",\n",
      "      \"level\": 15,\n",
      "      \"name\": \"nsw_ps_1month_date_ramp_L15_mosaic\",\n",
      "      \"product_type\": \"basemap\",\n",
      "      \"quad_download\": true\n",
      "    }\n",
      "  ]\n",
      "}\n"
     ]
    }
   ],
   "source": [
    "import json\n",
    "\n",
    "#print metadata for mosaic\n",
    "mosaic = res.json()\n",
    "print(json.dumps(mosaic, indent=2))"
   ]
  },
  {
   "cell_type": "markdown",
   "metadata": {},
   "source": [
    "### Get ID and Bbox Values from Mosaic"
   ]
  },
  {
   "cell_type": "code",
   "execution_count": 23,
   "metadata": {},
   "outputs": [
    {
     "name": "stdout",
     "output_type": "stream",
     "text": [
      "Mosaic id: e8cd50a5-e9dc-4278-a8f3-1c2475b452c5\n",
      "Mosaic bbox: 141,-38,154,-28\n"
     ]
    }
   ],
   "source": [
    "#get id\n",
    "mosaic_id = mosaic['mosaics'][0]['id']\n",
    "#get bbox for entire mosaic\n",
    "mosaic_bbox = mosaic['mosaics'][0]['bbox']\n",
    "#converting bbox to string for search params\n",
    "string_bbox = ','.join(map(str, mosaic_bbox))\n",
    "\n",
    "print('Mosaic id: '+ mosaic_id)\n",
    "print('Mosaic bbox: '+ string_bbox)"
   ]
  },
  {
   "cell_type": "markdown",
   "metadata": {},
   "source": [
    "<a name=\"search-quads\"></a> \n",
    "## Search for Mosaic Quads using AOI\n",
    "---\n",
    "Now that we have the required metadata, we can send a request to the API for the mosaic's quads. Each quad comes with a download link that we use to save them to our local directory. "
   ]
  },
  {
   "cell_type": "markdown",
   "metadata": {},
   "source": [
    "### Setup Request for Quads to Basemaps API\n",
    "---\n",
    "We will provide two parameters, a string of bbox values and minimal set to \"True\". The bbox values are required to send the request. The minimal parameter is optional, but we included it because it hides the metadata we don't need for this use case. Lastly, we include the mosaic id in the request url to access quads for this specific mosaic."
   ]
  },
  {
   "cell_type": "code",
   "execution_count": 14,
   "metadata": {},
   "outputs": [
    {
     "name": "stdout",
     "output_type": "stream",
     "text": [
      "200\n"
     ]
    }
   ],
   "source": [
    "#search for mosaic quad using AOI\n",
    "search_parameters = {\n",
    "    'bbox': string_bbox,\n",
    "    'minimal': True\n",
    "}\n",
    "#accessing quads using metadata from mosaic\n",
    "quads_url = \"{}/{}/quads\".format(API_URL, mosaic_id)\n",
    "res = session.get(quads_url, params=search_parameters, stream=True)\n",
    "print(res.status_code)"
   ]
  },
  {
   "cell_type": "markdown",
   "metadata": {},
   "source": [
    "### Quads Metadata\n",
    "---\n",
    "The quad response object contains the download link and bbox values for each portion of the grid. Each quad also has a unique identifier which we will use to name the quads as we save them to our local directory."
   ]
  },
  {
   "cell_type": "code",
   "execution_count": 16,
   "metadata": {},
   "outputs": [
    {
     "name": "stdout",
     "output_type": "stream",
     "text": [
      "{\n",
      "  \"_links\": {\n",
      "    \"download\": \"https://api.planet.com/basemaps/v1/mosaics/e8cd50a5-e9dc-4278-a8f3-1c2475b452c5/quads/3794-1715/full?api_key=06755eb6ce744dd08d99604c52d2dbc5\"\n",
      "  },\n",
      "  \"bbox\": [\n",
      "    153.45703125,\n",
      "    -28.07198030177986,\n",
      "    153.544921875,\n",
      "    -27.994401411046145\n",
      "  ],\n",
      "  \"id\": \"3794-1715\",\n",
      "  \"percent_covered\": null\n",
      "}\n"
     ]
    }
   ],
   "source": [
    "quads = res.json()\n",
    "items = quads['items']\n",
    "#printing an example of quad metadata\n",
    "print(json.dumps(items[0], indent=2))"
   ]
  },
  {
   "cell_type": "markdown",
   "metadata": {},
   "source": [
    "<a name=\"save-quads\"></a> \n",
    "\n",
    "## Download Quads to Local Directory\n",
    "---\n",
    "The final step to this tutorial is taking the download link from the metadata and saving those files to your local directory by id number. We do this by iterating over the json object and using urllib to retrieve the file via the download link."
   ]
  },
  {
   "cell_type": "code",
   "execution_count": 25,
   "metadata": {},
   "outputs": [],
   "source": [
    "import os\n",
    "import urllib.request\n",
    "\n",
    "#iterate over quad download links and saving to folder by id\n",
    "for i in items:\n",
    "    link = i['_links']['download']\n",
    "    name = i['id']\n",
    "    name = name + '.tiff'\n",
    "    DIR = 'quads/' # <= a directory i created, feel free to customize\n",
    "    filename = os.path.join(DIR, name)\n",
    "\n",
    "    #checks if file already exists before s\n",
    "    if not os.path.isfile(filename):\n",
    "        urllib.request.urlretrieve(link, filename)"
   ]
  },
  {
   "cell_type": "markdown",
   "metadata": {},
   "source": [
    "## Conclusion\n",
    "---\n",
    "After a few simple steps, we now have a folder full of quads within our local directory. Check out our [Planet Basemaps API Documentation](https://developers.planet.com/docs/basemaps/reference/) to learn more. If you'd like to access the full .py script, follow this [link](download_quad.py).\n",
    "\n",
    "Questions or comments about this guide? Join the conversation at [Planet Community](https://support.planet.com/hc/en-us/community/topics)."
   ]
  }
 ],
 "metadata": {
  "kernelspec": {
   "display_name": "Python 3",
   "language": "python",
   "name": "python3"
  },
  "language_info": {
   "codemirror_mode": {
    "name": "ipython",
    "version": 3
   },
   "file_extension": ".py",
   "mimetype": "text/x-python",
   "name": "python",
   "nbconvert_exporter": "python",
   "pygments_lexer": "ipython3",
   "version": "3.8.5"
  }
 },
 "nbformat": 4,
 "nbformat_minor": 4
}
