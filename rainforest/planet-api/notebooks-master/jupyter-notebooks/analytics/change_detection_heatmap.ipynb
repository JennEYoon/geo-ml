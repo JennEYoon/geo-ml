{
 "cells": [
  {
   "cell_type": "markdown",
   "metadata": {},
   "source": [
    "# Creating a Heatmap of Vector Results"
   ]
  },
  {
   "cell_type": "markdown",
   "metadata": {},
   "source": [
    "In this notebook, you'll learn how to use Planet's [Analytics API](https://developers.planet.com/docs/analytics/) to display a heatmap of vector analytic results, specifically buildng change detections. This can be used to identify where the most change is happining.\n",
    "\n",
    "## Setup\n",
    "\n",
    "\n",
    "### Install additional dependencies\n",
    "\n",
    "Install `cartopy` v0.18 beta, so that we can render OSM tiles under the heatmap:"
   ]
  },
  {
   "cell_type": "code",
   "execution_count": null,
   "metadata": {},
   "outputs": [],
   "source": [
    "!pip install cython\n",
    "!pip install https://github.com/SciTools/cartopy/archive/v0.18.0.zip\n"
   ]
  },
  {
   "cell_type": "markdown",
   "metadata": {},
   "source": [
    "### API configuration\n",
    "\n",
    "Before getting items from the API, you must set your `API_KEY` and the `SUBSCRIPTION_ID` of the change detection subscription to use.\n",
    "If you want to limit the heatmap to a specific time range, also set `TIMES` to a [valid time range](https://developers.planet.com/docs/analytics/reference/#tag/Results%2Fpaths%2F~1collections~1%7BsubscriptionID%7D~1items~1%2Fget)."
   ]
  },
  {
   "cell_type": "code",
   "execution_count": null,
   "metadata": {},
   "outputs": [],
   "source": [
    "import os\n",
    "import requests\n",
    "\n",
    "API_KEY = os.environ[\"PL_API_KEY\"]\n",
    "SUBSCRIPTION_ID = \"...\"\n",
    "TIMES = None\n",
    "\n",
    "planet = requests.session()\n",
    "planet.auth = (API_KEY, '')"
   ]
  },
  {
   "cell_type": "markdown",
   "metadata": {},
   "source": [
    "## Fetch Items\n",
    "\n",
    "Next, we fetch the items from the API in batches of 500 items, and return only the relevant data - the centroid and the area. This might take a few minutes to run, as some change detection feeds have thousands of items."
   ]
  },
  {
   "cell_type": "code",
   "execution_count": null,
   "metadata": {},
   "outputs": [],
   "source": [
    "import requests\n",
    "import statistics\n",
    "\n",
    "def get_next_url(result):\n",
    "    if '_links' in result:\n",
    "        return result['_links'].get('_next')\n",
    "    elif 'links' in result:\n",
    "        for link in result['links']:\n",
    "            if link['rel'] == 'next':\n",
    "                return link['href']\n",
    "\n",
    "def get_items_from_sif():\n",
    "    url = 'https://api.planet.com/analytics/collections/{}/items?limit={}'.format(\n",
    "        SUBSCRIPTION_ID, 500)\n",
    "    if TIMES:\n",
    "        url += '&datetime={}'.format(TIMES)\n",
    "\n",
    "    print(\"Fetching items from \" + url)\n",
    "    result = planet.get(url).json()\n",
    "    \n",
    "    items = []\n",
    "    while len(result.get('features', [])) > 0:\n",
    "        for f in result['features']:\n",
    "            coords = f['geometry']['coordinates'][0]\n",
    "            items.append({\n",
    "                'lon': statistics.mean([c[0] for c in coords]),\n",
    "                'lat': statistics.mean([c[1] for c in coords]),\n",
    "                'area': f['properties']['object_area_m2']\n",
    "            })\n",
    "        url = get_next_url(result)\n",
    "        if not url:\n",
    "            return items\n",
    "        print(\"Fetching items from \" + url)\n",
    "        result = planet.get(url).json()\n",
    "\n",
    "items = get_items_from_sif()\n",
    "print(\"Fetched \" + str(len(items)) + \" items\")",
    "\n",
    "# Get the bounding box coordinates of this AOI.\n",
    "url = 'https://api.planet.com/analytics/subscriptions/{}'.format(SUBSCRIPTION_ID)\n",
    "result = planet.get(url).json()\n",
    "geometry = result['geometry']\n"
   ]
  },
  {
   "cell_type": "markdown",
   "metadata": {},
   "source": [
    "## Displaying the Heatmap\n",
    "\n",
    "Once you've fetched all the items, you are nearly ready to display them as a heatmap.\n",
    "\n",
    "### Coordinate Systems\n",
    "\n",
    "The items fetched from the API are in WGS84 (lat/lon) coordinates. However, it can be useful to display the data in  an equal area projection like EPSG:3857 so that the heatmap shows change per square meter.\n",
    "\n",
    "To do this, we use [pyproj](https://pyproj4.github.io/pyproj/stable/index.html) to transfrom the item coordinates between projections."
   ]
  },
  {
   "cell_type": "code",
   "execution_count": null,
   "metadata": {},
   "outputs": [],
   "source": [
    "import pyproj\n",
    "\n",
    "SRC_PROJ = 'EPSG:4326'\n",
    "DEST_PROJ = 'EPSG:3857'\n",
    "PROJ_UNITS = 'm'\n",
    "\n",
    "transformer = pyproj.Transformer.from_crs(SRC_PROJ, DEST_PROJ, always_xy=True)"
   ]
  },
  {
   "cell_type": "markdown",
   "metadata": {},
   "source": [
    "### Colormap\n",
    "\n",
    "Matplotlib provides a number of colormaps that are useful to render heatmaps. However, all of these are solid color - in order to see an underlying map, we need to add an alpha chanel.\n",
    "\n",
    "For this example, we will use the \"plasma\" colormap, and add a transparent gradient to the first half of the map, so that it starts out completely transparent, and gradually becomes opaque, such that all values above the midpoint have no transparency."
   ]
  },
  {
   "cell_type": "code",
   "execution_count": null,
   "metadata": {},
   "outputs": [],
   "source": [
    "import matplotlib.pylab as pl\n",
    "import numpy as np\n",
    "from matplotlib.colors import ListedColormap\n",
    "\n",
    "src_colormap = pl.cm.plasma\n",
    "alpha_vals = src_colormap(np.arange(src_colormap.N))\n",
    "alpha_vals[:int(src_colormap.N/2),-1] = np.linspace(0, 1, int(src_colormap.N/2))\n",
    "alpha_vals[int(src_colormap.N/2):src_colormap.N,-1] = 1\n",
    "alpha_colormap = ListedColormap(alpha_vals)"
   ]
  },
  {
   "cell_type": "markdown",
   "metadata": {},
   "source": [
    "### Heatmap configuration\n",
    "\n",
    "**Note**: These final four sections are presented together in one code block, to make it easier to re-run with different configurations of bounds or intervals.\n",
    "\n",
    "Set `BOUNDS` to the area of interest to display `(min lon,max lon,min lat,max lat)`. The default bounds are centered on Sydney, Australia - you should change this to match the AOI of your change detection subscription feed.\n",
    "\n",
    "Set `INTERVALS` to the number of bins along the x-axis. Items are categorized into equal-size square bins based on this number of intervals and the aspect ratio of your bounds. For a square AOI, the default value of `INTERVALS = 36` would give 36 * 36 = 1296 bins; an AOI with the same width that is half as tall would give 36 * 18 = 648 bins.\n",
    "The area (in square meters) of each bin is displayed in the legend to the right of the plot.\n",
    "\n",
    "### Categorization\n",
    "\n",
    "This configuration is used to categorize the items into bins for display as a heatmap.\n",
    "\n",
    "1. The bounds and intervals are used to generate an array of midpoints representing the bins.\n",
    "2. Categorize the items retrieved from the API into these  bins based on which midpoint they are closest to.\n",
    "3. Aggregate up the areas of all the items in each bin.\n",
    "4. Convert the resulting data into an xy grid of areas and fill in missing cells with zeros.\n",
    "\n",
    "### OSM Basemap\n",
    "\n",
    "So that we can see where our heatmap values actually are, we will [use cartopy to display OSM tiles](../webtiles/osm_basemap.ipynb) underneath the heatmap. Note that this requires an internet connection.\n",
    "\n",
    "For an offline alternative, you could plot a [vector basemap](../vector/shapefile.ipynb) or imshow to display a local raster image.\n",
    "\n",
    "### Display Heatmap\n",
    "\n",
    "The final step is to display the grid data as a heatmap, using [imshow](https://matplotlib.org/3.2.0/api/_as_gen/matplotlib.pyplot.imshow.html). You can use the parameters here to change how the heatmap is rendered. For example, chose a different `cmap` to change the color, or add the `interpolation='bicubic'` parameter to display smooth output instead of individual pixels.\n",
    "\n",
    "To make it clear where the heatmap is being displayed, use [Natural Earth](https://www.naturalearthdata.com/) 1:110m datasets to render a map alongside the heatmap data."
   ]
  },
  {
   "cell_type": "code",
   "execution_count": null,
   "metadata": {},
   "outputs": [],
   "source": [
    "%matplotlib inline\n",
    "import matplotlib.pyplot as plt\n",
    "\n",
    "import pandas as pd\n",
    "\n",
    "import cartopy.io.img_tiles as cimgt\n",
    "import cartopy.crs as ccrs\n",
    "\n",
    "import shapely\n",
    "\n",
    "# Heatmap Configuration\n",
    "\n",
    "RAW_BOUNDS = shapely.geometry.shape(geometry).bounds\n",
    "INTERVALS: int = 36\n",
    "\n",
    "BOUNDS = [0.] * 4\n",
    "BOUNDS[0],BOUNDS[2] = transformer.transform(RAW_BOUNDS[0],RAW_BOUNDS[1])\n",
    "BOUNDS[1],BOUNDS[3] = transformer.transform(RAW_BOUNDS[2],RAW_BOUNDS[3])\n",
    "\n",
    "# Categorization\n",
    "\n",
    "# 1. Generate bins from bounds + intervals\n",
    "aspect_ratio = (BOUNDS[1] - BOUNDS[0]) / (BOUNDS[3] - BOUNDS[2])\n",
    "x_bins = np.linspace(BOUNDS[0], BOUNDS[1], INTERVALS, endpoint=False)\n",
    "y_bins = np.linspace(BOUNDS[2], BOUNDS[3], int(INTERVALS/aspect_ratio), endpoint=False)\n",
    "\n",
    "x_delta2 = (x_bins[1] - x_bins[0])/2\n",
    "y_delta2 = (y_bins[1] - y_bins[0])/2\n",
    "x_bins = x_bins + x_delta2\n",
    "y_bins = y_bins + y_delta2\n",
    "\n",
    "# 2. Categorize items in bins\n",
    "binned = []\n",
    "for f in items:\n",
    "    fx,fy = transformer.transform(f['lon'], f['lat'])\n",
    "    if (BOUNDS[0] < fx < BOUNDS[1]) and (BOUNDS[2] < fy < BOUNDS[3]):\n",
    "        binned.append({\n",
    "            'x': min(x_bins, key=(lambda x: abs(x - fx))),\n",
    "            'y': min(y_bins, key=(lambda y: abs(y - fy))),\n",
    "            'area': f['area']\n",
    "        })\n",
    "\n",
    "# 3. Aggregate binned values\n",
    "hist = pd.DataFrame(binned).groupby(['x', 'y']).sum().reset_index()\n",
    "\n",
    "# 4. Pivot into an xy grid and fill in empty cells with 0.\n",
    "hist = hist.pivot('y', 'x', 'area')\n",
    "hist = hist.reindex(y_bins, axis=0, fill_value=0).reindex(x_bins, axis=1, fill_value=0).fillna(0)\n",
    "\n",
    "# OSM Basemap\n",
    "osm_tiles = cimgt.OSM()\n",
    "carto_proj = ccrs.GOOGLE_MERCATOR\n",
    "\n",
    "fig = plt.figure()\n",
    "ax = fig.add_subplot(1, 1, 1, projection=carto_proj)\n",
    "ax.axis(BOUNDS)\n",
    "\n",
    "tile_image = ax.add_image(osm_tiles, 8)\n",
    "\n",
    "# Display Heatmap\n",
    "heatmap = ax.imshow(hist.values, zorder=1, aspect='equal', origin='lower', extent=BOUNDS, cmap=alpha_colormap, interpolation='bicubic')\n",
    "plt.colorbar(heatmap, ax=ax).set_label(\"Square meters of new buildings per {:.3e} {}²\".format(4 * x_delta2 * y_delta2,PROJ_UNITS))"
   ]
  },
  {
   "cell_type": "code",
   "execution_count": null,
   "metadata": {},
   "outputs": [],
   "source": []
  }
 ],
 "metadata": {
  "kernelspec": {
   "display_name": "Python 3",
   "language": "python",
   "name": "python3"
  },
  "language_info": {
   "codemirror_mode": {
    "name": "ipython",
    "version": 3
   },
   "file_extension": ".py",
   "mimetype": "text/x-python",
   "name": "python",
   "nbconvert_exporter": "python",
   "pygments_lexer": "ipython3",
   "version": "3.7.6"
  }
 },
 "nbformat": 4,
 "nbformat_minor": 2
}
