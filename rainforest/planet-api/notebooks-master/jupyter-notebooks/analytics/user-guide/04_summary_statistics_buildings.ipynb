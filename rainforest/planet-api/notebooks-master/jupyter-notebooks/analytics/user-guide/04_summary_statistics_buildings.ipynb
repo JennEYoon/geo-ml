{
 "cells": [
  {
   "cell_type": "markdown",
   "metadata": {},
   "source": [
    "###  Planet Analytics API Tutorial\n",
    "\n",
    "# Summary Statistics: Buildings\n",
    "\n",
    "## Overview\n",
    "    \n",
    "1. [Introduction](#1.-Introduction)\n",
    "2. [Post a stats job request](#2.-Post-a-stats-job-request)\n",
    "3. [Get job report results](#3.-Get-job-report-results)\n",
    "4. [Visualize the time series](#4.-Visualize-the-time-series)\n",
    "5. [Customize area of interest and time range](#5.-Customize-area-of-interest-and-time-range)"
   ]
  },
  {
   "cell_type": "markdown",
   "metadata": {},
   "source": [
    "## 1. Introduction\n",
    "\n",
    "This notebook demonstrates how to request road summary statistics for a subscription using the Anaytics Feeds Stats API and visualize them as time series, enabling further analyses including patterns of life, development trends and anomaly detection.\n",
    "\n",
    "The workflow involves:\n",
    "- Posting a stats job request\n",
    "- Polling the job stats endpoint\n",
    "- Getting the job report results\n",
    "- Restructuring the results into a pandas dataframe\n",
    "- Visualizing the time series"
   ]
  },
  {
   "cell_type": "markdown",
   "metadata": {},
   "source": [
    "#### Add extra dependencies\n",
    "This notebook requires hvplot, which may not be available in the main notebook docker image."
   ]
  },
  {
   "cell_type": "code",
   "execution_count": null,
   "metadata": {},
   "outputs": [],
   "source": [
    "!pip install --quiet hvplot"
   ]
  },
  {
   "cell_type": "markdown",
   "metadata": {},
   "source": [
    "## 2. Post a stats job request"
   ]
  },
  {
   "cell_type": "markdown",
   "metadata": {},
   "source": [
    "### a) Check API Connection\n",
    "_**Note:** If you do not have access to the Analytics Feeds API, you may not be able to run through these examples. Contact [Sales](go.planet.com/getintouch) to learn more._"
   ]
  },
  {
   "cell_type": "code",
   "execution_count": null,
   "metadata": {},
   "outputs": [],
   "source": [
    "import os\n",
    "import requests\n",
    "\n",
    "ANALYTICS_BASE_URL = 'https://api.planet.com/analytics/'\n",
    "# ANALYTICS_BASE_URL = 'https://sif-next.prod.planet-labs.com/'\n",
    "# change this line if your API key is not set as an env var\n",
    "API_KEY = os.environ['PL_API_KEY']\n",
    "# alternatively, you can just set your API key directly as a string variable:\n",
    "# API_KEY = \"YOUR_PLANET_API_KEY_HERE\"\n",
    "# set up a reusable session with required headers\n",
    "session = requests.Session()\n",
    "session.headers.update({'content-type':'application/json','Authorization': 'api-key ' + API_KEY})\n",
    "# make a request to the analytics api\n",
    "resp = session.get(ANALYTICS_BASE_URL)\n",
    "if resp.ok:\n",
    "    print(\"Yay, you are able to connect to the Planet Analytics API!\")\n",
    "else:\n",
    "    print(\"Something is wrong:\", resp.content)"
   ]
  },
  {
   "cell_type": "markdown",
   "metadata": {},
   "source": [
    "### b) Select your subscription\n",
    "The analytics stats API enables you to create summary stats reports for your analytics subscriptions. You will need the id of a subscription of interest in order to make a stats request."
   ]
  },
  {
   "cell_type": "code",
   "execution_count": null,
   "metadata": {},
   "outputs": [],
   "source": [
    "import pandas as pd\n",
    "\n",
    "# Make sure you have a subscription for this buildings feed\n",
    "FEED_ID = '4cdb1add-2b0a-49fd-9968-54f85bbb6172'\n",
    "resp = session.get(f\"{ANALYTICS_BASE_URL}subscriptions?feedID={FEED_ID}\")\n",
    "if not resp.ok:\n",
    "    raise Exception('Bad response:', resp.content)\n",
    "\n",
    "subscriptions = resp.json()['data']\n",
    "if len(subscriptions) == 0:\n",
    "    raise Exception(f\"You do not have any subscriptions for feed {FEED_ID}\")\n",
    "df = pd.DataFrame.from_records(subscriptions)\n",
    "df[['id', 'title', 'description', 'startTime', 'endTime']]"
   ]
  },
  {
   "cell_type": "code",
   "execution_count": null,
   "metadata": {},
   "outputs": [],
   "source": [
    "# you can use any of the above subscriptions\n",
    "subscription = subscriptions[0]"
   ]
  },
  {
   "cell_type": "markdown",
   "metadata": {},
   "source": [
    "### c) Post a stats report job request to the Analytic Feeds API"
   ]
  },
  {
   "cell_type": "code",
   "execution_count": null,
   "metadata": {},
   "outputs": [],
   "source": [
    "import json\n",
    "import pprint\n",
    "\n",
    "request_body = {\n",
    "    \"title\": \"Stats Demo\",\n",
    "    \"subscriptionID\": subscription['id'],\n",
    "    \"interval\": \"month\",  # most road and building feeds generate results on a monthly cadence\n",
    "#     \"collection\": collection,  # add a geojson feature collection if you want use a custom area of interest\n",
    "#     \"startTime\": start_time,  # add custom start time here if desired\n",
    "#     \"endTime\": end_time  # add custom end time here if desired\n",
    "}\n",
    "\n",
    "stats_post_url = ANALYTICS_BASE_URL + 'stats'\n",
    "\n",
    "job_post_resp = session.post(\n",
    "    stats_post_url, \n",
    "    data=json.dumps(request_body)\n",
    ")\n",
    "\n",
    "pprint.pprint(job_post_resp.json())"
   ]
  },
  {
   "cell_type": "markdown",
   "metadata": {},
   "source": [
    "### d) Poll the stats endpoint for job completion"
   ]
  },
  {
   "cell_type": "code",
   "execution_count": null,
   "metadata": {},
   "outputs": [],
   "source": [
    "import time\n",
    "\n",
    "job_link = job_post_resp.json()['links'][0]['href']\n",
    "status = \"pending\"\n",
    "while status != \"completed\":\n",
    "    report_status_resp = session.get(\n",
    "        job_link,\n",
    "    )\n",
    "    status = report_status_resp.json()['status']\n",
    "    print(status)\n",
    "    time.sleep(2)\n",
    "    \n",
    "    \n",
    "pprint.pprint(report_status_resp.json())"
   ]
  },
  {
   "cell_type": "markdown",
   "metadata": {},
   "source": [
    "# 3. Get job report results"
   ]
  },
  {
   "cell_type": "markdown",
   "metadata": {},
   "source": [
    "### a) Get report link from the completed stats job"
   ]
  },
  {
   "cell_type": "code",
   "execution_count": null,
   "metadata": {},
   "outputs": [],
   "source": [
    "report_results_link = report_status_resp.json()['links'][-1]['href']\n",
    "report_results_link"
   ]
  },
  {
   "cell_type": "markdown",
   "metadata": {},
   "source": [
    "### b) Get report as json"
   ]
  },
  {
   "cell_type": "code",
   "execution_count": null,
   "metadata": {},
   "outputs": [],
   "source": [
    "results_resp = session.get(\n",
    "    report_results_link,\n",
    ")\n",
    "print(results_resp.status_code)\n",
    "pprint.pprint(results_resp.json())"
   ]
  },
  {
   "cell_type": "markdown",
   "metadata": {},
   "source": [
    "### c) Get job report results as a dataframe\n",
    "The summary stats report can be returned as a csv file. Below, we request the csv and create a pandas dataframe. "
   ]
  },
  {
   "cell_type": "code",
   "execution_count": null,
   "metadata": {},
   "outputs": [],
   "source": [
    "report_csv_url = report_results_link + '?format=csv'\n",
    "print(report_csv_url)"
   ]
  },
  {
   "cell_type": "code",
   "execution_count": null,
   "metadata": {},
   "outputs": [],
   "source": [
    "from io import StringIO\n",
    "\n",
    "csv_resp = session.get(report_csv_url)\n",
    "data = StringIO(csv_resp.text)\n",
    "df = pd.read_csv(data)\n",
    "df.head()"
   ]
  },
  {
   "cell_type": "markdown",
   "metadata": {},
   "source": [
    "# 4. Visualize the time series"
   ]
  },
  {
   "cell_type": "code",
   "execution_count": null,
   "metadata": {},
   "outputs": [],
   "source": [
    "import holoviews as hv\n",
    "import hvplot.pandas\n",
    "from bokeh.models.formatters import DatetimeTickFormatter\n",
    "hv.extension('bokeh')\n",
    "formatter = DatetimeTickFormatter(months='%b %Y')"
   ]
  },
  {
   "cell_type": "code",
   "execution_count": null,
   "metadata": {},
   "outputs": [],
   "source": [
    "df.hvplot().options(xformatter=formatter, width=1000)"
   ]
  },
  {
   "cell_type": "code",
   "execution_count": null,
   "metadata": {},
   "outputs": [],
   "source": [
    "df['Building Area Percentage'] = df['Feature Area'] / df['Total Area'] * 100\n",
    "df['Building Area Percentage'].hvplot().options(xformatter=formatter, width=600)"
   ]
  },
  {
   "cell_type": "markdown",
   "metadata": {},
   "source": [
    "# 5. Customize area of interest and time range"
   ]
  },
  {
   "cell_type": "markdown",
   "metadata": {},
   "source": [
    "### a) Pick out an AOI"
   ]
  },
  {
   "cell_type": "markdown",
   "metadata": {},
   "source": [
    "First take a look at the full subscription AOI:"
   ]
  },
  {
   "cell_type": "code",
   "execution_count": null,
   "metadata": {},
   "outputs": [],
   "source": [
    "from ipyleaflet import Map, GeoJSON\n",
    "# center an ipyleaflet map around the subscription\n",
    "geom = subscription['geometry']\n",
    "if geom['type'] == 'Polygon':\n",
    "    lon, lat = geom['coordinates'][0][0]\n",
    "elif geom['type'] == 'MultiPolygon':\n",
    "    lon, lat = geom['coordinates'][0][0][0]\n",
    "else:\n",
    "    print('You may need to re-center the map')\n",
    "    lon, lat = -122.41, 37.77\n",
    "\n",
    "m = Map(center=(lat, lon), zoom=8)\n",
    "# add the subscription geometry to the map\n",
    "polygon = GeoJSON(data=geom)\n",
    "m.add_layer(polygon);\n",
    "m"
   ]
  },
  {
   "cell_type": "markdown",
   "metadata": {},
   "source": [
    "You can request stats for the entire subscription geometry or for subregions of the subscription geometry. Below we construct a small box inside of the subscription boundary for this demo.\n",
    "\n",
    "First, convert the subscription boundary to a shapely shape"
   ]
  },
  {
   "cell_type": "code",
   "execution_count": null,
   "metadata": {},
   "outputs": [],
   "source": [
    "import shapely.geometry\n",
    "aoi_shape = shapely.geometry.shape(subscription['geometry'])\n",
    "aoi_shape"
   ]
  },
  {
   "cell_type": "markdown",
   "metadata": {},
   "source": [
    "Now get a bounding box around the subscription geometry:"
   ]
  },
  {
   "cell_type": "code",
   "execution_count": null,
   "metadata": {},
   "outputs": [],
   "source": [
    "print(aoi_shape.bounds)\n",
    "minx, miny, maxx, maxy = aoi_shape.bounds\n",
    "bbox = shapely.geometry.box(minx, miny, maxx, maxy)\n",
    "bbox"
   ]
  },
  {
   "cell_type": "markdown",
   "metadata": {},
   "source": [
    "Add the bounding box to the map. The bounding box should contain the entire aoi_shape."
   ]
  },
  {
   "cell_type": "code",
   "execution_count": null,
   "metadata": {},
   "outputs": [],
   "source": [
    "bbox_polygon = GeoJSON(data=shapely.geometry.mapping(bbox), style={'color': 'green', 'opacity': 1, 'fillOpacity': 0.1})\n",
    "m.add_layer(bbox_polygon);\n",
    "m"
   ]
  },
  {
   "cell_type": "markdown",
   "metadata": {},
   "source": [
    "Construct a smaller box that will fit inside of the aoi_shape"
   ]
  },
  {
   "cell_type": "code",
   "execution_count": null,
   "metadata": {},
   "outputs": [],
   "source": [
    "x_diff = maxx - minx\n",
    "minx2 = minx + x_diff / 5\n",
    "maxx2 = maxx - x_diff / 5\n",
    "y_diff = maxy - miny\n",
    "miny2 = miny + y_diff / 5\n",
    "maxy2 = maxy - y_diff / 5\n",
    "smaller_box = shapely.geometry.box(minx2, miny2, maxx2, maxy2)\n",
    "print(smaller_box.bounds)\n",
    "smaller_box"
   ]
  },
  {
   "cell_type": "markdown",
   "metadata": {},
   "source": [
    "Get a custom AOI by taking the interesction of the subscription geometry and the smaller box"
   ]
  },
  {
   "cell_type": "code",
   "execution_count": null,
   "metadata": {},
   "outputs": [],
   "source": [
    "custom_aoi = smaller_box.intersection(aoi_shape)\n",
    "custom_aoi"
   ]
  },
  {
   "cell_type": "markdown",
   "metadata": {},
   "source": [
    "Visualize the new custom_aoi on the map"
   ]
  },
  {
   "cell_type": "code",
   "execution_count": null,
   "metadata": {},
   "outputs": [],
   "source": [
    "bbox_polygon = GeoJSON(data=shapely.geometry.mapping(custom_aoi), style={'color': 'red', 'opacity': 1, 'fillOpacity': 0.1})\n",
    "m.add_layer(bbox_polygon);\n",
    "m"
   ]
  },
  {
   "cell_type": "markdown",
   "metadata": {},
   "source": [
    "We used shapely to construct a cusom_aoi. We now need to convert our custom area of interest into geojson again for the api request. \n",
    "\n",
    "Alternatively, you can go to geojson.io to draw a custom area of interest on a map and get the geojson representation.\n",
    "\n",
    "Note: If you don't provide a custom AOI in your stats request, the entire subscription geometry is used."
   ]
  },
  {
   "cell_type": "code",
   "execution_count": null,
   "metadata": {},
   "outputs": [],
   "source": [
    "import geojson\n",
    "import pprint\n",
    "feature = geojson.Feature(geometry=shapely.geometry.mapping(custom_aoi), id=\"my_custom_box\")\n",
    "collection = geojson.FeatureCollection(features=[feature])\n",
    "pprint.pprint(collection)"
   ]
  },
  {
   "cell_type": "markdown",
   "metadata": {},
   "source": [
    "### b) Select a Custom Time Range"
   ]
  },
  {
   "cell_type": "code",
   "execution_count": null,
   "metadata": {},
   "outputs": [],
   "source": [
    "import datetime, dateutil\n",
    "start_datetime = dateutil.parser.parse(subscription['startTime']) + datetime.timedelta(weeks=4)\n",
    "# isoformat returns a time with +00:00 and this api requires the Z suffix and no time offset\n",
    "start_time = start_datetime.isoformat()[:-6] + 'Z'\n",
    "end_time = subscription['endTime']\n",
    "print(start_time)\n",
    "print(end_time)"
   ]
  },
  {
   "cell_type": "markdown",
   "metadata": {},
   "source": [
    "### c) Request the custom Report"
   ]
  },
  {
   "cell_type": "code",
   "execution_count": null,
   "metadata": {},
   "outputs": [],
   "source": [
    "request_body = {\n",
    "    \"title\": \"Building Stats Demo - Custom AOI and TOI\",\n",
    "    \"subscriptionID\": subscription['id'],\n",
    "    \"interval\": \"month\",  # most road and building feeds generate results on a monthly cadence\n",
    "    \"collection\": collection,  # this is the custom_aoi as a geojson feature collection,\n",
    "    \"clipToSubscription\": True, # use this option if you are ok with the custom AOI being clipped to the subscription boundary\n",
    "    \"startTime\": start_time,  # custom start time\n",
    "    \"endTime\": end_time  # custom end time\n",
    "}\n",
    "\n",
    "job_post_resp = session.post(\n",
    "    stats_post_url, \n",
    "    data=json.dumps(request_body)\n",
    ")\n",
    "\n",
    "pprint.pprint(job_post_resp.json())"
   ]
  },
  {
   "cell_type": "markdown",
   "metadata": {},
   "source": [
    "Poll for job completion"
   ]
  },
  {
   "cell_type": "code",
   "execution_count": null,
   "metadata": {},
   "outputs": [],
   "source": [
    "job_link = job_post_resp.json()['links'][0]['href']\n",
    "status = \"pending\"\n",
    "while status != \"completed\":\n",
    "    report_status_resp = session.get(\n",
    "        job_link,\n",
    "    )\n",
    "    status = report_status_resp.json()['status']\n",
    "    print(status)\n",
    "    time.sleep(2)"
   ]
  },
  {
   "cell_type": "markdown",
   "metadata": {},
   "source": [
    "Get the customized stats report as a dataframe"
   ]
  },
  {
   "cell_type": "code",
   "execution_count": null,
   "metadata": {},
   "outputs": [],
   "source": [
    "report_link = [l for l in report_status_resp.json()['links'] if l['rel'] == 'report'][0]['href']\n",
    "report_csv_url = report_link + '?format=csv'\n",
    "csv_resp = session.get(report_csv_url)\n",
    "data = StringIO(csv_resp.text)\n",
    "df = pd.read_csv(data)\n",
    "df.head()"
   ]
  }
 ],
 "metadata": {
  "kernelspec": {
   "display_name": "Python 3",
   "language": "python",
   "name": "python3"
  },
  "language_info": {
   "codemirror_mode": {
    "name": "ipython",
    "version": 3
   },
   "file_extension": ".py",
   "mimetype": "text/x-python",
   "name": "python",
   "nbconvert_exporter": "python",
   "pygments_lexer": "ipython3",
   "version": "3.7.8"
  }
 },
 "nbformat": 4,
 "nbformat_minor": 4
}
