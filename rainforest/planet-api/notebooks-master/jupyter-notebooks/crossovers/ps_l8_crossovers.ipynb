{
 "cells": [
  {
   "cell_type": "markdown",
   "metadata": {},
   "source": [
    "# PS Orthotile and Landsat 8 Crossovers\n",
    "\n",
    "Have you ever wanted to compare PS images to Landsat 8 images? Both image collections are made available via the Planet API. However, it takes a bit of work to identify crossovers - that is, images of the same area that were collected within a reasonable time difference of each other. Also, you may be interested in filtering out some imagery, e.g. cloudy images.\n",
    "\n",
    "This notebook walks you through the process of finding crossovers between PS Orthotiles and Landsat 8 scenes. In this notebook, we specify 'crossovers' as images that have been taken within 1hr of eachother. This time gap is sufficiently small that we expect the atmospheric conditions won't change much (this assumption doesn't always hold, but is the best we can do for now). We also filter out cloudy images and constrain our search to images collected in 2017, January 1 through August 23."
   ]
  },
  {
   "cell_type": "code",
   "execution_count": 1,
   "metadata": {},
   "outputs": [],
   "source": [
    "# Notebook dependencies\n",
    "from __future__ import print_function\n",
    "\n",
    "import datetime\n",
    "import json\n",
    "import os\n",
    "\n",
    "import ipyleaflet as ipyl\n",
    "import ipywidgets as ipyw\n",
    "from IPython.core.display import HTML\n",
    "from IPython.display import display\n",
    "import pandas as pd\n",
    "from planet import api\n",
    "from planet.api import filters\n",
    "from shapely import geometry as sgeom"
   ]
  },
  {
   "cell_type": "markdown",
   "metadata": {},
   "source": [
    "## Define AOI\n",
    "\n",
    "Define the AOI as a geojson polygon. This can be done at [geojson.io](http://geojson.io). If you use geojson.io, only copy the single aoi feature, not the entire feature collection."
   ]
  },
  {
   "cell_type": "code",
   "execution_count": 2,
   "metadata": {},
   "outputs": [],
   "source": [
    "aoi = {u'geometry': {u'type': u'Polygon', u'coordinates': [[[-121.3113248348236, 38.28911976564886], [-121.3113248348236, 38.34622533958], [-121.2344205379486, 38.34622533958], [-121.2344205379486, 38.28911976564886], [-121.3113248348236, 38.28911976564886]]]}, u'type': u'Feature', u'properties': {u'style': {u'opacity': 0.5, u'fillOpacity': 0.2, u'noClip': False, u'weight': 4, u'color': u'blue', u'lineCap': None, u'dashArray': None, u'smoothFactor': 1, u'stroke': True, u'fillColor': None, u'clickable': True, u'lineJoin': None, u'fill': True}}}"
   ]
  },
  {
   "cell_type": "code",
   "execution_count": 3,
   "metadata": {},
   "outputs": [
    {
     "data": {
      "text/plain": [
       "'{\"geometry\": {\"type\": \"Polygon\", \"coordinates\": [[[-121.3113248348236, 38.28911976564886], [-121.3113248348236, 38.34622533958], [-121.2344205379486, 38.34622533958], [-121.2344205379486, 38.28911976564886], [-121.3113248348236, 38.28911976564886]]]}, \"type\": \"Feature\", \"properties\": {\"style\": {\"opacity\": 0.5, \"fillOpacity\": 0.2, \"noClip\": false, \"weight\": 4, \"color\": \"blue\", \"lineCap\": null, \"dashArray\": null, \"smoothFactor\": 1, \"stroke\": true, \"fillColor\": null, \"clickable\": true, \"lineJoin\": null, \"fill\": true}}}'"
      ]
     },
     "execution_count": 3,
     "metadata": {},
     "output_type": "execute_result"
    }
   ],
   "source": [
    "json.dumps(aoi)"
   ]
  },
  {
   "cell_type": "markdown",
   "metadata": {},
   "source": [
    "## Build Request\n",
    "\n",
    "Build the Planet API Filter request for the Landsat 8 and PS Orthotile imagery taken in 2017 through August 23."
   ]
  },
  {
   "cell_type": "code",
   "execution_count": 4,
   "metadata": {},
   "outputs": [],
   "source": [
    "# define the date range for imagery\n",
    "start_date = datetime.datetime(year=2017,month=1,day=1)\n",
    "stop_date = datetime.datetime(year=2017,month=8,day=23)"
   ]
  },
  {
   "cell_type": "code",
   "execution_count": 5,
   "metadata": {},
   "outputs": [
    {
     "name": "stdout",
     "output_type": "stream",
     "text": [
      "{'item_types': ['Landsat8L1G'], 'filter': {'type': 'AndFilter', 'config': ({'field_name': 'geometry', 'type': 'GeometryFilter', 'config': {'type': 'Polygon', 'coordinates': [[[-121.3113248348236, 38.28911976564886], [-121.3113248348236, 38.34622533958], [-121.2344205379486, 38.34622533958], [-121.2344205379486, 38.28911976564886], [-121.3113248348236, 38.28911976564886]]]}}, {'field_name': 'cloud_cover', 'type': 'RangeFilter', 'config': {'lt': 5}}, {'field_name': 'sun_elevation', 'type': 'RangeFilter', 'config': {'gt': 0}}, {'field_name': 'acquired', 'type': 'DateRangeFilter', 'config': {'gt': '2017-01-01T00:00:00Z'}}, {'field_name': 'acquired', 'type': 'DateRangeFilter', 'config': {'lt': '2017-08-23T00:00:00Z'}})}}\n",
      "{'item_types': ['PSOrthoTile'], 'filter': {'type': 'AndFilter', 'config': ({'field_name': 'geometry', 'type': 'GeometryFilter', 'config': {'type': 'Polygon', 'coordinates': [[[-121.3113248348236, 38.28911976564886], [-121.3113248348236, 38.34622533958], [-121.2344205379486, 38.34622533958], [-121.2344205379486, 38.28911976564886], [-121.3113248348236, 38.28911976564886]]]}}, {'field_name': 'cloud_cover', 'type': 'RangeFilter', 'config': {'lt': 0.05}}, {'field_name': 'acquired', 'type': 'DateRangeFilter', 'config': {'gt': '2017-01-01T00:00:00Z'}}, {'field_name': 'acquired', 'type': 'DateRangeFilter', 'config': {'lt': '2017-08-23T00:00:00Z'}})}}\n"
     ]
    }
   ],
   "source": [
    "# filters.build_search_request() item types:\n",
    "# Landsat 8 - 'Landsat8L1G'\n",
    "# Sentinel - 'Sentinel2L1C'\n",
    "# PS Orthotile = 'PSOrthoTile'\n",
    "\n",
    "def build_landsat_request(aoi_geom, start_date, stop_date):\n",
    "    query = filters.and_filter(\n",
    "        filters.geom_filter(aoi_geom),\n",
    "        filters.range_filter('cloud_cover', lt=5),\n",
    "        # ensure has all assets, unfortunately also filters 'L1TP'\n",
    "#         filters.string_filter('quality_category', 'standard'), \n",
    "        filters.range_filter('sun_elevation', gt=0), # filter out Landsat night scenes\n",
    "        filters.date_range('acquired', gt=start_date),\n",
    "        filters.date_range('acquired', lt=stop_date)\n",
    "    )\n",
    "\n",
    "    return filters.build_search_request(query, ['Landsat8L1G'])    \n",
    "    \n",
    "    \n",
    "def build_ps_request(aoi_geom, start_date, stop_date):\n",
    "    query = filters.and_filter(\n",
    "        filters.geom_filter(aoi_geom),\n",
    "        filters.range_filter('cloud_cover', lt=0.05),\n",
    "        filters.date_range('acquired', gt=start_date),\n",
    "        filters.date_range('acquired', lt=stop_date)\n",
    "    )\n",
    "\n",
    "    return filters.build_search_request(query, ['PSOrthoTile'])\n",
    "\n",
    "print(build_landsat_request(aoi['geometry'], start_date, stop_date))\n",
    "print(build_ps_request(aoi['geometry'], start_date, stop_date))"
   ]
  },
  {
   "cell_type": "markdown",
   "metadata": {},
   "source": [
    "## Search Planet API\n",
    "\n",
    "The client is how we interact with the planet api. It is created with the user-specific api key, which is pulled from $PL_API_KEY environment variable. Create the client then use it to search for PS Orthotile and Landsat 8 scenes. Save a subset of the metadata provided by Planet API as our 'scene'."
   ]
  },
  {
   "cell_type": "code",
   "execution_count": 6,
   "metadata": {},
   "outputs": [],
   "source": [
    "def get_api_key():\n",
    "    return os.environ['PL_API_KEY']\n",
    "\n",
    "# quick check that key is defined\n",
    "assert get_api_key(), \"PL_API_KEY not defined.\""
   ]
  },
  {
   "cell_type": "code",
   "execution_count": 7,
   "metadata": {},
   "outputs": [
    {
     "name": "stdout",
     "output_type": "stream",
     "text": [
      "117\n",
      "42\n"
     ]
    }
   ],
   "source": [
    "def create_client():\n",
    "    return api.ClientV1(api_key=get_api_key())\n",
    "\n",
    "def search_pl_api(request, limit=500):\n",
    "    client = create_client()\n",
    "    result = client.quick_search(request)\n",
    "    \n",
    "    # note that this returns a generator\n",
    "    return result.items_iter(limit=limit)\n",
    "\n",
    "\n",
    "items = list(search_pl_api(build_ps_request(aoi['geometry'], start_date, stop_date)))\n",
    "print(len(items))\n",
    "# uncomment below to see entire metadata for a PS orthotile\n",
    "# print(json.dumps(items[0], indent=4))\n",
    "del items\n",
    "\n",
    "items = list(search_pl_api(build_landsat_request(aoi['geometry'], start_date, stop_date)))\n",
    "print(len(items))\n",
    "# uncomment below to see entire metadata for a landsat scene\n",
    "# print(json.dumps(items[0], indent=4))\n",
    "del items"
   ]
  },
  {
   "cell_type": "markdown",
   "metadata": {},
   "source": [
    "In processing the items to scenes, we are only using a small subset of the [product metadata](https://www.planet.com/docs/spec-sheets/sat-imagery/#product-metadata). "
   ]
  },
  {
   "cell_type": "code",
   "execution_count": 8,
   "metadata": {
    "scrolled": false
   },
   "outputs": [
    {
     "name": "stdout",
     "output_type": "stream",
     "text": [
      "https://tiles.planet.com/data/v1/item-types/Landsat8L1G/items/LC80440332017005LGN00/thumb\n"
     ]
    }
   ],
   "source": [
    "def items_to_scenes(items):\n",
    "    item_types = []\n",
    "\n",
    "    def _get_props(item):\n",
    "        props = item['properties']\n",
    "        props.update({\n",
    "            'thumbnail': item['_links']['thumbnail'],\n",
    "            'item_type': item['properties']['item_type'],\n",
    "            'id': item['id'],\n",
    "            'acquired': item['properties']['acquired'],\n",
    "            'footprint': item['geometry']\n",
    "        })\n",
    "        return props\n",
    "    \n",
    "    scenes = pd.DataFrame(data=[_get_props(i) for i in items])\n",
    "    \n",
    "    # acquired column to index, it is unique and will be used a lot for processing\n",
    "    scenes.index = pd.to_datetime(scenes['acquired'])\n",
    "    del scenes['acquired']\n",
    "    scenes.sort_index(inplace=True)\n",
    "    \n",
    "    return scenes\n",
    "\n",
    "scenes = items_to_scenes(search_pl_api(build_landsat_request(aoi['geometry'],\n",
    "                                                             start_date, stop_date)))\n",
    "# display(scenes[:1])\n",
    "print(scenes.thumbnail.tolist()[0])\n",
    "del scenes"
   ]
  },
  {
   "cell_type": "markdown",
   "metadata": {},
   "source": [
    "## Investigate Landsat Scenes\n",
    "\n",
    "There are quite a few Landsat 8 scenes that are returned by our query. What do the footprints look like relative to our AOI and what is the collection time of the scenes?"
   ]
  },
  {
   "cell_type": "code",
   "execution_count": 9,
   "metadata": {},
   "outputs": [
    {
     "name": "stdout",
     "output_type": "stream",
     "text": [
      "42\n"
     ]
    }
   ],
   "source": [
    "landsat_scenes = items_to_scenes(search_pl_api(build_landsat_request(aoi['geometry'],\n",
    "                                                                     start_date, stop_date)))\n",
    "\n",
    "# How many Landsat 8 scenes match the query?\n",
    "print(len(landsat_scenes))"
   ]
  },
  {
   "cell_type": "markdown",
   "metadata": {},
   "source": [
    "### Show Landsat 8 Footprints on Map"
   ]
  },
  {
   "cell_type": "code",
   "execution_count": 10,
   "metadata": {},
   "outputs": [],
   "source": [
    "def landsat_scenes_to_features_layer(scenes):\n",
    "    features_style = {\n",
    "            'color': 'grey',\n",
    "            'weight': 1,\n",
    "            'fillColor': 'grey',\n",
    "            'fillOpacity': 0.15}\n",
    "\n",
    "    features = [{\"geometry\": r.footprint,\n",
    "                 \"type\": \"Feature\",\n",
    "                 \"properties\": {\"style\": features_style,\n",
    "                                \"wrs_path\": r.wrs_path,\n",
    "                                \"wrs_row\": r.wrs_row}}\n",
    "                for r in scenes.itertuples()]\n",
    "    return features\n",
    "\n",
    "def create_landsat_hover_handler(scenes, label):\n",
    "    def hover_handler(event=None, id=None, properties=None):\n",
    "        wrs_path = properties['wrs_path']\n",
    "        wrs_row = properties['wrs_row']\n",
    "        path_row_query = 'wrs_path=={} and wrs_row=={}'.format(wrs_path, wrs_row)\n",
    "        count = len(scenes.query(path_row_query))\n",
    "        label.value = 'path: {}, row: {}, count: {}'.format(wrs_path, wrs_row, count)\n",
    "    return hover_handler\n",
    "\n",
    "\n",
    "def create_landsat_feature_layer(scenes, label):\n",
    "    \n",
    "    features = landsat_scenes_to_features_layer(scenes)\n",
    "    \n",
    "    # Footprint feature layer\n",
    "    feature_collection = {\n",
    "        \"type\": \"FeatureCollection\",\n",
    "        \"features\": features\n",
    "    }\n",
    "\n",
    "    feature_layer = ipyl.GeoJSON(data=feature_collection)\n",
    "\n",
    "    feature_layer.on_hover(create_landsat_hover_handler(scenes, label))\n",
    "    return feature_layer"
   ]
  },
  {
   "cell_type": "code",
   "execution_count": 11,
   "metadata": {},
   "outputs": [],
   "source": [
    "# Initialize map using parameters from above map\n",
    "# and deleting map instance if it exists\n",
    "try:\n",
    "    del fp_map\n",
    "except NameError:\n",
    "    pass\n",
    "\n",
    "\n",
    "zoom = 6\n",
    "center = [38.28993659801203, -120.14648437499999] # lat/lon"
   ]
  },
  {
   "cell_type": "code",
   "execution_count": 12,
   "metadata": {},
   "outputs": [
    {
     "data": {
      "application/vnd.jupyter.widget-view+json": {
       "model_id": "777a4ec3d0274a309b292ad8a7241a28",
       "version_major": 2,
       "version_minor": 0
      },
      "text/plain": [
       "VBox(children=(Map(basemap={'url': 'https://{s}.tile.openstreetmap.org/{z}/{x}/{y}.png', 'max_zoom': 19, 'attr…"
      ]
     },
     "metadata": {},
     "output_type": "display_data"
    }
   ],
   "source": [
    "# Create map, adding box drawing controls\n",
    "# Reuse parameters if map already exists\n",
    "try:\n",
    "    center = fp_map.center\n",
    "    zoom = fp_map.zoom\n",
    "    print(zoom)\n",
    "    print(center)\n",
    "except NameError:\n",
    "    pass\n",
    "\n",
    "# Change tile layer to one that makes it easier to see crop features\n",
    "# Layer selected using https://leaflet-extras.github.io/leaflet-providers/preview/\n",
    "map_tiles = ipyl.TileLayer(url='http://{s}.basemaps.cartocdn.com/light_all/{z}/{x}/{y}.png')\n",
    "fp_map = ipyl.Map(\n",
    "        center=center, \n",
    "        zoom=zoom,\n",
    "        default_tiles = map_tiles\n",
    "    )\n",
    "\n",
    "label = ipyw.Label(layout=ipyw.Layout(width='100%'))\n",
    "fp_map.add_layer(create_landsat_feature_layer(landsat_scenes, label)) # landsat layer\n",
    "fp_map.add_layer(ipyl.GeoJSON(data=aoi)) # aoi layer\n",
    "    \n",
    "# Display map and label\n",
    "ipyw.VBox([fp_map, label])"
   ]
  },
  {
   "cell_type": "markdown",
   "metadata": {},
   "source": [
    "This AOI is located in a region covered by 3 different path/row tiles. This means there is 3x the coverage than in regions only covered by one path/row tile. This is particularly lucky!\n",
    "\n",
    "What about the within each path/row tile. How long and how consistent is the Landsat 8 collect period for each path/row?"
   ]
  },
  {
   "cell_type": "code",
   "execution_count": 13,
   "metadata": {},
   "outputs": [
    {
     "data": {
      "text/html": [
       "<div>\n",
       "<style scoped>\n",
       "    .dataframe tbody tr th:only-of-type {\n",
       "        vertical-align: middle;\n",
       "    }\n",
       "\n",
       "    .dataframe tbody tr th {\n",
       "        vertical-align: top;\n",
       "    }\n",
       "\n",
       "    .dataframe thead th {\n",
       "        text-align: right;\n",
       "    }\n",
       "</style>\n",
       "<table border=\"1\" class=\"dataframe\">\n",
       "  <thead>\n",
       "    <tr style=\"text-align: right;\">\n",
       "      <th></th>\n",
       "      <th></th>\n",
       "      <th>median</th>\n",
       "      <th>mean</th>\n",
       "      <th>std</th>\n",
       "      <th>count</th>\n",
       "      <th>min</th>\n",
       "      <th>max</th>\n",
       "    </tr>\n",
       "    <tr>\n",
       "      <th>wrs_path</th>\n",
       "      <th>wrs_row</th>\n",
       "      <th></th>\n",
       "      <th></th>\n",
       "      <th></th>\n",
       "      <th></th>\n",
       "      <th></th>\n",
       "      <th></th>\n",
       "    </tr>\n",
       "  </thead>\n",
       "  <tbody>\n",
       "    <tr>\n",
       "      <th rowspan=\"2\" valign=\"top\">43</th>\n",
       "      <th>33</th>\n",
       "      <td>16 days 00:00:04.366736</td>\n",
       "      <td>17 days 07:59:59.313376</td>\n",
       "      <td>4 days 14:51:00.569425</td>\n",
       "      <td>12</td>\n",
       "      <td>15 days 23:59:50.258638</td>\n",
       "      <td>31 days 23:59:46.812643</td>\n",
       "    </tr>\n",
       "    <tr>\n",
       "      <th>34</th>\n",
       "      <td>15 days 23:59:55.543541</td>\n",
       "      <td>15 days 23:59:59.366519</td>\n",
       "      <td>0 days 00:00:07.696147</td>\n",
       "      <td>13</td>\n",
       "      <td>15 days 23:59:50.262876</td>\n",
       "      <td>16 days 00:00:11.536172</td>\n",
       "    </tr>\n",
       "    <tr>\n",
       "      <th>44</th>\n",
       "      <th>33</th>\n",
       "      <td>15 days 23:59:59.511409</td>\n",
       "      <td>15 days 23:59:59.404161</td>\n",
       "      <td>0 days 00:00:07.579903</td>\n",
       "      <td>14</td>\n",
       "      <td>15 days 23:59:49.212960</td>\n",
       "      <td>16 days 00:00:10.236295</td>\n",
       "    </tr>\n",
       "  </tbody>\n",
       "</table>\n",
       "</div>"
      ],
      "text/plain": [
       "                                   median                     mean  \\\n",
       "wrs_path wrs_row                                                     \n",
       "43       33       16 days 00:00:04.366736  17 days 07:59:59.313376   \n",
       "         34       15 days 23:59:55.543541  15 days 23:59:59.366519   \n",
       "44       33       15 days 23:59:59.511409  15 days 23:59:59.404161   \n",
       "\n",
       "                                     std  count                      min  \\\n",
       "wrs_path wrs_row                                                           \n",
       "43       33       4 days 14:51:00.569425     12  15 days 23:59:50.258638   \n",
       "         34       0 days 00:00:07.696147     13  15 days 23:59:50.262876   \n",
       "44       33       0 days 00:00:07.579903     14  15 days 23:59:49.212960   \n",
       "\n",
       "                                      max  \n",
       "wrs_path wrs_row                           \n",
       "43       33       31 days 23:59:46.812643  \n",
       "         34       16 days 00:00:11.536172  \n",
       "44       33       16 days 00:00:10.236295  "
      ]
     },
     "execution_count": 13,
     "metadata": {},
     "output_type": "execute_result"
    }
   ],
   "source": [
    "def time_diff_stats(group):\n",
    "    time_diff = group.index.to_series().diff() # time difference between rows in group\n",
    "    stats = {'median': time_diff.median(),\n",
    "             'mean': time_diff.mean(),\n",
    "             'std': time_diff.std(),\n",
    "             'count': time_diff.count(),\n",
    "             'min': time_diff.min(),\n",
    "             'max': time_diff.max()}\n",
    "    return pd.Series(stats)\n",
    "\n",
    "landsat_scenes.groupby(['wrs_path', 'wrs_row']).apply(time_diff_stats)"
   ]
  },
  {
   "cell_type": "markdown",
   "metadata": {},
   "source": [
    "It looks like the collection period is 16 days, which lines up with the [Landsat 8 mission description](https://landsat.usgs.gov/landsat-8).\n",
    "\n",
    "path/row 43/33 is missing one image which causes an unusually long collect period.\n",
    "\n",
    "What this means is that we don't need to look at every Landsat 8 scene collect time to find crossovers with Planet scenes. We could look at the first scene for each path/row, then look at every 16 day increment. However, we will need to account for dropped Landsat 8 scenes in some way.\n",
    "\n",
    "What is the time difference between the tiles?"
   ]
  },
  {
   "cell_type": "code",
   "execution_count": 14,
   "metadata": {},
   "outputs": [
    {
     "data": {
      "text/plain": [
       "wrs_path  wrs_row\n",
       "43        33        2017-03-03 18:39:20.127296\n",
       "          34        2017-03-03 18:39:44.009861\n",
       "44        33        2017-03-10 18:45:27.068563\n",
       "dtype: datetime64[ns]"
      ]
     },
     "execution_count": 14,
     "metadata": {},
     "output_type": "execute_result"
    }
   ],
   "source": [
    "def find_closest(date_time, data_frame):\n",
    "    # inspired by:\n",
    "    # https://stackoverflow.com/questions/36933725/pandas-time-series-join-by-closest-time\n",
    "    time_deltas = (data_frame.index - date_time).to_series().reset_index(drop=True).abs()\n",
    "    idx_min = time_deltas.idxmin()\n",
    "\n",
    "    min_delta = time_deltas[idx_min]\n",
    "    return (idx_min, min_delta)\n",
    "\n",
    "def closest_time(group):\n",
    "    '''group: data frame with acquisition time as index'''\n",
    "    inquiry_date = datetime.datetime(year=2017,month=3,day=7)\n",
    "    idx, _ = find_closest(inquiry_date, group)\n",
    "    return group.index.to_series().iloc[idx]\n",
    "\n",
    "\n",
    "# for accurate results, we look at the closest time for each path/row tile to a given time\n",
    "# using just the first entry could result in a longer time gap between collects due to\n",
    "# the timing of the first entries\n",
    "landsat_scenes.groupby(['wrs_path', 'wrs_row']).apply(closest_time)"
   ]
  },
  {
   "cell_type": "markdown",
   "metadata": {},
   "source": [
    "So the tiles that are in the same path are very close (24sec) together from the same day. Therefore, we would want to only use one tile and pick the best image.\n",
    "\n",
    "Tiles that are in different paths are 7 days apart. Therefore, we want to keep tiles from different paths, as they represent unique crossovers."
   ]
  },
  {
   "cell_type": "markdown",
   "metadata": {},
   "source": [
    "## Investigate PS Orthotiles\n",
    "\n",
    "There are also quite a few PS Orthotiles that match our query. Some of those scenes may not have much overlap with our AOI. We will want to filter those out. Also, we are interested in knowing how many unique days of coverage we have, so we will group PS Orthotiles by collect day, since we may have days with more than one collect (due multiple PS satellites collecting imagery)."
   ]
  },
  {
   "cell_type": "code",
   "execution_count": 15,
   "metadata": {},
   "outputs": [
    {
     "name": "stdout",
     "output_type": "stream",
     "text": [
      "117\n"
     ]
    },
    {
     "data": {
      "text/html": [
       "<div>\n",
       "<style scoped>\n",
       "    .dataframe tbody tr th:only-of-type {\n",
       "        vertical-align: middle;\n",
       "    }\n",
       "\n",
       "    .dataframe tbody tr th {\n",
       "        vertical-align: top;\n",
       "    }\n",
       "\n",
       "    .dataframe thead th {\n",
       "        text-align: right;\n",
       "    }\n",
       "</style>\n",
       "<table border=\"1\" class=\"dataframe\">\n",
       "  <thead>\n",
       "    <tr style=\"text-align: right;\">\n",
       "      <th></th>\n",
       "      <th>anomalous_pixels</th>\n",
       "      <th>black_fill</th>\n",
       "      <th>cloud_cover</th>\n",
       "      <th>columns</th>\n",
       "      <th>epsg_code</th>\n",
       "      <th>footprint</th>\n",
       "      <th>grid_cell</th>\n",
       "      <th>ground_control</th>\n",
       "      <th>gsd</th>\n",
       "      <th>id</th>\n",
       "      <th>...</th>\n",
       "      <th>published</th>\n",
       "      <th>rows</th>\n",
       "      <th>satellite_id</th>\n",
       "      <th>strip_id</th>\n",
       "      <th>sun_azimuth</th>\n",
       "      <th>sun_elevation</th>\n",
       "      <th>thumbnail</th>\n",
       "      <th>updated</th>\n",
       "      <th>usable_data</th>\n",
       "      <th>view_angle</th>\n",
       "    </tr>\n",
       "    <tr>\n",
       "      <th>acquired</th>\n",
       "      <th></th>\n",
       "      <th></th>\n",
       "      <th></th>\n",
       "      <th></th>\n",
       "      <th></th>\n",
       "      <th></th>\n",
       "      <th></th>\n",
       "      <th></th>\n",
       "      <th></th>\n",
       "      <th></th>\n",
       "      <th></th>\n",
       "      <th></th>\n",
       "      <th></th>\n",
       "      <th></th>\n",
       "      <th></th>\n",
       "      <th></th>\n",
       "      <th></th>\n",
       "      <th></th>\n",
       "      <th></th>\n",
       "      <th></th>\n",
       "      <th></th>\n",
       "    </tr>\n",
       "  </thead>\n",
       "  <tbody>\n",
       "    <tr>\n",
       "      <th>2017-02-12 18:07:27.839129</th>\n",
       "      <td>0.05</td>\n",
       "      <td>0.61</td>\n",
       "      <td>0.048</td>\n",
       "      <td>8000</td>\n",
       "      <td>32610</td>\n",
       "      <td>{'coordinates': [[[-121.27768197723344, 38.146...</td>\n",
       "      <td>1056721</td>\n",
       "      <td>True</td>\n",
       "      <td>3.9</td>\n",
       "      <td>407968_1056721_2017-02-12_0e2f</td>\n",
       "      <td>...</td>\n",
       "      <td>2017-02-13T04:47:29Z</td>\n",
       "      <td>8000</td>\n",
       "      <td>0e2f</td>\n",
       "      <td>407968</td>\n",
       "      <td>142.4</td>\n",
       "      <td>29.7</td>\n",
       "      <td>https://tiles.planet.com/data/v1/item-types/PS...</td>\n",
       "      <td>2017-10-06T20:36:59Z</td>\n",
       "      <td>0.35</td>\n",
       "      <td>1.1</td>\n",
       "    </tr>\n",
       "  </tbody>\n",
       "</table>\n",
       "<p>1 rows × 25 columns</p>\n",
       "</div>"
      ],
      "text/plain": [
       "                            anomalous_pixels  black_fill  cloud_cover  \\\n",
       "acquired                                                                \n",
       "2017-02-12 18:07:27.839129              0.05        0.61        0.048   \n",
       "\n",
       "                            columns  epsg_code  \\\n",
       "acquired                                         \n",
       "2017-02-12 18:07:27.839129     8000      32610   \n",
       "\n",
       "                                                                    footprint  \\\n",
       "acquired                                                                        \n",
       "2017-02-12 18:07:27.839129  {'coordinates': [[[-121.27768197723344, 38.146...   \n",
       "\n",
       "                           grid_cell  ground_control  gsd  \\\n",
       "acquired                                                    \n",
       "2017-02-12 18:07:27.839129   1056721            True  3.9   \n",
       "\n",
       "                                                        id     ...      \\\n",
       "acquired                                                       ...       \n",
       "2017-02-12 18:07:27.839129  407968_1056721_2017-02-12_0e2f     ...       \n",
       "\n",
       "                                       published  rows  satellite_id  \\\n",
       "acquired                                                               \n",
       "2017-02-12 18:07:27.839129  2017-02-13T04:47:29Z  8000          0e2f   \n",
       "\n",
       "                            strip_id sun_azimuth sun_elevation  \\\n",
       "acquired                                                         \n",
       "2017-02-12 18:07:27.839129    407968       142.4          29.7   \n",
       "\n",
       "                                                                    thumbnail  \\\n",
       "acquired                                                                        \n",
       "2017-02-12 18:07:27.839129  https://tiles.planet.com/data/v1/item-types/PS...   \n",
       "\n",
       "                                         updated usable_data  view_angle  \n",
       "acquired                                                                  \n",
       "2017-02-12 18:07:27.839129  2017-10-06T20:36:59Z        0.35         1.1  \n",
       "\n",
       "[1 rows x 25 columns]"
      ]
     },
     "execution_count": 15,
     "metadata": {},
     "output_type": "execute_result"
    }
   ],
   "source": [
    "all_ps_scenes = items_to_scenes(search_pl_api(build_ps_request(aoi['geometry'], start_date, stop_date)))\n",
    "\n",
    "# How many PS scenes match query?\n",
    "print(len(all_ps_scenes))\n",
    "all_ps_scenes[:1]"
   ]
  },
  {
   "cell_type": "markdown",
   "metadata": {},
   "source": [
    "What about overlap? We really only want images that overlap over 20% of the AOI.\n",
    "\n",
    "Note: we do this calculation in WGS84, the geographic coordinate system supported by geojson. The calculation of coverage expects that the geometries entered are 2D, which WGS84 is not. This will cause a small inaccuracy in the coverage area calculation, but not enough to bother us here."
   ]
  },
  {
   "cell_type": "code",
   "execution_count": 16,
   "metadata": {},
   "outputs": [
    {
     "data": {
      "text/html": [
       "<div>\n",
       "<style scoped>\n",
       "    .dataframe tbody tr th:only-of-type {\n",
       "        vertical-align: middle;\n",
       "    }\n",
       "\n",
       "    .dataframe tbody tr th {\n",
       "        vertical-align: top;\n",
       "    }\n",
       "\n",
       "    .dataframe thead th {\n",
       "        text-align: right;\n",
       "    }\n",
       "</style>\n",
       "<table border=\"1\" class=\"dataframe\">\n",
       "  <thead>\n",
       "    <tr style=\"text-align: right;\">\n",
       "      <th></th>\n",
       "      <th>anomalous_pixels</th>\n",
       "      <th>black_fill</th>\n",
       "      <th>cloud_cover</th>\n",
       "      <th>columns</th>\n",
       "      <th>epsg_code</th>\n",
       "      <th>footprint</th>\n",
       "      <th>grid_cell</th>\n",
       "      <th>ground_control</th>\n",
       "      <th>gsd</th>\n",
       "      <th>id</th>\n",
       "      <th>...</th>\n",
       "      <th>rows</th>\n",
       "      <th>satellite_id</th>\n",
       "      <th>strip_id</th>\n",
       "      <th>sun_azimuth</th>\n",
       "      <th>sun_elevation</th>\n",
       "      <th>thumbnail</th>\n",
       "      <th>updated</th>\n",
       "      <th>usable_data</th>\n",
       "      <th>view_angle</th>\n",
       "      <th>overlap_percent</th>\n",
       "    </tr>\n",
       "    <tr>\n",
       "      <th>acquired</th>\n",
       "      <th></th>\n",
       "      <th></th>\n",
       "      <th></th>\n",
       "      <th></th>\n",
       "      <th></th>\n",
       "      <th></th>\n",
       "      <th></th>\n",
       "      <th></th>\n",
       "      <th></th>\n",
       "      <th></th>\n",
       "      <th></th>\n",
       "      <th></th>\n",
       "      <th></th>\n",
       "      <th></th>\n",
       "      <th></th>\n",
       "      <th></th>\n",
       "      <th></th>\n",
       "      <th></th>\n",
       "      <th></th>\n",
       "      <th></th>\n",
       "      <th></th>\n",
       "    </tr>\n",
       "  </thead>\n",
       "  <tbody>\n",
       "    <tr>\n",
       "      <th>2017-02-12 18:07:27.839129</th>\n",
       "      <td>0.05</td>\n",
       "      <td>0.61</td>\n",
       "      <td>0.048</td>\n",
       "      <td>8000</td>\n",
       "      <td>32610</td>\n",
       "      <td>{'coordinates': [[[-121.27768197723344, 38.146...</td>\n",
       "      <td>1056721</td>\n",
       "      <td>True</td>\n",
       "      <td>3.9</td>\n",
       "      <td>407968_1056721_2017-02-12_0e2f</td>\n",
       "      <td>...</td>\n",
       "      <td>8000</td>\n",
       "      <td>0e2f</td>\n",
       "      <td>407968</td>\n",
       "      <td>142.4</td>\n",
       "      <td>29.7</td>\n",
       "      <td>https://tiles.planet.com/data/v1/item-types/PS...</td>\n",
       "      <td>2017-10-06T20:36:59Z</td>\n",
       "      <td>0.35</td>\n",
       "      <td>1.1</td>\n",
       "      <td>1.000000</td>\n",
       "    </tr>\n",
       "    <tr>\n",
       "      <th>2017-02-25 18:07:56.843706</th>\n",
       "      <td>0.02</td>\n",
       "      <td>0.42</td>\n",
       "      <td>0.020</td>\n",
       "      <td>8000</td>\n",
       "      <td>32610</td>\n",
       "      <td>{'coordinates': [[[-121.21867337891399, 38.145...</td>\n",
       "      <td>1056721</td>\n",
       "      <td>True</td>\n",
       "      <td>3.9</td>\n",
       "      <td>420826_1056721_2017-02-25_0e3a</td>\n",
       "      <td>...</td>\n",
       "      <td>8000</td>\n",
       "      <td>0e3a</td>\n",
       "      <td>420826</td>\n",
       "      <td>140.1</td>\n",
       "      <td>34.0</td>\n",
       "      <td>https://tiles.planet.com/data/v1/item-types/PS...</td>\n",
       "      <td>2017-10-06T22:01:59Z</td>\n",
       "      <td>0.56</td>\n",
       "      <td>0.3</td>\n",
       "      <td>1.000000</td>\n",
       "    </tr>\n",
       "    <tr>\n",
       "      <th>2017-03-08 18:06:21.633105</th>\n",
       "      <td>0.01</td>\n",
       "      <td>0.18</td>\n",
       "      <td>0.005</td>\n",
       "      <td>8000</td>\n",
       "      <td>32610</td>\n",
       "      <td>{'coordinates': [[[-121.07799688052047, 38.143...</td>\n",
       "      <td>1056721</td>\n",
       "      <td>True</td>\n",
       "      <td>4.0</td>\n",
       "      <td>430384_1056721_2017-03-08_0e26</td>\n",
       "      <td>...</td>\n",
       "      <td>8000</td>\n",
       "      <td>0e26</td>\n",
       "      <td>430384</td>\n",
       "      <td>137.8</td>\n",
       "      <td>37.8</td>\n",
       "      <td>https://tiles.planet.com/data/v1/item-types/PS...</td>\n",
       "      <td>2017-10-06T23:06:48Z</td>\n",
       "      <td>0.82</td>\n",
       "      <td>0.8</td>\n",
       "      <td>0.888357</td>\n",
       "    </tr>\n",
       "    <tr>\n",
       "      <th>2017-03-29 18:08:35.089769</th>\n",
       "      <td>0.00</td>\n",
       "      <td>0.61</td>\n",
       "      <td>0.003</td>\n",
       "      <td>8000</td>\n",
       "      <td>32610</td>\n",
       "      <td>{'coordinates': [[[-121.27854028411807, 38.146...</td>\n",
       "      <td>1056721</td>\n",
       "      <td>True</td>\n",
       "      <td>4.0</td>\n",
       "      <td>450837_1056721_2017-03-29_0e20</td>\n",
       "      <td>...</td>\n",
       "      <td>8000</td>\n",
       "      <td>0e20</td>\n",
       "      <td>450837</td>\n",
       "      <td>133.8</td>\n",
       "      <td>45.6</td>\n",
       "      <td>https://tiles.planet.com/data/v1/item-types/PS...</td>\n",
       "      <td>2017-10-07T01:36:12Z</td>\n",
       "      <td>0.38</td>\n",
       "      <td>1.2</td>\n",
       "      <td>0.998892</td>\n",
       "    </tr>\n",
       "    <tr>\n",
       "      <th>2017-03-31 18:08:29.605734</th>\n",
       "      <td>0.01</td>\n",
       "      <td>0.07</td>\n",
       "      <td>0.006</td>\n",
       "      <td>8000</td>\n",
       "      <td>32610</td>\n",
       "      <td>{'coordinates': [[[-121.11121335695628, 38.144...</td>\n",
       "      <td>1056721</td>\n",
       "      <td>True</td>\n",
       "      <td>4.0</td>\n",
       "      <td>453267_1056721_2017-03-31_0e3a</td>\n",
       "      <td>...</td>\n",
       "      <td>8000</td>\n",
       "      <td>0e3a</td>\n",
       "      <td>453267</td>\n",
       "      <td>133.5</td>\n",
       "      <td>46.5</td>\n",
       "      <td>https://tiles.planet.com/data/v1/item-types/PS...</td>\n",
       "      <td>2017-10-07T02:00:13Z</td>\n",
       "      <td>0.92</td>\n",
       "      <td>0.6</td>\n",
       "      <td>1.000000</td>\n",
       "    </tr>\n",
       "  </tbody>\n",
       "</table>\n",
       "<p>5 rows × 26 columns</p>\n",
       "</div>"
      ],
      "text/plain": [
       "                            anomalous_pixels  black_fill  cloud_cover  \\\n",
       "acquired                                                                \n",
       "2017-02-12 18:07:27.839129              0.05        0.61        0.048   \n",
       "2017-02-25 18:07:56.843706              0.02        0.42        0.020   \n",
       "2017-03-08 18:06:21.633105              0.01        0.18        0.005   \n",
       "2017-03-29 18:08:35.089769              0.00        0.61        0.003   \n",
       "2017-03-31 18:08:29.605734              0.01        0.07        0.006   \n",
       "\n",
       "                            columns  epsg_code  \\\n",
       "acquired                                         \n",
       "2017-02-12 18:07:27.839129     8000      32610   \n",
       "2017-02-25 18:07:56.843706     8000      32610   \n",
       "2017-03-08 18:06:21.633105     8000      32610   \n",
       "2017-03-29 18:08:35.089769     8000      32610   \n",
       "2017-03-31 18:08:29.605734     8000      32610   \n",
       "\n",
       "                                                                    footprint  \\\n",
       "acquired                                                                        \n",
       "2017-02-12 18:07:27.839129  {'coordinates': [[[-121.27768197723344, 38.146...   \n",
       "2017-02-25 18:07:56.843706  {'coordinates': [[[-121.21867337891399, 38.145...   \n",
       "2017-03-08 18:06:21.633105  {'coordinates': [[[-121.07799688052047, 38.143...   \n",
       "2017-03-29 18:08:35.089769  {'coordinates': [[[-121.27854028411807, 38.146...   \n",
       "2017-03-31 18:08:29.605734  {'coordinates': [[[-121.11121335695628, 38.144...   \n",
       "\n",
       "                           grid_cell  ground_control  gsd  \\\n",
       "acquired                                                    \n",
       "2017-02-12 18:07:27.839129   1056721            True  3.9   \n",
       "2017-02-25 18:07:56.843706   1056721            True  3.9   \n",
       "2017-03-08 18:06:21.633105   1056721            True  4.0   \n",
       "2017-03-29 18:08:35.089769   1056721            True  4.0   \n",
       "2017-03-31 18:08:29.605734   1056721            True  4.0   \n",
       "\n",
       "                                                        id       ...         \\\n",
       "acquired                                                         ...          \n",
       "2017-02-12 18:07:27.839129  407968_1056721_2017-02-12_0e2f       ...          \n",
       "2017-02-25 18:07:56.843706  420826_1056721_2017-02-25_0e3a       ...          \n",
       "2017-03-08 18:06:21.633105  430384_1056721_2017-03-08_0e26       ...          \n",
       "2017-03-29 18:08:35.089769  450837_1056721_2017-03-29_0e20       ...          \n",
       "2017-03-31 18:08:29.605734  453267_1056721_2017-03-31_0e3a       ...          \n",
       "\n",
       "                            rows  satellite_id  strip_id  sun_azimuth  \\\n",
       "acquired                                                                \n",
       "2017-02-12 18:07:27.839129  8000          0e2f    407968        142.4   \n",
       "2017-02-25 18:07:56.843706  8000          0e3a    420826        140.1   \n",
       "2017-03-08 18:06:21.633105  8000          0e26    430384        137.8   \n",
       "2017-03-29 18:08:35.089769  8000          0e20    450837        133.8   \n",
       "2017-03-31 18:08:29.605734  8000          0e3a    453267        133.5   \n",
       "\n",
       "                           sun_elevation  \\\n",
       "acquired                                   \n",
       "2017-02-12 18:07:27.839129          29.7   \n",
       "2017-02-25 18:07:56.843706          34.0   \n",
       "2017-03-08 18:06:21.633105          37.8   \n",
       "2017-03-29 18:08:35.089769          45.6   \n",
       "2017-03-31 18:08:29.605734          46.5   \n",
       "\n",
       "                                                                    thumbnail  \\\n",
       "acquired                                                                        \n",
       "2017-02-12 18:07:27.839129  https://tiles.planet.com/data/v1/item-types/PS...   \n",
       "2017-02-25 18:07:56.843706  https://tiles.planet.com/data/v1/item-types/PS...   \n",
       "2017-03-08 18:06:21.633105  https://tiles.planet.com/data/v1/item-types/PS...   \n",
       "2017-03-29 18:08:35.089769  https://tiles.planet.com/data/v1/item-types/PS...   \n",
       "2017-03-31 18:08:29.605734  https://tiles.planet.com/data/v1/item-types/PS...   \n",
       "\n",
       "                                         updated usable_data view_angle  \\\n",
       "acquired                                                                  \n",
       "2017-02-12 18:07:27.839129  2017-10-06T20:36:59Z        0.35        1.1   \n",
       "2017-02-25 18:07:56.843706  2017-10-06T22:01:59Z        0.56        0.3   \n",
       "2017-03-08 18:06:21.633105  2017-10-06T23:06:48Z        0.82        0.8   \n",
       "2017-03-29 18:08:35.089769  2017-10-07T01:36:12Z        0.38        1.2   \n",
       "2017-03-31 18:08:29.605734  2017-10-07T02:00:13Z        0.92        0.6   \n",
       "\n",
       "                            overlap_percent  \n",
       "acquired                                     \n",
       "2017-02-12 18:07:27.839129         1.000000  \n",
       "2017-02-25 18:07:56.843706         1.000000  \n",
       "2017-03-08 18:06:21.633105         0.888357  \n",
       "2017-03-29 18:08:35.089769         0.998892  \n",
       "2017-03-31 18:08:29.605734         1.000000  \n",
       "\n",
       "[5 rows x 26 columns]"
      ]
     },
     "execution_count": 16,
     "metadata": {},
     "output_type": "execute_result"
    }
   ],
   "source": [
    "def aoi_overlap_percent(footprint, aoi):\n",
    "    aoi_shape = sgeom.shape(aoi['geometry'])\n",
    "    footprint_shape = sgeom.shape(footprint)\n",
    "    overlap = aoi_shape.intersection(footprint_shape)\n",
    "    return overlap.area / aoi_shape.area\n",
    "\n",
    "overlap_percent = all_ps_scenes.footprint.apply(aoi_overlap_percent, args=(aoi,))\n",
    "all_ps_scenes = all_ps_scenes.assign(overlap_percent = overlap_percent)\n",
    "all_ps_scenes.head()"
   ]
  },
  {
   "cell_type": "code",
   "execution_count": 17,
   "metadata": {},
   "outputs": [
    {
     "name": "stdout",
     "output_type": "stream",
     "text": [
      "117\n",
      "101\n"
     ]
    }
   ],
   "source": [
    "print(len(all_ps_scenes))\n",
    "ps_scenes = all_ps_scenes[all_ps_scenes.overlap_percent > 0.20]\n",
    "print(len(ps_scenes))"
   ]
  },
  {
   "cell_type": "markdown",
   "metadata": {},
   "source": [
    "Ideally, PS scenes have daily coverage over all regions. How many days have PS coverage and how many PS scenes were taken on the same day?"
   ]
  },
  {
   "cell_type": "code",
   "execution_count": 18,
   "metadata": {},
   "outputs": [],
   "source": [
    "# ps_scenes.index.to_series().head()\n",
    "# ps_scenes.filter(items=['id']).groupby(pd.Grouper(freq='D')).agg('count')"
   ]
  },
  {
   "cell_type": "code",
   "execution_count": 19,
   "metadata": {},
   "outputs": [],
   "source": [
    "# Use PS acquisition year, month, and day as index and group by those indices\n",
    "# https://stackoverflow.com/questions/14646336/pandas-grouping-intra-day-timeseries-by-date\n",
    "daily_ps_scenes = ps_scenes.index.to_series().groupby([ps_scenes.index.year,\n",
    "                                                       ps_scenes.index.month,\n",
    "                                                       ps_scenes.index.day])"
   ]
  },
  {
   "cell_type": "code",
   "execution_count": 20,
   "metadata": {},
   "outputs": [
    {
     "name": "stdout",
     "output_type": "stream",
     "text": [
      "Out of 72 days of coverage, 23 days have multiple collects.\n"
     ]
    },
    {
     "data": {
      "text/plain": [
       "y     m  d \n",
       "2017  5  18    2\n",
       "         21    2\n",
       "      6  14    2\n",
       "         16    2\n",
       "         17    3\n",
       "Name: acquired, dtype: int64"
      ]
     },
     "execution_count": 20,
     "metadata": {},
     "output_type": "execute_result"
    }
   ],
   "source": [
    "daily_count = daily_ps_scenes.agg('count')\n",
    "daily_count.index.names = ['y', 'm', 'd']\n",
    "\n",
    "# How many days is the count greater than 1?\n",
    "daily_multiple_count = daily_count[daily_count > 1]\n",
    "\n",
    "print('Out of {} days of coverage, {} days have multiple collects.'.format( \\\n",
    "    len(daily_count), len(daily_multiple_count)))\n",
    "\n",
    "daily_multiple_count.head()"
   ]
  },
  {
   "cell_type": "code",
   "execution_count": 21,
   "metadata": {},
   "outputs": [
    {
     "data": {
      "text/html": [
       "<div>\n",
       "<style scoped>\n",
       "    .dataframe tbody tr th:only-of-type {\n",
       "        vertical-align: middle;\n",
       "    }\n",
       "\n",
       "    .dataframe tbody tr th {\n",
       "        vertical-align: top;\n",
       "    }\n",
       "\n",
       "    .dataframe thead th {\n",
       "        text-align: right;\n",
       "    }\n",
       "</style>\n",
       "<table border=\"1\" class=\"dataframe\">\n",
       "  <thead>\n",
       "    <tr style=\"text-align: right;\">\n",
       "      <th></th>\n",
       "      <th></th>\n",
       "      <th></th>\n",
       "      <th></th>\n",
       "      <th>count</th>\n",
       "      <th>acquisition_time</th>\n",
       "    </tr>\n",
       "    <tr>\n",
       "      <th>y</th>\n",
       "      <th>m</th>\n",
       "      <th>d</th>\n",
       "      <th>num</th>\n",
       "      <th></th>\n",
       "      <th></th>\n",
       "    </tr>\n",
       "  </thead>\n",
       "  <tbody>\n",
       "    <tr>\n",
       "      <th rowspan=\"23\" valign=\"top\">2017</th>\n",
       "      <th rowspan=\"23\" valign=\"top\">7</th>\n",
       "      <th rowspan=\"2\" valign=\"top\">1</th>\n",
       "      <th>0</th>\n",
       "      <td>2</td>\n",
       "      <td>2017-07-01 18:03:25.712115</td>\n",
       "    </tr>\n",
       "    <tr>\n",
       "      <th>1</th>\n",
       "      <td>2</td>\n",
       "      <td>2017-07-01 18:05:55.642145</td>\n",
       "    </tr>\n",
       "    <tr>\n",
       "      <th rowspan=\"2\" valign=\"top\">2</th>\n",
       "      <th>0</th>\n",
       "      <td>2</td>\n",
       "      <td>2017-07-02 18:04:35.818128</td>\n",
       "    </tr>\n",
       "    <tr>\n",
       "      <th>1</th>\n",
       "      <td>2</td>\n",
       "      <td>2017-07-02 18:05:36.292289</td>\n",
       "    </tr>\n",
       "    <tr>\n",
       "      <th rowspan=\"2\" valign=\"top\">4</th>\n",
       "      <th>0</th>\n",
       "      <td>2</td>\n",
       "      <td>2017-07-04 18:04:46.188288</td>\n",
       "    </tr>\n",
       "    <tr>\n",
       "      <th>1</th>\n",
       "      <td>2</td>\n",
       "      <td>2017-07-04 18:05:02.287522</td>\n",
       "    </tr>\n",
       "    <tr>\n",
       "      <th rowspan=\"2\" valign=\"top\">6</th>\n",
       "      <th>0</th>\n",
       "      <td>2</td>\n",
       "      <td>2017-07-06 18:04:32.386969</td>\n",
       "    </tr>\n",
       "    <tr>\n",
       "      <th>1</th>\n",
       "      <td>2</td>\n",
       "      <td>2017-07-06 18:05:44.718560</td>\n",
       "    </tr>\n",
       "    <tr>\n",
       "      <th rowspan=\"2\" valign=\"top\">11</th>\n",
       "      <th>0</th>\n",
       "      <td>2</td>\n",
       "      <td>2017-07-11 18:04:24.857272</td>\n",
       "    </tr>\n",
       "    <tr>\n",
       "      <th>1</th>\n",
       "      <td>2</td>\n",
       "      <td>2017-07-11 18:05:05.207145</td>\n",
       "    </tr>\n",
       "    <tr>\n",
       "      <th rowspan=\"3\" valign=\"top\">13</th>\n",
       "      <th>0</th>\n",
       "      <td>3</td>\n",
       "      <td>2017-07-13 18:06:17.574410</td>\n",
       "    </tr>\n",
       "    <tr>\n",
       "      <th>1</th>\n",
       "      <td>3</td>\n",
       "      <td>2017-07-13 18:07:40.820462</td>\n",
       "    </tr>\n",
       "    <tr>\n",
       "      <th>2</th>\n",
       "      <td>3</td>\n",
       "      <td>2017-07-13 18:07:50.882306</td>\n",
       "    </tr>\n",
       "    <tr>\n",
       "      <th rowspan=\"2\" valign=\"top\">17</th>\n",
       "      <th>0</th>\n",
       "      <td>2</td>\n",
       "      <td>2017-07-17 18:05:41.353902</td>\n",
       "    </tr>\n",
       "    <tr>\n",
       "      <th>1</th>\n",
       "      <td>2</td>\n",
       "      <td>2017-07-17 18:07:58.740699</td>\n",
       "    </tr>\n",
       "    <tr>\n",
       "      <th rowspan=\"2\" valign=\"top\">20</th>\n",
       "      <th>0</th>\n",
       "      <td>2</td>\n",
       "      <td>2017-07-20 18:06:21.373553</td>\n",
       "    </tr>\n",
       "    <tr>\n",
       "      <th>1</th>\n",
       "      <td>2</td>\n",
       "      <td>2017-07-20 18:06:51.837791</td>\n",
       "    </tr>\n",
       "    <tr>\n",
       "      <th rowspan=\"2\" valign=\"top\">27</th>\n",
       "      <th>0</th>\n",
       "      <td>2</td>\n",
       "      <td>2017-07-27 18:06:41.112583</td>\n",
       "    </tr>\n",
       "    <tr>\n",
       "      <th>1</th>\n",
       "      <td>2</td>\n",
       "      <td>2017-07-27 18:07:32.675364</td>\n",
       "    </tr>\n",
       "    <tr>\n",
       "      <th rowspan=\"2\" valign=\"top\">28</th>\n",
       "      <th>0</th>\n",
       "      <td>2</td>\n",
       "      <td>2017-07-28 18:06:59.551114</td>\n",
       "    </tr>\n",
       "    <tr>\n",
       "      <th>1</th>\n",
       "      <td>2</td>\n",
       "      <td>2017-07-28 18:07:51.373098</td>\n",
       "    </tr>\n",
       "    <tr>\n",
       "      <th rowspan=\"2\" valign=\"top\">29</th>\n",
       "      <th>0</th>\n",
       "      <td>2</td>\n",
       "      <td>2017-07-29 18:06:43.755733</td>\n",
       "    </tr>\n",
       "    <tr>\n",
       "      <th>1</th>\n",
       "      <td>2</td>\n",
       "      <td>2017-07-29 18:11:42.389950</td>\n",
       "    </tr>\n",
       "  </tbody>\n",
       "</table>\n",
       "</div>"
      ],
      "text/plain": [
       "               count           acquisition_time\n",
       "y    m d  num                                  \n",
       "2017 7 1  0        2 2017-07-01 18:03:25.712115\n",
       "          1        2 2017-07-01 18:05:55.642145\n",
       "       2  0        2 2017-07-02 18:04:35.818128\n",
       "          1        2 2017-07-02 18:05:36.292289\n",
       "       4  0        2 2017-07-04 18:04:46.188288\n",
       "          1        2 2017-07-04 18:05:02.287522\n",
       "       6  0        2 2017-07-06 18:04:32.386969\n",
       "          1        2 2017-07-06 18:05:44.718560\n",
       "       11 0        2 2017-07-11 18:04:24.857272\n",
       "          1        2 2017-07-11 18:05:05.207145\n",
       "       13 0        3 2017-07-13 18:06:17.574410\n",
       "          1        3 2017-07-13 18:07:40.820462\n",
       "          2        3 2017-07-13 18:07:50.882306\n",
       "       17 0        2 2017-07-17 18:05:41.353902\n",
       "          1        2 2017-07-17 18:07:58.740699\n",
       "       20 0        2 2017-07-20 18:06:21.373553\n",
       "          1        2 2017-07-20 18:06:51.837791\n",
       "       27 0        2 2017-07-27 18:06:41.112583\n",
       "          1        2 2017-07-27 18:07:32.675364\n",
       "       28 0        2 2017-07-28 18:06:59.551114\n",
       "          1        2 2017-07-28 18:07:51.373098\n",
       "       29 0        2 2017-07-29 18:06:43.755733\n",
       "          1        2 2017-07-29 18:11:42.389950"
      ]
     },
     "execution_count": 21,
     "metadata": {},
     "output_type": "execute_result"
    }
   ],
   "source": [
    "def scenes_and_count(group):\n",
    "    entry = {'count': len(group),\n",
    "             'acquisition_time': group.index.tolist()}\n",
    "    return pd.DataFrame(entry)\n",
    "\n",
    "daily_count_and_scenes = daily_ps_scenes.apply(scenes_and_count)\n",
    "# need to rename indices because right now multiple are called 'acquired', which\n",
    "# causes a bug when we try to run the query\n",
    "daily_count_and_scenes.index.names = ['y', 'm', 'd', 'num']\n",
    "\n",
    "multiplecoverage = daily_count_and_scenes.query('count > 1')\n",
    "\n",
    "multiplecoverage.query('m == 7')  # look at just occurrence in July"
   ]
  },
  {
   "cell_type": "markdown",
   "metadata": {},
   "source": [
    "Looks like the multiple collects on the same day are just a few minutes apart. They are likely crossovers between different PS satellites. Cool! Since we only want to us one PS image for a crossover, we will chose the best collect for days with multiple collects."
   ]
  },
  {
   "cell_type": "markdown",
   "metadata": {},
   "source": [
    "## Find Crossovers\n",
    "\n",
    "Now that we have the PS Orthotiles filtered to what we want and have investigated the Landsat 8 scenes, let's look for crossovers between the two.\n",
    "\n",
    "First we find concurrent crossovers, PS and Landsat collects that occur within 1hour of each other."
   ]
  },
  {
   "cell_type": "code",
   "execution_count": 22,
   "metadata": {},
   "outputs": [
    {
     "name": "stdout",
     "output_type": "stream",
     "text": [
      "11\n"
     ]
    },
    {
     "data": {
      "text/html": [
       "<div>\n",
       "<style scoped>\n",
       "    .dataframe tbody tr th:only-of-type {\n",
       "        vertical-align: middle;\n",
       "    }\n",
       "\n",
       "    .dataframe tbody tr th {\n",
       "        vertical-align: top;\n",
       "    }\n",
       "\n",
       "    .dataframe thead th {\n",
       "        text-align: right;\n",
       "    }\n",
       "</style>\n",
       "<table border=\"1\" class=\"dataframe\">\n",
       "  <thead>\n",
       "    <tr style=\"text-align: right;\">\n",
       "      <th></th>\n",
       "      <th>landsat_acquisition</th>\n",
       "      <th>delta</th>\n",
       "    </tr>\n",
       "    <tr>\n",
       "      <th>acquired</th>\n",
       "      <th></th>\n",
       "      <th></th>\n",
       "    </tr>\n",
       "  </thead>\n",
       "  <tbody>\n",
       "    <tr>\n",
       "      <th>2017-04-20 18:09:59.004133</th>\n",
       "      <td>2017-04-20 18:38:53.885420</td>\n",
       "      <td>00:28:54.881287</td>\n",
       "    </tr>\n",
       "    <tr>\n",
       "      <th>2017-04-27 18:03:00.275770</th>\n",
       "      <td>2017-04-27 18:44:59.461293</td>\n",
       "      <td>00:41:59.185523</td>\n",
       "    </tr>\n",
       "    <tr>\n",
       "      <th>2017-05-13 18:02:27.453337</th>\n",
       "      <td>2017-05-13 18:45:05.637784</td>\n",
       "      <td>00:42:38.184447</td>\n",
       "    </tr>\n",
       "    <tr>\n",
       "      <th>2017-06-14 18:04:11.127509</th>\n",
       "      <td>2017-06-14 18:45:22.986220</td>\n",
       "      <td>00:41:11.858711</td>\n",
       "    </tr>\n",
       "    <tr>\n",
       "      <th>2017-06-14 18:04:11.900359</th>\n",
       "      <td>2017-06-14 18:45:22.986220</td>\n",
       "      <td>00:41:11.085861</td>\n",
       "    </tr>\n",
       "    <tr>\n",
       "      <th>2017-06-23 18:04:26.540231</th>\n",
       "      <td>2017-06-23 18:39:15.004125</td>\n",
       "      <td>00:34:48.463894</td>\n",
       "    </tr>\n",
       "    <tr>\n",
       "      <th>2017-06-30 18:04:29.381121</th>\n",
       "      <td>2017-06-30 18:45:27.449140</td>\n",
       "      <td>00:40:58.068019</td>\n",
       "    </tr>\n",
       "    <tr>\n",
       "      <th>2017-07-09 18:06:27.610673</th>\n",
       "      <td>2017-07-09 18:39:18.102726</td>\n",
       "      <td>00:32:50.492053</td>\n",
       "    </tr>\n",
       "    <tr>\n",
       "      <th>2017-07-16 18:06:32.927964</th>\n",
       "      <td>2017-07-16 18:45:31.093192</td>\n",
       "      <td>00:38:58.165228</td>\n",
       "    </tr>\n",
       "    <tr>\n",
       "      <th>2017-07-25 18:06:03.712244</th>\n",
       "      <td>2017-07-25 18:39:24.978760</td>\n",
       "      <td>00:33:21.266516</td>\n",
       "    </tr>\n",
       "    <tr>\n",
       "      <th>2017-08-10 18:07:08.680191</th>\n",
       "      <td>2017-08-10 18:39:31.491518</td>\n",
       "      <td>00:32:22.811327</td>\n",
       "    </tr>\n",
       "  </tbody>\n",
       "</table>\n",
       "</div>"
      ],
      "text/plain": [
       "                                  landsat_acquisition           delta\n",
       "acquired                                                             \n",
       "2017-04-20 18:09:59.004133 2017-04-20 18:38:53.885420 00:28:54.881287\n",
       "2017-04-27 18:03:00.275770 2017-04-27 18:44:59.461293 00:41:59.185523\n",
       "2017-05-13 18:02:27.453337 2017-05-13 18:45:05.637784 00:42:38.184447\n",
       "2017-06-14 18:04:11.127509 2017-06-14 18:45:22.986220 00:41:11.858711\n",
       "2017-06-14 18:04:11.900359 2017-06-14 18:45:22.986220 00:41:11.085861\n",
       "2017-06-23 18:04:26.540231 2017-06-23 18:39:15.004125 00:34:48.463894\n",
       "2017-06-30 18:04:29.381121 2017-06-30 18:45:27.449140 00:40:58.068019\n",
       "2017-07-09 18:06:27.610673 2017-07-09 18:39:18.102726 00:32:50.492053\n",
       "2017-07-16 18:06:32.927964 2017-07-16 18:45:31.093192 00:38:58.165228\n",
       "2017-07-25 18:06:03.712244 2017-07-25 18:39:24.978760 00:33:21.266516\n",
       "2017-08-10 18:07:08.680191 2017-08-10 18:39:31.491518 00:32:22.811327"
      ]
     },
     "execution_count": 22,
     "metadata": {},
     "output_type": "execute_result"
    }
   ],
   "source": [
    "def find_crossovers(acquired_time, landsat_scenes):\n",
    "    '''landsat_scenes: pandas dataframe with acquisition time as index'''\n",
    "    closest_idx, closest_delta = find_closest(acquired_time, landsat_scenes)\n",
    "    closest_landsat = landsat_scenes.iloc[closest_idx]\n",
    "\n",
    "    crossover = {'landsat_acquisition': closest_landsat.name,\n",
    "                 'delta': closest_delta}\n",
    "    return pd.Series(crossover)\n",
    "\n",
    "\n",
    "# fetch PS scenes\n",
    "ps_scenes = items_to_scenes(search_pl_api(build_ps_request(aoi['geometry'],\n",
    "                                                           start_date, stop_date)))\n",
    "\n",
    "\n",
    "# for each PS scene, find the closest Landsat scene\n",
    "crossovers = ps_scenes.index.to_series().apply(find_crossovers, args=(landsat_scenes,))\n",
    "\n",
    "# filter to crossovers within 1hr\n",
    "concurrent_crossovers = crossovers[crossovers['delta'] < pd.Timedelta('1 hours')]\n",
    "print(len(concurrent_crossovers))\n",
    "concurrent_crossovers"
   ]
  },
  {
   "cell_type": "markdown",
   "metadata": {},
   "source": [
    "Now that we have the crossovers, what we are really interested in is the IDs of the landsat and PS scenes, as well as how much they overlap the AOI."
   ]
  },
  {
   "cell_type": "code",
   "execution_count": 23,
   "metadata": {},
   "outputs": [
    {
     "name": "stdout",
     "output_type": "stream",
     "text": [
      "11\n"
     ]
    }
   ],
   "source": [
    "def get_crossover_info(crossovers, aoi):\n",
    "    def get_scene_info(acquisition_time, scenes):\n",
    "        scene = scenes.loc[acquisition_time]\n",
    "        scene_info = {'id': scene.id,\n",
    "                      'thumbnail': scene.thumbnail,\n",
    "                      # we are going to use the footprints as shapes so convert to shapes now\n",
    "                      'footprint': sgeom.shape(scene.footprint)}\n",
    "        return pd.Series(scene_info)\n",
    "\n",
    "    landsat_info = crossovers.landsat_acquisition.apply(get_scene_info, args=(landsat_scenes,))\n",
    "    ps_info = crossovers.index.to_series().apply(get_scene_info, args=(ps_scenes,))\n",
    "\n",
    "    footprint_info = pd.DataFrame({'landsat': landsat_info.footprint,\n",
    "                                   'ps': ps_info.footprint})\n",
    "    overlaps = footprint_info.apply(lambda x: x.landsat.intersection(x.ps),\n",
    "                                    axis=1)\n",
    "    \n",
    "    aoi_shape = sgeom.shape(aoi['geometry'])\n",
    "    overlap_percent = overlaps.apply(lambda x: x.intersection(aoi_shape).area / aoi_shape.area)\n",
    "    crossover_info = pd.DataFrame({'overlap': overlaps,\n",
    "                                   'overlap_percent': overlap_percent,\n",
    "                                   'ps_id': ps_info.id,\n",
    "                                   'ps_thumbnail': ps_info.thumbnail,\n",
    "                                   'landsat_id': landsat_info.id,\n",
    "                                   'landsat_thumbnail': landsat_info.thumbnail})\n",
    "    return crossover_info\n",
    "\n",
    "crossover_info = get_crossover_info(concurrent_crossovers, aoi)\n",
    "print(len(crossover_info))"
   ]
  },
  {
   "cell_type": "markdown",
   "metadata": {},
   "source": [
    "Next, we filter to overlaps that cover a significant portion of the AOI."
   ]
  },
  {
   "cell_type": "code",
   "execution_count": 24,
   "metadata": {},
   "outputs": [
    {
     "name": "stdout",
     "output_type": "stream",
     "text": [
      "7\n"
     ]
    },
    {
     "data": {
      "text/html": [
       "<div>\n",
       "<style scoped>\n",
       "    .dataframe tbody tr th:only-of-type {\n",
       "        vertical-align: middle;\n",
       "    }\n",
       "\n",
       "    .dataframe tbody tr th {\n",
       "        vertical-align: top;\n",
       "    }\n",
       "\n",
       "    .dataframe thead th {\n",
       "        text-align: right;\n",
       "    }\n",
       "</style>\n",
       "<table border=\"1\" class=\"dataframe\">\n",
       "  <thead>\n",
       "    <tr style=\"text-align: right;\">\n",
       "      <th></th>\n",
       "      <th>overlap</th>\n",
       "      <th>overlap_percent</th>\n",
       "      <th>ps_id</th>\n",
       "      <th>ps_thumbnail</th>\n",
       "      <th>landsat_id</th>\n",
       "      <th>landsat_thumbnail</th>\n",
       "    </tr>\n",
       "    <tr>\n",
       "      <th>acquired</th>\n",
       "      <th></th>\n",
       "      <th></th>\n",
       "      <th></th>\n",
       "      <th></th>\n",
       "      <th></th>\n",
       "      <th></th>\n",
       "    </tr>\n",
       "  </thead>\n",
       "  <tbody>\n",
       "    <tr>\n",
       "      <th>2017-05-13 18:02:27.453337</th>\n",
       "      <td>POLYGON ((-121.0987249917847 38.14394349072971...</td>\n",
       "      <td>1.0</td>\n",
       "      <td>508274_1056721_2017-05-13_1023</td>\n",
       "      <td>https://tiles.planet.com/data/v1/item-types/PS...</td>\n",
       "      <td>LC80440332017133LGN00</td>\n",
       "      <td>https://tiles.planet.com/data/v1/item-types/La...</td>\n",
       "    </tr>\n",
       "    <tr>\n",
       "      <th>2017-06-14 18:04:11.127509</th>\n",
       "      <td>POLYGON ((-121.091772706019 38.14384223685507,...</td>\n",
       "      <td>1.0</td>\n",
       "      <td>550124_1056721_2017-06-14_0f17</td>\n",
       "      <td>https://tiles.planet.com/data/v1/item-types/PS...</td>\n",
       "      <td>LC80440332017165LGN00</td>\n",
       "      <td>https://tiles.planet.com/data/v1/item-types/La...</td>\n",
       "    </tr>\n",
       "    <tr>\n",
       "      <th>2017-06-14 18:04:11.900359</th>\n",
       "      <td>POLYGON ((-121.140910775165 38.14458476200578,...</td>\n",
       "      <td>1.0</td>\n",
       "      <td>549486_1056721_2017-06-14_103b</td>\n",
       "      <td>https://tiles.planet.com/data/v1/item-types/PS...</td>\n",
       "      <td>LC80440332017165LGN00</td>\n",
       "      <td>https://tiles.planet.com/data/v1/item-types/La...</td>\n",
       "    </tr>\n",
       "    <tr>\n",
       "      <th>2017-06-23 18:04:26.540231</th>\n",
       "      <td>POLYGON ((-121.0764479306664 38.16947237241421...</td>\n",
       "      <td>1.0</td>\n",
       "      <td>572816_1056721_2017-06-23_103c</td>\n",
       "      <td>https://tiles.planet.com/data/v1/item-types/PS...</td>\n",
       "      <td>LC80430332017174LGN00</td>\n",
       "      <td>https://tiles.planet.com/data/v1/item-types/La...</td>\n",
       "    </tr>\n",
       "    <tr>\n",
       "      <th>2017-07-16 18:06:32.927964</th>\n",
       "      <td>POLYGON ((-121.1811653680549 38.14519227696254...</td>\n",
       "      <td>1.0</td>\n",
       "      <td>626905_1056721_2017-07-16_103c</td>\n",
       "      <td>https://tiles.planet.com/data/v1/item-types/PS...</td>\n",
       "      <td>LC80440332017197LGN00</td>\n",
       "      <td>https://tiles.planet.com/data/v1/item-types/La...</td>\n",
       "    </tr>\n",
       "    <tr>\n",
       "      <th>2017-07-25 18:06:03.712244</th>\n",
       "      <td>POLYGON ((-121.1554753359103 38.18575022748002...</td>\n",
       "      <td>1.0</td>\n",
       "      <td>644787_1056721_2017-07-25_0f52</td>\n",
       "      <td>https://tiles.planet.com/data/v1/item-types/PS...</td>\n",
       "      <td>LC80430332017206LGN00</td>\n",
       "      <td>https://tiles.planet.com/data/v1/item-types/La...</td>\n",
       "    </tr>\n",
       "    <tr>\n",
       "      <th>2017-08-10 18:07:08.680191</th>\n",
       "      <td>POLYGON ((-121.0839723978857 38.17066903036361...</td>\n",
       "      <td>1.0</td>\n",
       "      <td>680643_1056721_2017-08-10_100e</td>\n",
       "      <td>https://tiles.planet.com/data/v1/item-types/PS...</td>\n",
       "      <td>LC80430332017222LGN00</td>\n",
       "      <td>https://tiles.planet.com/data/v1/item-types/La...</td>\n",
       "    </tr>\n",
       "  </tbody>\n",
       "</table>\n",
       "</div>"
      ],
      "text/plain": [
       "                                                                      overlap  \\\n",
       "acquired                                                                        \n",
       "2017-05-13 18:02:27.453337  POLYGON ((-121.0987249917847 38.14394349072971...   \n",
       "2017-06-14 18:04:11.127509  POLYGON ((-121.091772706019 38.14384223685507,...   \n",
       "2017-06-14 18:04:11.900359  POLYGON ((-121.140910775165 38.14458476200578,...   \n",
       "2017-06-23 18:04:26.540231  POLYGON ((-121.0764479306664 38.16947237241421...   \n",
       "2017-07-16 18:06:32.927964  POLYGON ((-121.1811653680549 38.14519227696254...   \n",
       "2017-07-25 18:06:03.712244  POLYGON ((-121.1554753359103 38.18575022748002...   \n",
       "2017-08-10 18:07:08.680191  POLYGON ((-121.0839723978857 38.17066903036361...   \n",
       "\n",
       "                            overlap_percent                           ps_id  \\\n",
       "acquired                                                                      \n",
       "2017-05-13 18:02:27.453337              1.0  508274_1056721_2017-05-13_1023   \n",
       "2017-06-14 18:04:11.127509              1.0  550124_1056721_2017-06-14_0f17   \n",
       "2017-06-14 18:04:11.900359              1.0  549486_1056721_2017-06-14_103b   \n",
       "2017-06-23 18:04:26.540231              1.0  572816_1056721_2017-06-23_103c   \n",
       "2017-07-16 18:06:32.927964              1.0  626905_1056721_2017-07-16_103c   \n",
       "2017-07-25 18:06:03.712244              1.0  644787_1056721_2017-07-25_0f52   \n",
       "2017-08-10 18:07:08.680191              1.0  680643_1056721_2017-08-10_100e   \n",
       "\n",
       "                                                                 ps_thumbnail  \\\n",
       "acquired                                                                        \n",
       "2017-05-13 18:02:27.453337  https://tiles.planet.com/data/v1/item-types/PS...   \n",
       "2017-06-14 18:04:11.127509  https://tiles.planet.com/data/v1/item-types/PS...   \n",
       "2017-06-14 18:04:11.900359  https://tiles.planet.com/data/v1/item-types/PS...   \n",
       "2017-06-23 18:04:26.540231  https://tiles.planet.com/data/v1/item-types/PS...   \n",
       "2017-07-16 18:06:32.927964  https://tiles.planet.com/data/v1/item-types/PS...   \n",
       "2017-07-25 18:06:03.712244  https://tiles.planet.com/data/v1/item-types/PS...   \n",
       "2017-08-10 18:07:08.680191  https://tiles.planet.com/data/v1/item-types/PS...   \n",
       "\n",
       "                                       landsat_id  \\\n",
       "acquired                                            \n",
       "2017-05-13 18:02:27.453337  LC80440332017133LGN00   \n",
       "2017-06-14 18:04:11.127509  LC80440332017165LGN00   \n",
       "2017-06-14 18:04:11.900359  LC80440332017165LGN00   \n",
       "2017-06-23 18:04:26.540231  LC80430332017174LGN00   \n",
       "2017-07-16 18:06:32.927964  LC80440332017197LGN00   \n",
       "2017-07-25 18:06:03.712244  LC80430332017206LGN00   \n",
       "2017-08-10 18:07:08.680191  LC80430332017222LGN00   \n",
       "\n",
       "                                                            landsat_thumbnail  \n",
       "acquired                                                                       \n",
       "2017-05-13 18:02:27.453337  https://tiles.planet.com/data/v1/item-types/La...  \n",
       "2017-06-14 18:04:11.127509  https://tiles.planet.com/data/v1/item-types/La...  \n",
       "2017-06-14 18:04:11.900359  https://tiles.planet.com/data/v1/item-types/La...  \n",
       "2017-06-23 18:04:26.540231  https://tiles.planet.com/data/v1/item-types/La...  \n",
       "2017-07-16 18:06:32.927964  https://tiles.planet.com/data/v1/item-types/La...  \n",
       "2017-07-25 18:06:03.712244  https://tiles.planet.com/data/v1/item-types/La...  \n",
       "2017-08-10 18:07:08.680191  https://tiles.planet.com/data/v1/item-types/La...  "
      ]
     },
     "execution_count": 24,
     "metadata": {},
     "output_type": "execute_result"
    }
   ],
   "source": [
    "significant_crossovers_info = crossover_info[crossover_info.overlap_percent > 0.9]\n",
    "print(len(significant_crossovers_info))\n",
    "significant_crossovers_info"
   ]
  },
  {
   "cell_type": "markdown",
   "metadata": {},
   "source": [
    "Browsing through the crossovers, we see that in some instances, multiple crossovers take place on the same day. Really, we are interested in 'unique crossovers', that is, crossovers that take place on unique days. Therefore, we will look at the concurrent crossovers by day."
   ]
  },
  {
   "cell_type": "code",
   "execution_count": 25,
   "metadata": {},
   "outputs": [
    {
     "name": "stdout",
     "output_type": "stream",
     "text": [
      "6\n",
      "acquired  acquired  acquired\n",
      "2017      5         13          1\n",
      "          6         14          2\n",
      "                    23          1\n",
      "          7         16          1\n",
      "                    25          1\n",
      "          8         10          1\n",
      "Name: acquired, dtype: int64\n"
     ]
    }
   ],
   "source": [
    "def group_by_day(data_frame):\n",
    "    return data_frame.groupby([data_frame.index.year,\n",
    "                               data_frame.index.month,\n",
    "                               data_frame.index.day])\n",
    "\n",
    "unique_crossover_days = group_by_day(significant_crossovers_info.index.to_series()).count()\n",
    "print(len(unique_crossover_days))\n",
    "print(unique_crossover_days)"
   ]
  },
  {
   "cell_type": "markdown",
   "metadata": {},
   "source": [
    "There are 6 unique crossovers between Landsat 8 and PS that cover over 90% of our AOI between January and August in 2017. Not bad! That is definitely enough to perform comparison."
   ]
  },
  {
   "cell_type": "markdown",
   "metadata": {},
   "source": [
    "### Display Crossovers\n",
    "\n",
    "Let's take a quick look at the crossovers we found to make sure that they don't look cloudy, hazy, or have any other quality issues that would affect the comparison."
   ]
  },
  {
   "cell_type": "code",
   "execution_count": 26,
   "metadata": {
    "scrolled": false
   },
   "outputs": [
    {
     "name": "stdout",
     "output_type": "stream",
     "text": [
      "2017-05-13T18:02:27.453337000\n"
     ]
    },
    {
     "data": {
      "text/html": [
       "<img src=\"https://tiles.planet.com/data/v1/item-types/PSOrthoTile/items/508274_1056721_2017-05-13_1023/thumb\" alt=\"https://tiles.planet.com/data/v1/item-types/PSOrthoTile/items/508274_1056721_2017-05-13_1023/thumb\"style=\"display:inline;margin:1px\"/><img src=\"https://tiles.planet.com/data/v1/item-types/Landsat8L1G/items/LC80440332017133LGN00/thumb\" alt=\"https://tiles.planet.com/data/v1/item-types/Landsat8L1G/items/LC80440332017133LGN00/thumb\"style=\"display:inline;margin:1px\"/>"
      ],
      "text/plain": [
       "<IPython.core.display.HTML object>"
      ]
     },
     "metadata": {},
     "output_type": "display_data"
    },
    {
     "name": "stdout",
     "output_type": "stream",
     "text": [
      "2017-06-14T18:04:11.127509000\n"
     ]
    },
    {
     "data": {
      "text/html": [
       "<img src=\"https://tiles.planet.com/data/v1/item-types/PSOrthoTile/items/550124_1056721_2017-06-14_0f17/thumb\" alt=\"https://tiles.planet.com/data/v1/item-types/PSOrthoTile/items/550124_1056721_2017-06-14_0f17/thumb\"style=\"display:inline;margin:1px\"/><img src=\"https://tiles.planet.com/data/v1/item-types/Landsat8L1G/items/LC80440332017165LGN00/thumb\" alt=\"https://tiles.planet.com/data/v1/item-types/Landsat8L1G/items/LC80440332017165LGN00/thumb\"style=\"display:inline;margin:1px\"/>"
      ],
      "text/plain": [
       "<IPython.core.display.HTML object>"
      ]
     },
     "metadata": {},
     "output_type": "display_data"
    },
    {
     "name": "stdout",
     "output_type": "stream",
     "text": [
      "2017-06-14T18:04:11.900359000\n"
     ]
    },
    {
     "data": {
      "text/html": [
       "<img src=\"https://tiles.planet.com/data/v1/item-types/PSOrthoTile/items/549486_1056721_2017-06-14_103b/thumb\" alt=\"https://tiles.planet.com/data/v1/item-types/PSOrthoTile/items/549486_1056721_2017-06-14_103b/thumb\"style=\"display:inline;margin:1px\"/><img src=\"https://tiles.planet.com/data/v1/item-types/Landsat8L1G/items/LC80440332017165LGN00/thumb\" alt=\"https://tiles.planet.com/data/v1/item-types/Landsat8L1G/items/LC80440332017165LGN00/thumb\"style=\"display:inline;margin:1px\"/>"
      ],
      "text/plain": [
       "<IPython.core.display.HTML object>"
      ]
     },
     "metadata": {},
     "output_type": "display_data"
    },
    {
     "name": "stdout",
     "output_type": "stream",
     "text": [
      "2017-06-23T18:04:26.540231000\n"
     ]
    },
    {
     "data": {
      "text/html": [
       "<img src=\"https://tiles.planet.com/data/v1/item-types/PSOrthoTile/items/572816_1056721_2017-06-23_103c/thumb\" alt=\"https://tiles.planet.com/data/v1/item-types/PSOrthoTile/items/572816_1056721_2017-06-23_103c/thumb\"style=\"display:inline;margin:1px\"/><img src=\"https://tiles.planet.com/data/v1/item-types/Landsat8L1G/items/LC80430332017174LGN00/thumb\" alt=\"https://tiles.planet.com/data/v1/item-types/Landsat8L1G/items/LC80430332017174LGN00/thumb\"style=\"display:inline;margin:1px\"/>"
      ],
      "text/plain": [
       "<IPython.core.display.HTML object>"
      ]
     },
     "metadata": {},
     "output_type": "display_data"
    },
    {
     "name": "stdout",
     "output_type": "stream",
     "text": [
      "2017-07-16T18:06:32.927964000\n"
     ]
    },
    {
     "data": {
      "text/html": [
       "<img src=\"https://tiles.planet.com/data/v1/item-types/PSOrthoTile/items/626905_1056721_2017-07-16_103c/thumb\" alt=\"https://tiles.planet.com/data/v1/item-types/PSOrthoTile/items/626905_1056721_2017-07-16_103c/thumb\"style=\"display:inline;margin:1px\"/><img src=\"https://tiles.planet.com/data/v1/item-types/Landsat8L1G/items/LC80440332017197LGN00/thumb\" alt=\"https://tiles.planet.com/data/v1/item-types/Landsat8L1G/items/LC80440332017197LGN00/thumb\"style=\"display:inline;margin:1px\"/>"
      ],
      "text/plain": [
       "<IPython.core.display.HTML object>"
      ]
     },
     "metadata": {},
     "output_type": "display_data"
    },
    {
     "name": "stdout",
     "output_type": "stream",
     "text": [
      "2017-07-25T18:06:03.712244000\n"
     ]
    },
    {
     "data": {
      "text/html": [
       "<img src=\"https://tiles.planet.com/data/v1/item-types/PSOrthoTile/items/644787_1056721_2017-07-25_0f52/thumb\" alt=\"https://tiles.planet.com/data/v1/item-types/PSOrthoTile/items/644787_1056721_2017-07-25_0f52/thumb\"style=\"display:inline;margin:1px\"/><img src=\"https://tiles.planet.com/data/v1/item-types/Landsat8L1G/items/LC80430332017206LGN00/thumb\" alt=\"https://tiles.planet.com/data/v1/item-types/Landsat8L1G/items/LC80430332017206LGN00/thumb\"style=\"display:inline;margin:1px\"/>"
      ],
      "text/plain": [
       "<IPython.core.display.HTML object>"
      ]
     },
     "metadata": {},
     "output_type": "display_data"
    },
    {
     "name": "stdout",
     "output_type": "stream",
     "text": [
      "2017-08-10T18:07:08.680191000\n"
     ]
    },
    {
     "data": {
      "text/html": [
       "<img src=\"https://tiles.planet.com/data/v1/item-types/PSOrthoTile/items/680643_1056721_2017-08-10_100e/thumb\" alt=\"https://tiles.planet.com/data/v1/item-types/PSOrthoTile/items/680643_1056721_2017-08-10_100e/thumb\"style=\"display:inline;margin:1px\"/><img src=\"https://tiles.planet.com/data/v1/item-types/Landsat8L1G/items/LC80430332017222LGN00/thumb\" alt=\"https://tiles.planet.com/data/v1/item-types/Landsat8L1G/items/LC80430332017222LGN00/thumb\"style=\"display:inline;margin:1px\"/>"
      ],
      "text/plain": [
       "<IPython.core.display.HTML object>"
      ]
     },
     "metadata": {},
     "output_type": "display_data"
    }
   ],
   "source": [
    "# https://stackoverflow.com/questions/36006136/how-to-display-images-in-a-row-with-ipython-display\n",
    "def make_html(image):\n",
    "     return '<img src=\"{0}\" alt=\"{0}\"style=\"display:inline;margin:1px\"/>' \\\n",
    "            .format(image)\n",
    "\n",
    "\n",
    "def display_thumbnails(row):\n",
    "    print(row.name)\n",
    "    display(HTML(''.join(make_html(t)\n",
    "                         for t in (row.ps_thumbnail, row.landsat_thumbnail))))\n",
    "\n",
    "_ = significant_crossovers_info.apply(display_thumbnails, axis=1)"
   ]
  },
  {
   "cell_type": "markdown",
   "metadata": {
    "collapsed": true
   },
   "source": [
    "They all look pretty good although the last crossover (2017-08-10) could be a little hazy."
   ]
  }
 ],
 "metadata": {
  "kernelspec": {
   "display_name": "Python 3",
   "language": "python",
   "name": "python3"
  },
  "language_info": {
   "codemirror_mode": {
    "name": "ipython",
    "version": 3
   },
   "file_extension": ".py",
   "mimetype": "text/x-python",
   "name": "python",
   "nbconvert_exporter": "python",
   "pygments_lexer": "ipython3",
   "version": "3.6.6"
  }
 },
 "nbformat": 4,
 "nbformat_minor": 2
}
