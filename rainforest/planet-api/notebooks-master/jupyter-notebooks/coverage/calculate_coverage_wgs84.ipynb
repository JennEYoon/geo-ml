{
 "cells": [
  {
   "cell_type": "markdown",
   "metadata": {},
   "source": [
    "# Calculate Coverage\n",
    "\n",
    "You have a large region of interest. You need to identify an AOI for your study. One of the inputs to that decision is the coverage within the region. This notebook will walk you through that process.\n",
    "\n",
    "In this notebook, we create the coverage map for `PSOrthotiles` collected in 2017 through August for the state of Iowa. While we perform this demonstration only in a small region of Iowa (due to data coverage restrictions of some users), we show results for the entire state.  The coverage calculation is performed in WGS84 because the state of Iowa covers a larger area than a single UTM zone."
   ]
  },
  {
   "cell_type": "code",
   "execution_count": 1,
   "metadata": {},
   "outputs": [],
   "source": [
    "import copy\n",
    "import datetime\n",
    "import json\n",
    "import os\n",
    "\n",
    "from IPython.display import display\n",
    "import matplotlib\n",
    "from matplotlib import cm\n",
    "import matplotlib.colors as colors\n",
    "import matplotlib.pyplot as plt\n",
    "import numpy as np\n",
    "from planet import api\n",
    "from planet.api import filters\n",
    "import rasterio\n",
    "from rasterio import features as rfeatures\n",
    "from shapely import geometry as sgeom\n",
    "\n",
    "%matplotlib inline"
   ]
  },
  {
   "cell_type": "markdown",
   "metadata": {},
   "source": [
    "## Define AOI\n",
    "\n",
    "Define the AOI as a geojson polygon. This can be done at [geojson.io](http://geojson.io). If you use geojson.io, only copy the single aoi feature, not the entire feature collection."
   ]
  },
  {
   "cell_type": "code",
   "execution_count": 2,
   "metadata": {},
   "outputs": [],
   "source": [
    "aoi = {\n",
    "    \"type\": \"Feature\",\n",
    "    \"geometry\": {\n",
    "        \"type\": \"Polygon\",\n",
    "        \"coordinates\": [\n",
    "            [\n",
    "                [-93.299129, 42.699599],\n",
    "                [-93.299674, 42.812757],\n",
    "                [-93.288436, 42.861921],\n",
    "                [-93.265332, 42.924817],\n",
    "                [-92.993873, 42.925124],\n",
    "                [-92.993888, 42.773637],\n",
    "                [-92.998396, 42.754529],\n",
    "                [-93.019154, 42.699988],\n",
    "                [-93.299129, 42.699599]\n",
    "            ]\n",
    "        ]\n",
    "    },\n",
    "    \"properties\": {\n",
    "        \"name\": \"iowa_crops\"\n",
    "    }\n",
    "}"
   ]
  },
  {
   "cell_type": "code",
   "execution_count": 3,
   "metadata": {},
   "outputs": [],
   "source": [
    "# This is a larger aoi so will demonstrate coverage over a larger area\n",
    "# However, it is the entire state of iowa, so is too large to include in the devrel\n",
    "# demo data coverage.\n",
    "# with open('iowa.geojson', 'r') as src:\n",
    "#     aoi = json.load(src)"
   ]
  },
  {
   "cell_type": "code",
   "execution_count": 4,
   "metadata": {},
   "outputs": [
    {
     "data": {
      "image/svg+xml": [
       "<svg xmlns=\"http://www.w3.org/2000/svg\" xmlns:xlink=\"http://www.w3.org/1999/xlink\" width=\"100.0\" height=\"100.0\" viewBox=\"-93.31190604 42.68736696 0.33026508000000376 0.24998907999999886\" preserveAspectRatio=\"xMinYMin meet\"><g transform=\"matrix(1,0,0,-1,0,85.62472299999999)\"><path fill-rule=\"evenodd\" fill=\"#66cc99\" stroke=\"#555555\" stroke-width=\"0.006605301600000075\" opacity=\"0.6\" d=\"M -93.299129,42.699599 L -93.299674,42.812757 L -93.288436,42.861921 L -93.265332,42.924817 L -92.993873,42.925124 L -92.993888,42.773637 L -92.998396,42.754529 L -93.019154,42.699988 L -93.299129,42.699599 z\" /></g></svg>"
      ],
      "text/plain": [
       "<shapely.geometry.polygon.Polygon at 0x7fd19660ffd0>"
      ]
     },
     "execution_count": 4,
     "metadata": {},
     "output_type": "execute_result"
    }
   ],
   "source": [
    "# this notebook uses rasterio Shapes for processing, so lets convert that geojson to a shape\n",
    "aoi_shape = sgeom.shape(aoi['geometry'])\n",
    "aoi_shape"
   ]
  },
  {
   "cell_type": "markdown",
   "metadata": {},
   "source": [
    "## Build Request\n",
    "\n",
    "Build the Planet API Filter request.\n",
    "\n",
    "Customize this code for your own purposes"
   ]
  },
  {
   "cell_type": "code",
   "execution_count": 5,
   "metadata": {},
   "outputs": [],
   "source": [
    "DATE_START = datetime.datetime(year=2017,month=1,day=1)\n",
    "DATE_END = datetime.datetime(year=2017,month=9,day=1)\n",
    "\n",
    "def build_request(aoi_shape, date_start=DATE_START, date_end=DATE_END, addl_filters=None):\n",
    "    base_filters = [\n",
    "        filters.geom_filter(sgeom.mapping(aoi_shape)),\n",
    "        filters.range_filter('cloud_cover', lt=.1),\n",
    "        filters.date_range('acquired', gt=date_start),\n",
    "        filters.date_range('acquired', lt=date_end),\n",
    "    ]\n",
    "    \n",
    "    if addl_filters is not None:\n",
    "        base_filters += addl_filters\n",
    "\n",
    "    query = filters.and_filter(*base_filters)\n",
    "    \n",
    "    item_types = ['PSOrthoTile']\n",
    "    return filters.build_search_request(query, item_types)\n",
    "\n",
    "request = build_request(aoi_shape)\n",
    "# print(request)"
   ]
  },
  {
   "cell_type": "markdown",
   "metadata": {},
   "source": [
    "## Set Coverage Grid Dimensions\n",
    "\n",
    "Set the grid dimensions according to the AOI shape and the resolution of interest"
   ]
  },
  {
   "cell_type": "code",
   "execution_count": 6,
   "metadata": {},
   "outputs": [],
   "source": [
    "dimensions = (3000, 4000)"
   ]
  },
  {
   "cell_type": "markdown",
   "metadata": {},
   "source": [
    "## Search Planet API\n",
    "\n",
    "The client is how we interact with the planet api. It is created with the user-specific api key, which is pulled from $PL_API_KEY environment variable."
   ]
  },
  {
   "cell_type": "code",
   "execution_count": 7,
   "metadata": {},
   "outputs": [],
   "source": [
    "# if your Planet API Key is not set as an environment variable, you can paste it below\n",
    "API_KEY = os.environ.get('PL_API_KEY', 'PASTE_YOUR_KEY_HERE')\n",
    "\n",
    "client = api.ClientV1(api_key=API_KEY)"
   ]
  },
  {
   "cell_type": "code",
   "execution_count": 8,
   "metadata": {},
   "outputs": [
    {
     "name": "stdout",
     "output_type": "stream",
     "text": [
      "{\n",
      "    \"acquired\": \"2017-01-01T16:17:15.619269Z\",\n",
      "    \"anomalous_pixels\": 0,\n",
      "    \"black_fill\": 0.1,\n",
      "    \"cloud_cover\": 0.002,\n",
      "    \"columns\": 8000,\n",
      "    \"epsg_code\": 32615,\n",
      "    \"grid_cell\": \"1558814\",\n",
      "    \"ground_control\": true,\n",
      "    \"gsd\": 4.1,\n",
      "    \"item_type\": \"PSOrthoTile\",\n",
      "    \"origin_x\": 475500,\n",
      "    \"origin_y\": 4752500,\n",
      "    \"pixel_resolution\": 3.125,\n",
      "    \"provider\": \"planetscope\",\n",
      "    \"published\": \"2018-06-12T23:18:02.000Z\",\n",
      "    \"rows\": 8000,\n",
      "    \"satellite_id\": \"0e14\",\n",
      "    \"strip_id\": \"345009\",\n",
      "    \"sun_azimuth\": 151.1,\n",
      "    \"sun_elevation\": 18.7,\n",
      "    \"updated\": \"2018-06-12T23:18:02.000Z\",\n",
      "    \"usable_data\": 0.9,\n",
      "    \"view_angle\": 0.8\n",
      "}\n"
     ]
    }
   ],
   "source": [
    "def search_pl_api(request, client, limit=500):\n",
    "    result = client.quick_search(request)\n",
    "    \n",
    "    # note that this returns a generator\n",
    "    return result.items_iter(limit=limit)\n",
    "\n",
    "item = next(search_pl_api(build_request(aoi_shape), client, limit=1))\n",
    "print(json.dumps(item['properties'], indent=4))"
   ]
  },
  {
   "cell_type": "markdown",
   "metadata": {},
   "source": [
    "## Calculate Coverage\n",
    "\n",
    "First query the planet api for the items that match the request defined above, then calculate the overlap between each item and the aoi. Finally, convert each overlap to a grid using [`rasterio.rasterize`](https://mapbox.github.io/rasterio/topics/features.html#burning-shapes-into-a-raster), accumulate coverage over the overlap grids, and display the coverage grid."
   ]
  },
  {
   "cell_type": "code",
   "execution_count": 9,
   "metadata": {},
   "outputs": [],
   "source": [
    "def calculate_overlap(item, aoi_shape):\n",
    "    footprint_shape = sgeom.shape(item['geometry'])\n",
    "    return aoi_shape.intersection(footprint_shape)\n",
    "\n",
    "def calculate_overlaps(items, aoi_shape):\n",
    "    item_num = 0\n",
    "    overlap_num = 0\n",
    "    for i in items:\n",
    "        item_num += 1\n",
    "        overlap = calculate_overlap(i, aoi_shape)\n",
    "        if not overlap.is_empty:\n",
    "            overlap_num += 1\n",
    "            yield overlap\n",
    "    print('{} overlaps from {} items'.format(overlap_num, item_num))"
   ]
  },
  {
   "cell_type": "code",
   "execution_count": 10,
   "metadata": {
    "scrolled": true
   },
   "outputs": [],
   "source": [
    "def calculate_coverage(overlaps, dimensions, bounds):\n",
    "    \n",
    "    # get dimensions of coverage raster\n",
    "    mminx, mminy, mmaxx, mmaxy = bounds\n",
    "\n",
    "    y_count, x_count = dimensions\n",
    "    \n",
    "    # determine pixel width and height for transform\n",
    "    width = (mmaxx - mminx) / x_count\n",
    "    height = (mminy - mmaxy) / y_count # should be negative\n",
    "\n",
    "    # Affine(a, b, c, d, e, f) where:\n",
    "    # a = width of a pixel\n",
    "    # b = row rotation (typically zero)\n",
    "    # c = x-coordinate of the upper-left corner of the upper-left pixel\n",
    "    # d = column rotation (typically zero)\n",
    "    # e = height of a pixel (typically negative)\n",
    "    # f = y-coordinate of the of the upper-left corner of the upper-left pixel\n",
    "    # ref: http://www.perrygeo.com/python-affine-transforms.html\n",
    "    transform = rasterio.Affine(width, 0, mminx, 0, height, mmaxy)\n",
    "    \n",
    "    coverage = np.zeros(dimensions, dtype=np.uint16)\n",
    "    for overlap in overlaps:\n",
    "        if not overlap.is_empty:\n",
    "            # rasterize overlap vector, transforming to coverage raster\n",
    "            # pixels inside overlap have a value of 1, others have a value of 0\n",
    "            overlap_raster = rfeatures.rasterize(\n",
    "                    [sgeom.mapping(overlap)],\n",
    "                    fill=0,\n",
    "                    default_value=1,\n",
    "                    out_shape=dimensions,\n",
    "                    transform=transform)\n",
    "            \n",
    "            # add overlap raster to coverage raster\n",
    "            coverage += overlap_raster\n",
    "    return coverage"
   ]
  },
  {
   "cell_type": "code",
   "execution_count": 11,
   "metadata": {},
   "outputs": [
    {
     "name": "stdout",
     "output_type": "stream",
     "text": [
      "682 overlaps from 682 items\n"
     ]
    }
   ],
   "source": [
    "items = search_pl_api(build_request(aoi_shape), client, limit=10000)\n",
    "overlaps = calculate_overlaps(items, aoi_shape)\n",
    "\n",
    "# cache coverage calculation because it takes a little while to create\n",
    "coverage = calculate_coverage(overlaps, dimensions, aoi_shape.bounds)"
   ]
  },
  {
   "cell_type": "code",
   "execution_count": 12,
   "metadata": {},
   "outputs": [
    {
     "data": {
      "image/png": "[encoded data removed]",
      "text/plain": [
       "<Figure size 1080x720 with 2 Axes>"
      ]
     },
     "metadata": {
      "needs_background": "light"
     },
     "output_type": "display_data"
    }
   ],
   "source": [
    "def plot_coverage(coverage):\n",
    "    fig, ax = plt.subplots(figsize=(15,10))\n",
    "    \n",
    "    # ref: https://matplotlib.org/users/colormapnorms.html\n",
    "    pcm = ax.imshow(coverage,\n",
    "                       interpolation='nearest',\n",
    "                       norm=colors.LogNorm(vmin=max(1, coverage.min()), # avoid divide by zero\n",
    "                                           vmax=coverage.max()),\n",
    "                       cmap=cm.viridis)\n",
    "    fig.colorbar(pcm, ax=ax, extend='max')\n",
    "    fig.show()\n",
    "\n",
    "    ax.set_title('Coverage\\n(median: {}, mean: {}, min: {}, max: {})'.format(\n",
    "        int(np.median(coverage)),\n",
    "        int(np.mean(coverage)),\n",
    "        int(np.min(coverage)),\n",
    "        int(np.max(coverage))\n",
    "    ))\n",
    "    ax.axis('off')\n",
    "    \n",
    "    # uncomment to save image of coverage for the entire state of iowa\n",
    "#     plt.savefig('iowa_state.png')\n",
    "\n",
    "plot_coverage(coverage)"
   ]
  },
  {
   "cell_type": "markdown",
   "metadata": {
    "collapsed": true
   },
   "source": [
    "Median coverage is 65 for the `iowa_crops` aoi, which is great for the number of satellites we had in 2017. The coverage is much greater now but we are interested in 2017 because we have some crop census data from that year. This aoi is essentially the footprint of a single PSOrthotile, so there isn't much variation in coverage. The strips of higher coverage are due to overlap that has been designed into the `PSOrthotile` gridding system.\n",
    "\n",
    "For more variation in coverage (and to determine where we would want to locate our study within Iowa for greatest coverage), we can look at the coverage map for the entire state of Iowa.\n",
    "\n",
    "![Iowa State Coverage](iowa_state.png \"Iowa State Coverage\")\n",
    "\n",
    "Coverage across the entire state is pretty good so all of the state would be a good candidate for our study. The south-eastern corner of the state has the least coverage, while the western edge of the state has the best."
   ]
  },
  {
   "cell_type": "code",
   "execution_count": null,
   "metadata": {},
   "outputs": [],
   "source": []
  }
 ],
 "metadata": {
  "kernelspec": {
   "display_name": "Python 3",
   "language": "python",
   "name": "python3"
  },
  "language_info": {
   "codemirror_mode": {
    "name": "ipython",
    "version": 3
   },
   "file_extension": ".py",
   "mimetype": "text/x-python",
   "name": "python",
   "nbconvert_exporter": "python",
   "pygments_lexer": "ipython3",
   "version": "3.7.6"
  }
 },
 "nbformat": 4,
 "nbformat_minor": 2
}
