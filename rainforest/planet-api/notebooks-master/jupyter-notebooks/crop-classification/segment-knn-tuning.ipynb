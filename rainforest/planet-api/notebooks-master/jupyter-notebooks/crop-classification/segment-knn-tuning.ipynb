{
 "cells": [
  {
   "cell_type": "markdown",
   "metadata": {},
   "source": [
    "# KNN Parameter Tuning\n",
    "\n",
    "In [`Segmentation: KNN`](segment-knn.ipynb), we perform KNN classification of pixels as crop or non-crop. One parameter in the KNN classifier is the number of neighbors (the K in KNN). To determine what value this parameter should be, we perform cross-validation and pick the k that corresponds to the highest accuracy score. In this notebook, we demonstrate that cross-validation, using the training data X (values) and y (classifications) that was generated in `Segmentation: KNN`. The k value is then fed back into `Segmentation: KNN` to create the KNN Classifier that is used to predict pixel crop/non-crop designation.\n",
    "\n",
    "In this notebook, we find that increasing the number of neighbors from 3 to 9 increases accuracy only marginally, while it also increases run time. Therefore, we will use the smallest number of neighbors: 3."
   ]
  },
  {
   "cell_type": "code",
   "execution_count": 1,
   "metadata": {},
   "outputs": [],
   "source": [
    "from __future__ import print_function\n",
    "\n",
    "import os\n",
    "\n",
    "import numpy as np\n",
    "from sklearn.model_selection import GridSearchCV\n",
    "from sklearn.metrics import classification_report\n",
    "from sklearn.neighbors import KNeighborsClassifier as KNN"
   ]
  },
  {
   "cell_type": "markdown",
   "metadata": {},
   "source": [
    "First we load the data that was saved in `Segmentation: KNN`"
   ]
  },
  {
   "cell_type": "code",
   "execution_count": 2,
   "metadata": {},
   "outputs": [],
   "source": [
    "# Load data\n",
    "def load_cross_val_data(datafile):\n",
    "    npzfile = np.load(datafile)\n",
    "    X = npzfile['X']\n",
    "    y = npzfile['y']\n",
    "    return X,y\n",
    "\n",
    "datafile = os.path.join('data', 'knn_cross_val', 'xy_file.npz')\n",
    "X, y = load_cross_val_data(datafile)"
   ]
  },
  {
   "cell_type": "markdown",
   "metadata": {},
   "source": [
    "Next, we perform a grid search over the number of neighbors, looking for the value that corresponds to the highest accuracy."
   ]
  },
  {
   "cell_type": "code",
   "execution_count": null,
   "metadata": {},
   "outputs": [
    {
     "name": "stdout",
     "output_type": "stream",
     "text": [
      "Fitting 3 folds for each of 4 candidates, totalling 12 fits\n",
      "[CV] n_neighbors=3 ...................................................\n"
     ]
    }
   ],
   "source": [
    "tuned_parameters = {'n_neighbors': range(3,11,2)}\n",
    "\n",
    "clf = GridSearchCV(KNN(n_neighbors=3),\n",
    "                   tuned_parameters,\n",
    "                   cv=3,\n",
    "                   verbose=10)\n",
    "clf.fit(X, y)\n",
    "\n",
    "print(\"Best parameters set found on development set:\\n\")\n",
    "print(clf.best_params_)\n",
    "\n",
    "print(\"Grid scores on development set:\\n\")\n",
    "\n",
    "means = clf.cv_results_['mean_test_score']\n",
    "stds = clf.cv_results_['std_test_score']\n",
    "res_params = clf.cv_results_['params']\n",
    "for mean, std, params in zip(means, stds, res_params):\n",
    "    print(\"%0.3f (+/-%0.03f) for %r\"\n",
    "          % (mean, std * 2, params))"
   ]
  },
  {
   "cell_type": "markdown",
   "metadata": {
    "collapsed": true
   },
   "source": [
    "It turns out that increasing the number of neighbors from 3 to 9 increases accuracy only marginally, while it also increases run time. Therefore, we will use the smallest number of neighbors: 3."
   ]
  },
  {
   "cell_type": "code",
   "execution_count": null,
   "metadata": {},
   "outputs": [],
   "source": []
  }
 ],
 "metadata": {
  "kernelspec": {
   "display_name": "Python 3",
   "language": "python",
   "name": "python3"
  },
  "language_info": {
   "codemirror_mode": {
    "name": "ipython",
    "version": 3
   },
   "file_extension": ".py",
   "mimetype": "text/x-python",
   "name": "python",
   "nbconvert_exporter": "python",
   "pygments_lexer": "ipython3",
   "version": "3.6.6"
  }
 },
 "nbformat": 4,
 "nbformat_minor": 2
}
