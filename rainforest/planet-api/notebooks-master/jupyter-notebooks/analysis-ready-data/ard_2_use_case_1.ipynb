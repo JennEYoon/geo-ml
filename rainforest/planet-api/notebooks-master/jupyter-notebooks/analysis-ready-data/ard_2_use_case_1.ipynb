{
 "cells": [
  {
   "cell_type": "markdown",
   "metadata": {},
   "source": [
    "# Analysis Ready Data Tutorial Part 2: Use Case 1\n",
    "\n",
    "Time-series analysis (e.g. change detection and trend detection) is a powerful application of satellite imagery. However, a great deal of processing is required to prepare imagery for analysis. Analysis Ready Data (ARD), preprocessed time-series stacks of overhead imagery, allow for time-series analysis without any additional processing of the imagery. See [Analysis Data Defined](https://medium.com/planet-stories/analysis-ready-data-defined-5694f6f48815) for an excellent introduction and discussion on ARD.\n",
    "\n",
    "In [Part 1](ard_1_intro_and_best_practices.ipynb) of this tutorial, we introduced ARD and covered the how and whys of using the Data and Orders APIs to create and interpret ARD.\n",
    "\n",
    "This second part of the tutorial focuses on the first of two use cases. The use case addressed in this tutorial is:\n",
    "\n",
    "* As a software engineer at an ag-tech company, I'd like to be able to order Planet imagery programmatically in a way that enables the data scientist at my organization to create time-series algorithms (e.g. monitoring ndvi curves over time) without further data cleaning and processing.\n",
    "\n",
    "Please see the first part of the tutorial for an introduction to the Data and Orders APIs along with best practices. A lot of functionality developed in that tutorial will be copied here in a compact form.\n",
    "\n",
    "## Introduction\n",
    "\n",
    "Two things are interesting about this use case. First, we are calculating NDVI, and second, we are compositing scenes together. What is NDVI and what is compositing and why do we want to do it?\n",
    "\n",
    "Great questions!\n",
    "\n",
    "First, NDVI stands for normalized difference vegitation index. It is used a **LOT** to find out if vegetation is growing. You can find out more about NDVI at [USGS](https://www.usgs.gov/land-resources/eros/phenology/science/ndvi-foundation-remote-sensing-phenology?qt-science_center_objects=0#qt-science_center_objects) and [Wikipedia](https://en.wikipedia.org/wiki/Normalized_difference_vegetation_index). What we care about here is that NDVI uses the red and near-infrared bands of an image and returns one band with values that range from -1 to 1. So, we expect a single-band image for each order.\n",
    "\n",
    "Compositing is a way to stitch multiple scenes together for maximum coverage. We want this because for a time series, we just want one image for each date and we want that one image to have the most coverage to minimize holes in our data. The composite tool takes in multiple scenes and returns one image. If we feed it scenes from a whole timestack, we still just get one image back! So, to avoid that disaster, we group our scenes by date and only composite the scenes that were collected on the same date.\n",
    "\n",
    "\n",
    "## Implementation\n",
    "\n",
    "The use case we will cover is: *As a software engineer at an ag-tech company, I'd like to be able to order Planet imagery programmatically in a way that enables the data scientist at my organization to create time-series algorithms (e.g. monitoring ndvi curves over time) without further data cleaning and processing.*\n",
    "\n",
    "For this use case, the area of interest and time range are not specified. The need for no further processing indicates we should specify a strict usable pixel data filter. For time-series analysis the daily coverage of PS satellites is ideal. For our time-series analysis, we would like a single image that covers the entire area of interest (AOI). However, it may take multiple scenes to cover the entire AOI. Therefore, we will use the Composite tool to make a composite for each day in the time series analysis. This is a little tricky because the Composite tool just composites all of the scenes associated with the ids ordered. So we need to parse the scene ids we got from the Data API to get scene ids for each day, then submit an order for each day.\n",
    "\n",
    "To summarize, these are the steps:\n",
    "1. [Initialize API client](#Step-1:-Initialize-API-client)\n",
    "1. [Search Data API](#Step-2:-Search-Data-API)\n",
    "1. [Group IDs by Date](#Step-3:-Group-IDs-by-Date)\n",
    "1. [Submit Orders](#Step-4:-Submit-Orders)\n",
    "1. [Download Orders](#Step-5:-Download-Orders)\n",
    "1. [Unzip and Verify Orders](#Step-6:-Unzip-and-Verify-Orders)\n",
    "\n",
    "Note that, due to the processing-intensiveness of visualizing the NDVI images and UDM2s, we will be covering visualization in the next notebook, [Analysis Ready Data Tutorial Part 2: Use Case 1 - Visualization](ard_2_use_case_1_visualize_images.ipynb)\n",
    "\n",
    "#### Import Dependencies"
   ]
  },
  {
   "cell_type": "code",
   "execution_count": 1,
   "metadata": {},
   "outputs": [],
   "source": [
    "from copy import copy\n",
    "import datetime\n",
    "import os\n",
    "from pathlib import Path\n",
    "from pprint import pprint\n",
    "import shutil\n",
    "import time\n",
    "from zipfile import ZipFile\n",
    "\n",
    "import numpy as np\n",
    "from planet import api\n",
    "from planet.api import downloader, filters"
   ]
  },
  {
   "cell_type": "markdown",
   "metadata": {},
   "source": [
    "#### Step 1: Initialize API client"
   ]
  },
  {
   "cell_type": "code",
   "execution_count": 2,
   "metadata": {},
   "outputs": [],
   "source": [
    "# if your Planet API Key is not set as an environment variable, you can paste it below\n",
    "API_KEY = os.environ.get('PL_API_KEY', 'PASTE_YOUR_KEY_HERE')\n",
    "\n",
    "client = api.ClientV1(api_key=API_KEY)"
   ]
  },
  {
   "cell_type": "markdown",
   "metadata": {},
   "source": [
    "#### Step 2: Search Data API\n",
    "\n",
    "The goal of this step is to get the scene ids that meet the search criteria for this use case."
   ]
  },
  {
   "cell_type": "code",
   "execution_count": 3,
   "metadata": {},
   "outputs": [],
   "source": [
    "# these functions were developed in the best practices tutorial (part 1)\n",
    "# create an api request from the search specifications\n",
    "def build_request(aoi_geom, start_date, stop_date):\n",
    "    '''build a data api search request for clear PSScene4Band imagery'''\n",
    "    query = filters.and_filter(\n",
    "        filters.geom_filter(aoi_geom),\n",
    "        filters.range_filter('clear_percent', gte=90),\n",
    "        filters.date_range('acquired', gt=start_date),\n",
    "        filters.date_range('acquired', lt=stop_date)\n",
    "    )\n",
    "    return filters.build_search_request(query, ['PSScene4Band'])\n",
    "\n",
    "def search_data_api(request, client, limit=500):\n",
    "    result = client.quick_search(request)\n",
    "    \n",
    "    # this returns a generator\n",
    "    return result.items_iter(limit=limit)"
   ]
  },
  {
   "cell_type": "code",
   "execution_count": 4,
   "metadata": {},
   "outputs": [],
   "source": [
    "# define test data for the filter\n",
    "test_start_date = datetime.datetime(year=2019,month=4,day=1)\n",
    "test_stop_date = datetime.datetime(year=2019,month=5,day=1)\n",
    "\n",
    "# iowa crops aoi\n",
    "test_aoi_geom = {\n",
    "    \"type\": \"Polygon\",\n",
    "    \"coordinates\": [\n",
    "        [\n",
    "            [-93.299129, 42.699599],\n",
    "            [-93.299674, 42.812757],\n",
    "            [-93.288436, 42.861921],\n",
    "            [-93.265332, 42.924817],\n",
    "            [-92.993873, 42.925124],\n",
    "            [-92.993888, 42.773637],\n",
    "            [-92.998396, 42.754529],\n",
    "            [-93.019154, 42.699988],\n",
    "            [-93.299129, 42.699599]\n",
    "        ]\n",
    "    ]\n",
    "}"
   ]
  },
  {
   "cell_type": "code",
   "execution_count": 5,
   "metadata": {},
   "outputs": [
    {
     "name": "stdout",
     "output_type": "stream",
     "text": [
      "{'item_types': ['PSScene4Band'], 'filter': {'type': 'AndFilter', 'config': ({'field_name': 'geometry', 'type': 'GeometryFilter', 'config': {'type': 'Polygon', 'coordinates': [[[-93.299129, 42.699599], [-93.299674, 42.812757], [-93.288436, 42.861921], [-93.265332, 42.924817], [-92.993873, 42.925124], [-92.993888, 42.773637], [-92.998396, 42.754529], [-93.019154, 42.699988], [-93.299129, 42.699599]]]}}, {'field_name': 'clear_percent', 'type': 'RangeFilter', 'config': {'gte': 90}}, {'field_name': 'acquired', 'type': 'DateRangeFilter', 'config': {'gt': '2019-04-01T00:00:00Z'}}, {'field_name': 'acquired', 'type': 'DateRangeFilter', 'config': {'lt': '2019-05-01T00:00:00Z'}})}}\n"
     ]
    }
   ],
   "source": [
    "request = build_request(test_aoi_geom, test_start_date, test_stop_date)\n",
    "print(request)"
   ]
  },
  {
   "cell_type": "code",
   "execution_count": 6,
   "metadata": {},
   "outputs": [
    {
     "name": "stdout",
     "output_type": "stream",
     "text": [
      "80\n"
     ]
    }
   ],
   "source": [
    "items = list(search_data_api(request, client))\n",
    "print(len(items))"
   ]
  },
  {
   "cell_type": "markdown",
   "metadata": {},
   "source": [
    "#### Step 3: Group IDs by Date"
   ]
  },
  {
   "cell_type": "code",
   "execution_count": 7,
   "metadata": {},
   "outputs": [
    {
     "name": "stdout",
     "output_type": "stream",
     "text": [
      "{'_links': {'_self': 'https://api.planet.com/data/v1/item-types/PSScene4Band/items/20190415_170304_85_1068',\n",
      "            'assets': 'https://api.planet.com/data/v1/item-types/PSScene4Band/items/20190415_170304_85_1068/assets/',\n",
      "            'thumbnail': 'https://tiles.planet.com/data/v1/item-types/PSScene4Band/items/20190415_170304_85_1068/thumb'},\n",
      " '_permissions': ['assets.udm:download',\n",
      "                  'assets.analytic:download',\n",
      "                  'assets.analytic_xml:download',\n",
      "                  'assets.analytic_dn:download',\n",
      "                  'assets.analytic_dn_xml:download',\n",
      "                  'assets.basic_analytic:download',\n",
      "                  'assets.basic_analytic_rpc:download',\n",
      "                  'assets.basic_analytic_dn:download',\n",
      "                  'assets.basic_analytic_dn_rpc:download',\n",
      "                  'assets.basic_analytic_xml:download',\n",
      "                  'assets.basic_analytic_dn_xml:download',\n",
      "                  'assets.basic_analytic_dn_nitf:download',\n",
      "                  'assets.basic_analytic_dn_rpc_nitf:download',\n",
      "                  'assets.basic_analytic_dn_xml_nitf:download',\n",
      "                  'assets.basic_analytic_nitf:download',\n",
      "                  'assets.basic_analytic_rpc_nitf:download',\n",
      "                  'assets.basic_analytic_xml_nitf:download',\n",
      "                  'assets.basic_udm:download',\n",
      "                  'assets.analytic_sr:download',\n",
      "                  'assets.basic_udm2:download',\n",
      "                  'assets.udm2:download'],\n",
      " 'geometry': {'coordinates': [[[-93.16236331498527, 43.03253941793751],\n",
      "                               [-93.1151161266578, 42.87421683090821],\n",
      "                               [-92.7895777528176, 42.9255866972523],\n",
      "                               [-92.83627007493584, 43.08487267583478],\n",
      "                               [-93.16236331498527, 43.03253941793751]]],\n",
      "              'type': 'Polygon'},\n",
      " 'id': '20190415_170304_85_1068',\n",
      " 'properties': {'acquired': '2019-04-15T17:03:04.8593Z',\n",
      "                'anomalous_pixels': 0,\n",
      "                'clear_confidence_percent': 98,\n",
      "                'clear_percent': 100,\n",
      "                'cloud_cover': 0,\n",
      "                'cloud_percent': 0,\n",
      "                'columns': 10134,\n",
      "                'epsg_code': 32615,\n",
      "                'ground_control': True,\n",
      "                'gsd': 4.1,\n",
      "                'heavy_haze_percent': 0,\n",
      "                'instrument': 'PS2.SD',\n",
      "                'item_type': 'PSScene4Band',\n",
      "                'light_haze_percent': 0,\n",
      "                'origin_x': 486771,\n",
      "                'origin_y': 4770255,\n",
      "                'pixel_resolution': 3,\n",
      "                'provider': 'planetscope',\n",
      "                'published': '2019-09-11T08:02:06Z',\n",
      "                'quality_category': 'standard',\n",
      "                'rows': 7801,\n",
      "                'satellite_id': '1068',\n",
      "                'shadow_percent': 0,\n",
      "                'snow_ice_percent': 0,\n",
      "                'strip_id': '2287410',\n",
      "                'sun_azimuth': 149.7,\n",
      "                'sun_elevation': 53.5,\n",
      "                'updated': '2019-09-11T08:14:30Z',\n",
      "                'view_angle': 5,\n",
      "                'visible_confidence_percent': 98,\n",
      "                'visible_percent': 100},\n",
      " 'type': 'Feature'}\n"
     ]
    }
   ],
   "source": [
    "# check out an item just for fun\n",
    "pprint(items[0])"
   ]
  },
  {
   "cell_type": "code",
   "execution_count": 8,
   "metadata": {},
   "outputs": [],
   "source": [
    "# item = items[0]\n",
    "# acquired_date = item['properties']['acquired'].split('T')[0]\n",
    "# acquired_date"
   ]
  },
  {
   "cell_type": "code",
   "execution_count": 9,
   "metadata": {},
   "outputs": [],
   "source": [
    "def get_acquired_date(item):\n",
    "    return item['properties']['acquired'].split('T')[0]\n",
    "\n",
    "acquired_dates = [get_acquired_date(item) for item in items]"
   ]
  },
  {
   "cell_type": "code",
   "execution_count": 10,
   "metadata": {},
   "outputs": [
    {
     "data": {
      "text/plain": [
       "{'2019-04-02',\n",
       " '2019-04-08',\n",
       " '2019-04-15',\n",
       " '2019-04-19',\n",
       " '2019-04-20',\n",
       " '2019-04-21',\n",
       " '2019-04-23',\n",
       " '2019-04-24',\n",
       " '2019-04-26'}"
      ]
     },
     "execution_count": 10,
     "metadata": {},
     "output_type": "execute_result"
    }
   ],
   "source": [
    "unique_acquired_dates = set(acquired_dates)\n",
    "unique_acquired_dates"
   ]
  },
  {
   "cell_type": "code",
   "execution_count": 11,
   "metadata": {},
   "outputs": [
    {
     "name": "stdout",
     "output_type": "stream",
     "text": [
      "{'2019-04-02': ['20190402_163631_0e16',\n",
      "                '20190402_163634_0e16',\n",
      "                '20190402_163633_0e16'],\n",
      " '2019-04-08': ['20190408_154008_1020',\n",
      "                '20190408_154007_1020',\n",
      "                '20190408_154006_1020',\n",
      "                '20190408_154005_1020',\n",
      "                '20190408_154004_1020',\n",
      "                '20190408_164038_100e',\n",
      "                '20190408_164037_100e',\n",
      "                '20190408_164036_100e',\n",
      "                '20190408_164035_100e',\n",
      "                '20190408_164034_100e',\n",
      "                '20190408_163736_1025',\n",
      "                '20190408_163735_1025',\n",
      "                '20190408_163738_1025'],\n",
      " '2019-04-15': ['20190415_170304_85_1068', '20190415_170302_79_1068'],\n",
      " '2019-04-19': ['20190419_164004_1035',\n",
      "                '20190419_164002_1035',\n",
      "                '20190419_164001_1035',\n",
      "                '20190419_164000_1035',\n",
      "                '20190419_164003_1035'],\n",
      " '2019-04-20': ['20190420_163153_0e19',\n",
      "                '20190420_163150_0e19',\n",
      "                '20190420_163152_0e19',\n",
      "                '20190420_163149_0e19',\n",
      "                '20190420_163148_0e19',\n",
      "                '20190420_164137_1002',\n",
      "                '20190420_164136_1002',\n",
      "                '20190420_164135_1002',\n",
      "                '20190420_164134_1002',\n",
      "                '20190420_164133_1002'],\n",
      " '2019-04-21': ['20190421_164035_1011',\n",
      "                '20190421_164034_1011',\n",
      "                '20190421_164033_1011',\n",
      "                '20190421_153725_0f46',\n",
      "                '20190421_153724_0f46',\n",
      "                '20190421_153723_0f46'],\n",
      " '2019-04-23': ['20190423_164037_0f15',\n",
      "                '20190423_164035_0f15',\n",
      "                '20190423_164034_0f15',\n",
      "                '20190423_164033_0f15',\n",
      "                '20190423_164114_0f12',\n",
      "                '20190423_164112_0f12',\n",
      "                '20190423_164115_0f12',\n",
      "                '20190423_164113_0f12',\n",
      "                '20190423_164036_0f15',\n",
      "                '20190423_153729_0f36',\n",
      "                '20190423_153728_0f36',\n",
      "                '20190423_153727_0f36',\n",
      "                '20190423_153726_0f36',\n",
      "                '20190423_153725_0f36'],\n",
      " '2019-04-24': ['20190424_163408_0e19',\n",
      "                '20190424_163724_0f35',\n",
      "                '20190424_163409_0e19',\n",
      "                '20190424_163407_0e19',\n",
      "                '20190424_163405_0e19',\n",
      "                '20190424_163404_0e19',\n",
      "                '20190424_153652_1020',\n",
      "                '20190424_153651_1020',\n",
      "                '20190424_153650_1020',\n",
      "                '20190424_153649_1020',\n",
      "                '20190424_153648_1020',\n",
      "                '20190424_163725_0f35',\n",
      "                '20190424_163723_0f35',\n",
      "                '20190424_163721_0f35',\n",
      "                '20190424_163720_0f35'],\n",
      " '2019-04-26': ['20190426_170322_82_105c',\n",
      "                '20190426_170320_32_105c',\n",
      "                '20190426_170325_31_105c',\n",
      "                '20190426_163459_0e3a',\n",
      "                '20190426_163501_0e3a',\n",
      "                '20190426_163500_0e3a',\n",
      "                '20190426_163458_0e3a',\n",
      "                '20190426_153658_1054',\n",
      "                '20190426_153657_1054',\n",
      "                '20190426_153656_1_1054',\n",
      "                '20190426_153656_1054',\n",
      "                '20190426_153655_1054']}\n"
     ]
    }
   ],
   "source": [
    "def get_date_item_ids(date, all_items):\n",
    "    return [i['id'] for i in all_items if get_acquired_date(i) == date]\n",
    "\n",
    "def get_ids_by_date(items):\n",
    "    acquired_dates = [get_acquired_date(item) for item in items]\n",
    "    unique_acquired_dates = set(acquired_dates)\n",
    "    \n",
    "    ids_by_date = dict((d, get_date_item_ids(d, items))\n",
    "                       for d in unique_acquired_dates)\n",
    "    return ids_by_date\n",
    "    \n",
    "ids_by_date = get_ids_by_date(items)\n",
    "pprint(ids_by_date)"
   ]
  },
  {
   "cell_type": "markdown",
   "metadata": {},
   "source": [
    "#### Step 4: Submit Orders\n",
    "\n",
    "Now that we have the scene ids for each collect date, we can create the orders for each date. The output of each order is a single zip file that contains one composited scene and one composited UDM2.\n",
    "\n",
    "For this step we will just use the python api. See part 1 for a demonstration of how to use the CLI.\n",
    "\n",
    "##### Step 4.1: Build Order Requests"
   ]
  },
  {
   "cell_type": "code",
   "execution_count": 12,
   "metadata": {},
   "outputs": [],
   "source": [
    "def build_order(ids, name, aoi_geom):\n",
    "    # specify the psscene4band surface reflectance product\n",
    "    # make sure to get the *_udm2 bundle so you get the udm2 product\n",
    "    # note: capitalization really matters in item_type when using planet client orders api\n",
    "    item_type = 'PSScene4Band'\n",
    "    bundle = 'analytic_sr_udm2'\n",
    "\n",
    "    orders_request = {\n",
    "        'name': name,\n",
    "        'products': [{\n",
    "            'item_ids': ids,\n",
    "            'item_type': item_type,\n",
    "            'product_bundle': bundle\n",
    "        }],\n",
    "        'tools': get_tools(aoi_geom),\n",
    "        'delivery': {\n",
    "            'single_archive': True,\n",
    "            'archive_filename':'{{name}}_{{order_id}}.zip',\n",
    "            'archive_type':'zip'\n",
    "        },\n",
    "            'notifications': {\n",
    "                       'email': False\n",
    "        },\n",
    "    }\n",
    "    return orders_request\n",
    "\n",
    "def get_tools(aoi_geom):\n",
    "    # clip to AOI\n",
    "    clip_tool = {'clip': {'aoi': aoi_geom}}\n",
    "\n",
    "    # convert to NDVI\n",
    "    bandmath_tool = {'bandmath': {\n",
    "        \"pixel_type\": \"32R\",\n",
    "        \"b1\": \"(b4 - b3) / (b4+b3)\"\n",
    "    }}\n",
    "\n",
    "    # composite into one image\n",
    "    composite_tool = {  \n",
    "       \"composite\":{}\n",
    "    }\n",
    "\n",
    "    tools = [clip_tool, bandmath_tool, composite_tool]\n",
    "    return tools\n",
    "\n",
    "# uncomment to see what an order request would look like\n",
    "# pprint(build_order(['id'], 'demo', test_aoi_geom), indent=4)"
   ]
  },
  {
   "cell_type": "code",
   "execution_count": 13,
   "metadata": {},
   "outputs": [
    {
     "name": "stdout",
     "output_type": "stream",
     "text": [
      "9\n",
      "{'delivery': {'archive_filename': '{{name}}_{{order_id}}.zip',\n",
      "              'archive_type': 'zip',\n",
      "              'single_archive': True},\n",
      " 'name': '2019-04-02',\n",
      " 'notifications': {'email': False},\n",
      " 'products': [{'item_ids': ['20190402_163631_0e16',\n",
      "                            '20190402_163634_0e16',\n",
      "                            '20190402_163633_0e16'],\n",
      "               'item_type': 'PSScene4Band',\n",
      "               'product_bundle': 'analytic_sr_udm2'}],\n",
      " 'tools': [{'clip': {'aoi': {'coordinates': [[[-93.299129, 42.699599],\n",
      "                                              [-93.299674, 42.812757],\n",
      "                                              [-93.288436, 42.861921],\n",
      "                                              [-93.265332, 42.924817],\n",
      "                                              [-92.993873, 42.925124],\n",
      "                                              [-92.993888, 42.773637],\n",
      "                                              [-92.998396, 42.754529],\n",
      "                                              [-93.019154, 42.699988],\n",
      "                                              [-93.299129, 42.699599]]],\n",
      "                             'type': 'Polygon'}}},\n",
      "           {'bandmath': {'b1': '(b4 - b3) / (b4+b3)', 'pixel_type': '32R'}},\n",
      "           {'composite': {}}]}\n"
     ]
    }
   ],
   "source": [
    "def get_orders_requests(ids_by_date, aoi_geom):\n",
    "    order_requests = [build_order(ids, date, aoi_geom)\n",
    "                      for date, ids in ids_by_date.items()]\n",
    "    return order_requests\n",
    "    \n",
    "order_requests = get_orders_requests(ids_by_date, test_aoi_geom)\n",
    "print(len(order_requests))\n",
    "pprint(order_requests[0])"
   ]
  },
  {
   "cell_type": "markdown",
   "metadata": {},
   "source": [
    "##### Step 4.2: Submit Orders\n",
    "\n",
    "In this section, for the sake of demonstration, we limit our orders to 2. Feel free to increase this limit if you want!"
   ]
  },
  {
   "cell_type": "code",
   "execution_count": 14,
   "metadata": {},
   "outputs": [
    {
     "data": {
      "text/plain": [
       "['e04576a7-52c0-4a60-a6b0-af43c00fb1ca',\n",
       " '05d15aa3-6a3d-46cb-a0f1-bc114bc502d2']"
      ]
     },
     "execution_count": 14,
     "metadata": {},
     "output_type": "execute_result"
    }
   ],
   "source": [
    "def create_orders(order_requests, client):\n",
    "    orders_info = [client.create_order(r).get()\n",
    "                   for r in order_requests]\n",
    "    order_ids = [i['id'] for i in orders_info]\n",
    "    return order_ids\n",
    "\n",
    "# testing: lets just create two orders\n",
    "order_limit = 2\n",
    "order_ids = create_orders(order_requests[:order_limit], client)\n",
    "order_ids"
   ]
  },
  {
   "cell_type": "markdown",
   "metadata": {},
   "source": [
    "#### Step 5: Download Orders\n",
    "\n",
    "##### Step 5.1: Wait Until Orders are Successful\n",
    "\n",
    "Before we can download the orders, they have to be prepared on the server."
   ]
  },
  {
   "cell_type": "code",
   "execution_count": 16,
   "metadata": {},
   "outputs": [
    {
     "name": "stdout",
     "output_type": "stream",
     "text": [
      "e04576a7-52c0-4a60-a6b0-af43c00fb1ca:running\n",
      "05d15aa3-6a3d-46cb-a0f1-bc114bc502d2:queued\n",
      "--\n",
      "e04576a7-52c0-4a60-a6b0-af43c00fb1ca:running\n",
      "05d15aa3-6a3d-46cb-a0f1-bc114bc502d2:running\n",
      "--\n",
      "e04576a7-52c0-4a60-a6b0-af43c00fb1ca:running\n",
      "05d15aa3-6a3d-46cb-a0f1-bc114bc502d2:running\n",
      "--\n",
      "e04576a7-52c0-4a60-a6b0-af43c00fb1ca:running\n",
      "05d15aa3-6a3d-46cb-a0f1-bc114bc502d2:running\n",
      "--\n",
      "e04576a7-52c0-4a60-a6b0-af43c00fb1ca:running\n",
      "05d15aa3-6a3d-46cb-a0f1-bc114bc502d2:running\n",
      "--\n",
      "e04576a7-52c0-4a60-a6b0-af43c00fb1ca:running\n",
      "05d15aa3-6a3d-46cb-a0f1-bc114bc502d2:running\n",
      "--\n",
      "e04576a7-52c0-4a60-a6b0-af43c00fb1ca:running\n",
      "05d15aa3-6a3d-46cb-a0f1-bc114bc502d2:running\n",
      "--\n",
      "e04576a7-52c0-4a60-a6b0-af43c00fb1ca:running\n",
      "05d15aa3-6a3d-46cb-a0f1-bc114bc502d2:running\n",
      "--\n",
      "e04576a7-52c0-4a60-a6b0-af43c00fb1ca:running\n",
      "05d15aa3-6a3d-46cb-a0f1-bc114bc502d2:running\n",
      "--\n",
      "e04576a7-52c0-4a60-a6b0-af43c00fb1ca:running\n",
      "05d15aa3-6a3d-46cb-a0f1-bc114bc502d2:running\n",
      "--\n",
      "e04576a7-52c0-4a60-a6b0-af43c00fb1ca:running\n",
      "05d15aa3-6a3d-46cb-a0f1-bc114bc502d2:running\n",
      "--\n",
      "e04576a7-52c0-4a60-a6b0-af43c00fb1ca:running\n",
      "05d15aa3-6a3d-46cb-a0f1-bc114bc502d2:running\n",
      "--\n",
      "e04576a7-52c0-4a60-a6b0-af43c00fb1ca:running\n",
      "05d15aa3-6a3d-46cb-a0f1-bc114bc502d2:running\n",
      "--\n",
      "e04576a7-52c0-4a60-a6b0-af43c00fb1ca:running\n",
      "05d15aa3-6a3d-46cb-a0f1-bc114bc502d2:running\n",
      "--\n",
      "e04576a7-52c0-4a60-a6b0-af43c00fb1ca:running\n",
      "05d15aa3-6a3d-46cb-a0f1-bc114bc502d2:running\n",
      "--\n",
      "e04576a7-52c0-4a60-a6b0-af43c00fb1ca:running\n",
      "05d15aa3-6a3d-46cb-a0f1-bc114bc502d2:running\n",
      "--\n",
      "e04576a7-52c0-4a60-a6b0-af43c00fb1ca:running\n",
      "05d15aa3-6a3d-46cb-a0f1-bc114bc502d2:running\n",
      "--\n",
      "e04576a7-52c0-4a60-a6b0-af43c00fb1ca:running\n",
      "05d15aa3-6a3d-46cb-a0f1-bc114bc502d2:running\n",
      "--\n",
      "e04576a7-52c0-4a60-a6b0-af43c00fb1ca:running\n",
      "05d15aa3-6a3d-46cb-a0f1-bc114bc502d2:running\n",
      "--\n",
      "e04576a7-52c0-4a60-a6b0-af43c00fb1ca:success\n",
      "05d15aa3-6a3d-46cb-a0f1-bc114bc502d2:running\n",
      "--\n",
      "05d15aa3-6a3d-46cb-a0f1-bc114bc502d2:running\n",
      "--\n",
      "05d15aa3-6a3d-46cb-a0f1-bc114bc502d2:running\n",
      "--\n",
      "05d15aa3-6a3d-46cb-a0f1-bc114bc502d2:running\n",
      "--\n",
      "05d15aa3-6a3d-46cb-a0f1-bc114bc502d2:running\n",
      "--\n",
      "05d15aa3-6a3d-46cb-a0f1-bc114bc502d2:running\n",
      "--\n",
      "05d15aa3-6a3d-46cb-a0f1-bc114bc502d2:running\n",
      "--\n",
      "05d15aa3-6a3d-46cb-a0f1-bc114bc502d2:running\n",
      "--\n",
      "05d15aa3-6a3d-46cb-a0f1-bc114bc502d2:running\n",
      "--\n",
      "05d15aa3-6a3d-46cb-a0f1-bc114bc502d2:running\n",
      "--\n",
      "05d15aa3-6a3d-46cb-a0f1-bc114bc502d2:running\n",
      "--\n",
      "05d15aa3-6a3d-46cb-a0f1-bc114bc502d2:running\n",
      "--\n",
      "05d15aa3-6a3d-46cb-a0f1-bc114bc502d2:running\n",
      "--\n",
      "05d15aa3-6a3d-46cb-a0f1-bc114bc502d2:running\n",
      "--\n",
      "05d15aa3-6a3d-46cb-a0f1-bc114bc502d2:running\n",
      "--\n",
      "05d15aa3-6a3d-46cb-a0f1-bc114bc502d2:running\n",
      "--\n",
      "05d15aa3-6a3d-46cb-a0f1-bc114bc502d2:running\n",
      "--\n",
      "05d15aa3-6a3d-46cb-a0f1-bc114bc502d2:running\n",
      "--\n",
      "05d15aa3-6a3d-46cb-a0f1-bc114bc502d2:running\n",
      "--\n",
      "05d15aa3-6a3d-46cb-a0f1-bc114bc502d2:running\n",
      "--\n",
      "05d15aa3-6a3d-46cb-a0f1-bc114bc502d2:success\n",
      "done\n"
     ]
    }
   ],
   "source": [
    "def poll_for_success(order_ids, client, num_loops=50):\n",
    "    count = 0\n",
    "    polling = copy(order_ids)\n",
    "    completed = []\n",
    "    while(count < num_loops):\n",
    "        count += 1\n",
    "        states = []\n",
    "        for oid in copy(polling):\n",
    "            order_info = client.get_individual_order(oid).get()\n",
    "            state = order_info['state']\n",
    "            states += state\n",
    "            print('{}:{}'.format(oid, state))\n",
    "            success_states = ['success', 'partial']\n",
    "            if state == 'failed':\n",
    "                raise Exception(response)\n",
    "            elif state in success_states:\n",
    "                polling.remove(oid)\n",
    "                completed += oid\n",
    "        if not len(polling):\n",
    "            print('done')\n",
    "            break\n",
    "        print('--')\n",
    "        time.sleep(30)\n",
    "        \n",
    "poll_for_success(order_ids, client)"
   ]
  },
  {
   "cell_type": "markdown",
   "metadata": {},
   "source": [
    "##### Step 5.2: Run Download\n",
    "\n",
    "For this step we will use the planet python orders API because we want to be able to download multiple orders at once, something the CLI does not yet support."
   ]
  },
  {
   "cell_type": "code",
   "execution_count": 18,
   "metadata": {},
   "outputs": [],
   "source": [
    "data_dir = os.path.join('data', 'use_case_1')\n",
    "\n",
    "# make the download directory if it doesn't exist\n",
    "Path(data_dir).mkdir(parents=True, exist_ok=True)"
   ]
  },
  {
   "cell_type": "code",
   "execution_count": 19,
   "metadata": {},
   "outputs": [],
   "source": [
    "def poll_for_download(dest, endswith, num_loops=50):\n",
    "    count = 0\n",
    "    while(count < num_loops):\n",
    "        count += 1        \n",
    "        matched_files = (f for f in os.listdir(dest)\n",
    "                         if os.path.isfile(os.path.join(dest, f))\n",
    "                         and f.endswith(endswith))\n",
    "\n",
    "        match = next(matched_files, None)\n",
    "        if match:\n",
    "            match = os.path.join(dest, match)\n",
    "            print('downloaded')\n",
    "            break\n",
    "        else:\n",
    "            print('waiting...')\n",
    "        time.sleep(10)\n",
    "    return match"
   ]
  },
  {
   "cell_type": "code",
   "execution_count": 24,
   "metadata": {},
   "outputs": [
    {
     "name": "stdout",
     "output_type": "stream",
     "text": [
      "downloading e04576a7-52c0-4a60-a6b0-af43c00fb1ca\n",
      "waiting...\n",
      "downloaded\n",
      "downloading 05d15aa3-6a3d-46cb-a0f1-bc114bc502d2\n",
      "waiting...\n",
      "waiting...\n",
      "downloaded\n"
     ]
    }
   ],
   "source": [
    "def download_orders(order_ids, client, dest='.', limit=None):\n",
    "    files = []\n",
    "    for order_id in order_ids:\n",
    "        print('downloading {}'.format(order_id))\n",
    "        filename = download_order(order_id, dest, client, limit=limit)\n",
    "        if filename:\n",
    "            files.append(filename)\n",
    "    return files\n",
    "\n",
    "def download_order(order_id, dest, client, limit=None):\n",
    "    '''Download an order by given order ID'''\n",
    "    # this returns download stats but they aren't accurate or informative\n",
    "    # so we will look for the downloaded file on our own.\n",
    "    dl = downloader.create(client, order=True)\n",
    "    urls = client.get_individual_order(order_id).items_iter(limit=limit)\n",
    "    dl.download(urls, [], dest)\n",
    "    \n",
    "    endswith = '{}.zip'.format(order_id)\n",
    "    filename = poll_for_download(dest, endswith)\n",
    "    return filename\n",
    "\n",
    "downloaded_files = download_orders(order_ids, client, data_dir)"
   ]
  },
  {
   "cell_type": "code",
   "execution_count": 25,
   "metadata": {},
   "outputs": [
    {
     "data": {
      "text/plain": [
       "['data/use_case_1/2019-04-02_e04576a7-52c0-4a60-a6b0-af43c00fb1ca.zip',\n",
       " 'data/use_case_1/2019-04-08_05d15aa3-6a3d-46cb-a0f1-bc114bc502d2.zip']"
      ]
     },
     "execution_count": 25,
     "metadata": {},
     "output_type": "execute_result"
    }
   ],
   "source": [
    "downloaded_files"
   ]
  },
  {
   "cell_type": "markdown",
   "metadata": {
    "collapsed": true
   },
   "source": [
    "#### Step 6: Unzip and Verify Orders\n",
    "\n",
    "In this step we will simply unzip the orders and view one of the ordered composite images.\n",
    "\n",
    "##### 6.1: Unzip Order\n",
    "\n",
    "In this section, we will unzip each order into a directory named after the downloaded zip file."
   ]
  },
  {
   "cell_type": "code",
   "execution_count": 27,
   "metadata": {},
   "outputs": [
    {
     "name": "stdout",
     "output_type": "stream",
     "text": [
      "[PosixPath('data/use_case_1/2019-04-02_e04576a7-52c0-4a60-a6b0-af43c00fb1ca'),\n",
      " PosixPath('data/use_case_1/2019-04-08_05d15aa3-6a3d-46cb-a0f1-bc114bc502d2')]\n"
     ]
    }
   ],
   "source": [
    "def unzip(filename, overwrite=False):\n",
    "    location = Path(filename)\n",
    "    zipdir = location.parent / location.stem\n",
    "\n",
    "    if os.path.isdir(zipdir):\n",
    "        if overwrite:\n",
    "            print('{} exists. overwriting.'.format(zipdir))\n",
    "            shutil.rmtree(zipdir)\n",
    "        else:\n",
    "            raise Exception('{} already exists'.format(zipdir))\n",
    "        \n",
    "    with ZipFile(location) as myzip:\n",
    "        myzip.extractall(zipdir)\n",
    "    return zipdir\n",
    "\n",
    "zipdirs = [unzip(f, overwrite=True) for f in downloaded_files]\n",
    "pprint(zipdirs)"
   ]
  },
  {
   "cell_type": "markdown",
   "metadata": {},
   "source": [
    "##### 6.2: Verify Orders\n",
    "\n",
    "In this section we will view the orders manually in QGIS. In the next part of this tutorial, we will visualize the NDVI composite image with the UDM. But for now, we just want to make sure we got what we ordered.\n",
    "\n",
    "In the explorer, navigate to the data folder (should be `*/notebooks/analysis-ready-data/data/use_case_1/`). In any of the subfolders (named something like `2019-04-26_b219cbe1-79a1-49c6-87a0-e1416d7e761d`), go into `files` and find the file named `composite.tif`). Drag that file into QGIS to visualize."
   ]
  }
 ],
 "metadata": {
  "kernelspec": {
   "display_name": "Python 3",
   "language": "python",
   "name": "python3"
  },
  "language_info": {
   "codemirror_mode": {
    "name": "ipython",
    "version": 3
   },
   "file_extension": ".py",
   "mimetype": "text/x-python",
   "name": "python",
   "nbconvert_exporter": "python",
   "pygments_lexer": "ipython3",
   "version": "3.7.6"
  }
 },
 "nbformat": 4,
 "nbformat_minor": 4
}
