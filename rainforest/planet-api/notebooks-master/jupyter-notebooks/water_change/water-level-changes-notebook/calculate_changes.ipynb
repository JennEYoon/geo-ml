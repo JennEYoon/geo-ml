{
 "cells": [
  {
   "cell_type": "markdown",
   "metadata": {},
   "source": [
    "# Calculate Changes in Water Levels #\n",
    "---\n",
    "\n",
    "## Overview ##\n",
    "---\n",
    "The purpose of this tutorial is to use Planet imagery to calculate an approximate percentage change in reservoir water levels."
   ]
  },
  {
   "cell_type": "markdown",
   "metadata": {},
   "source": [
    "## Table of Contents\n",
    "\n",
    "---\n",
    "\n",
    "* **[How to Get Started](#how-to-get-started)**\n",
    "    * Requirements\n",
    "       * Software & Modules\n",
    "       * How to Export Planet API Key and Install Packages\n",
    "    * Download Images at Two Time Points\n",
    "       * Download Images with Planet CLI\n",
    "    * Use QGIS to Select Common Window to Compare\n",
    "    * Crop Images With GDAL Warp Command\n",
    "    \n",
    "* **[Find the Water](#find-the-water)**\n",
    "    * Create a Mask Using Threshold\n",
    "    * Clean up Mask With Erosion and Dilation\n",
    "       \n",
    "* **[Watershed Algorithm](#watershed-algorithm)**\n",
    "    * How to segment image using watershed\n",
    "    \n",
    "* **[Get Contours and Area](#contour-area)**\n",
    "    * Apply Function to Calculate Area and Water Change\n",
    "    * Output\n",
    "    \n",
    "    \n",
    "* **[Data Visualization](#data-viz)**\n",
    "\n",
    "\n",
    "* **[Conclusion](#conclusion)**  "
   ]
  },
  {
   "cell_type": "markdown",
   "metadata": {},
   "source": [
    "<a name=\"how-to-get-started\"></a> \n",
    "## How To Get Started\n",
    "---\n",
    "Before we start our analysis we need to ensure we have the required packages and Planet satellite images."
   ]
  },
  {
   "cell_type": "markdown",
   "metadata": {},
   "source": [
    "### Requirements\n",
    "---\n",
    "#### Software & Python Libraries\n",
    "You will need:\n",
    "\n",
    "* Python 3\n",
    "* GDAL\n",
    "* scipy & numpy\n",
    "* skimage\n",
    "* requests\n",
    "* OpenCV\n",
    "* imutils\n",
    "* The Planet CLI _(optional)_\n",
    "* Your Planet API Key"
   ]
  },
  {
   "cell_type": "markdown",
   "metadata": {},
   "source": [
    "#### How to Export Planet API Key and Install Packages\n",
    "---\n",
    "To export your Planet API Key to your environment:\n",
    "```bash\n",
    "export PLANET_API_KEY=a3a64774d30c4749826b6be445489d3b # (not a real key)\n",
    "```\n",
    "You can find GDAL installation instructions [here](https://trac.osgeo.org/gdal/wiki/DownloadingGdalBinaries). For installation of scipy & numpy, [see this page](https://www.scipy.org/install.html).\n",
    "\n",
    "To install the Python libraries, do:\n",
    "\n",
    "```bash\n",
    "$ python -m pip install requests\n",
    "$ python -m pip install opencv-python\n",
    "$ python -m pip install scikit-image\n",
    "$ python -m pip install imutils\n",
    "\n",
    "# optionally:\n",
    "$ python -m pip install planet\n",
    "```\n",
    "Once installation is complete, you're ready to start with Step 1 below.\n",
    "\n",
    "A note about Planet Imagery Product Compatability: this tutorial is compatable with all ItemTypes & Asset Types."
   ]
  },
  {
   "cell_type": "markdown",
   "metadata": {},
   "source": [
    "### Download Images at Two Time Points\n",
    "---\n",
    "First, let's download images of the same Reservoir in California, 2 weeks apart.\n",
    "\n",
    "You can use the [Data API](https://developers.planet.com/docs/data/) to search for, activate & download these images, or optionally you can use the planet CLI.\n",
    "\n",
    "#### How to Download Images with Planet CLI\n",
    "\n",
    "To use the CLI, do:\n",
    "```bash\n",
    "$ planet data download --item-type REOrthoTile --asset-type visual --string-in id 20160707_195146_1057917_RapidEye-1\n",
    "$ planet data download --item-type REOrthoTile --asset-type visual --string-in id 20160722_194930_1057917_RapidEye-2\n",
    "```\n",
    "\n",
    "You now have the two Planet 'visual' GeoTIFF format images in your current directory.\n",
    "\n",
    "N.B.: As this is just an example, we are using Planet's 'visual' asset type. If we wanted a more accurate measurement we would use the higher bit-depth 'analytic' product."
   ]
  },
  {
   "cell_type": "markdown",
   "metadata": {},
   "source": [
    "### Use QGIS to Select Common Window to Compare\n",
    "---\n",
    "Our scenes don't overlap perfectly, and for the calculation to be accurate we'd prefer they did. The GDAL Warp command enables us to do this crop.\n",
    "\n",
    "With QGIS we can find the overlapping rectangle between the two scenes. Move your mouse to where you estimate the corners might be, and take note of the numbers from the 'coordinates' box on the bottom menu bar."
   ]
  },
  {
   "cell_type": "markdown",
   "metadata": {},
   "source": [
    "<div>\n",
    "<img src=\"images/qgis_bounds.png\" width=\"900\"/>\n",
    "</div>"
   ]
  },
  {
   "cell_type": "markdown",
   "metadata": {},
   "source": [
    "### Crop Images With GDAL Warp Command\n",
    "---\n",
    "We then run the following bash commands:\n",
    "```bash\n",
    "gdalwarp -te 547500 4511500 556702 4527000 1057917_2016-07-07_RE1_3A_Visual.tif  20160707.tif\n",
    "```\n",
    "```bash\n",
    "gdalwarp -te 547500 4511500 556702 4527000 1057917_2016-07-22_RE2_3A_Visual.tif  20160722.tif\n",
    "```"
   ]
  },
  {
   "cell_type": "markdown",
   "metadata": {},
   "source": [
    "<div>\n",
    "<img src=\"images/20160707.png\"/>\n",
    "<img src=\"images/20160722.png\"/>\n",
    "</div>"
   ]
  },
  {
   "cell_type": "markdown",
   "metadata": {},
   "source": [
    "<a name=\"find-the-water\"></a> \n",
    "## Find the Water\n",
    "---\n",
    "In order to find the water we want to extract the blue hues within the image. Using OpenCV, we convert the BGR colorspace to HSV and create a threshold to extract the blue water. As you can see below, the mask we created differentiates the water from the land.\n",
    "\n",
    "### Create a Mask Using Threshold\n",
    "---\n",
    "```python\n",
    "\n",
    "import cv2 as cv\n",
    "\n",
    "a = cv.imread('20160707.tif')\n",
    "b = cv.imread('20160722.tif')\n",
    "\n",
    "hsv_a = cv.cvtColor(a, cv.COLOR_BGR2HSV)\n",
    "hsv_b = cv.cvtColor(b, cv.COLOR_BGR2HSV)\n",
    "\n",
    "low = np.array([55, 0, 0])\n",
    "high = np.array([118, 255, 255])\n",
    "\n",
    "inner_a = cv.inRange(hsv_a, low, high)\n",
    "inner_b = cv.inRange(hsv_b, low, high\n",
    "\n",
    "cv.imwrite('inner_a.png', inner_a)\n",
    "cv.imwrite('inner_b.png', inner_b)\n",
    "```"
   ]
  },
  {
   "cell_type": "markdown",
   "metadata": {},
   "source": [
    "<div>\n",
    "    <h1><center>Mask A</center></h1>\n",
    "<img src=\"images/inner_a.png\" width=\"500\"/>\n",
    "    <h1><center>Mask B</center></h1>\n",
    "<img src=\"images/inner_b.png\" width=\"500\"/>\n",
    "</div>"
   ]
  },
  {
   "cell_type": "markdown",
   "metadata": {},
   "source": [
    "### Cleaning up the Mask Using Erosion and Dilation\n",
    "---\n",
    "\n",
    "We currently have some noise in our mask that we can eliminate using two morphological operations, erosion and dilation. The purpose of these operations to ensure we have a clear separation between the background and foreground, or land and water.\n",
    "\n",
    "```python\n",
    "\n",
    "kernel = np.ones((5,5),np.uint8)\n",
    "\n",
    "erosion_a = cv.erode(inner_a,kernel,iterations = 2)\n",
    "erosion_b = cv.erode(inner_b,kernel,iterations = 2)\n",
    "\n",
    "innerA = cv.dilate(erosion_a,kernel,iterations = 1)\n",
    "innerB = cv.dilate(erosion_b,kernel,iterations = 1)\n",
    "\n",
    "cv.imwrite('innerA.png', innerA)\n",
    "cv.imwrite('innerB.png', innerB)\n",
    "```"
   ]
  },
  {
   "cell_type": "markdown",
   "metadata": {},
   "source": [
    "<div>\n",
    "<h1><center>Mask A</center></h1>\n",
    "<img src=\"images/innerA.png\" width=\"500\"/>\n",
    "<h1><center>Mask B</center></h1>\n",
    "<img src=\"images/innerB.png\" width=\"500\"/>\n",
    "</div>"
   ]
  },
  {
   "cell_type": "markdown",
   "metadata": {},
   "source": [
    "<a name=\"watershed-algorithm\"></a> \n",
    "## Watershed Algorithm\n",
    "---\n",
    "In order to calculate the changes in water levels we need to know the area of the water in the image. We will use a segmentation technique so we only focus on the water and ignore everything else. The watershed algorithm returns a numpy array of labels with unique values corresponding to the pixel value.\n",
    "\n",
    "```python\n",
    "\n",
    "from scipy import ndimage\n",
    "from skimage.feature import peak_local_max\n",
    "from skimage.segmentation import watershed\n",
    "import numpy as np\n",
    "\n",
    "eucl_a = ndimage.distance_transform_edt(innerA)\n",
    "eucl_b = ndimage.distance_transform_edt(innerB)\n",
    "\n",
    "localMaxA = peak_local_max(eucl_a, indices=False, labels=innerA)\n",
    "localMaxB = peak_local_max(eucl_b, indices=False, labels=innerB)\n",
    "\n",
    "markers_a = ndimage.label(localMaxA, structure=np.ones((3, 3)))[0]\n",
    "markers_b = ndimage.label(localMaxB, structure=np.ones((3, 3)))[0]\n",
    "\n",
    "labels_a = watershed(-eucl_a, markers_a, mask=innerA)\n",
    "labels_b = watershed(-eucl_b, markers_b, mask=innerB)\n",
    "```\n"
   ]
  },
  {
   "cell_type": "markdown",
   "metadata": {},
   "source": [
    "<a name=\"contour-area\"></a> \n",
    "## Calculating Area Using Contours and Overlaying Mask##\n",
    "---\n",
    "Once we have our labels, we loop over each unique label and look for the values that correspond with the foreground, or water. After applying those values to our mask, we then grab the contour of each object in our mask in order to perform our calculations on it. By adding the area of each individual contour to the total area, we are able to approximate the area of the water in our image. \n",
    "\n",
    "**Note**: I added lines to fill the contours and save the image for visualization purposes but this isn't necessary for our calculation.\n",
    "\n",
    "### Python Function to Find Area\n",
    "---\n",
    "```python\n",
    "def get_area(labels, inner_mask, img):\n",
    "    area = 0\n",
    "    for label in np.unique(labels):\n",
    "        \n",
    "        if label== 0:\n",
    "            continue\n",
    "\n",
    "        mask = np.zeros(inner_mask.shape, dtype=\"uint8\")\n",
    "        mask[labels == label] = 255\n",
    "    \n",
    "        contours = cv.findContours(mask, cv.RETR_EXTERNAL, cv.CHAIN_APPROX_SIMPLE)\n",
    "        contours = imutils.grab_contours(contours)\n",
    "        cv.fillPoly(img, pts=contours, color=(0,255,255))\n",
    "\n",
    "        a = cv.contourArea(contours[0])\n",
    "        area+=a\n",
    "\n",
    "    cv.imwrite('mask.png', img)\n",
    "\n",
    "    return area\n",
    "\n",
    "area_a = get_area(labels_a, innerA, a)\n",
    "area_b = get_area(labels_b, innerB, b)\n",
    "```"
   ]
  },
  {
   "cell_type": "markdown",
   "metadata": {},
   "source": [
    "<div>\n",
    "    <h1><center>Image A</center></h1>\n",
    "<img src=\"images/a_mask.png\" width=\"500\"/>\n",
    "    <h2><center>Image B</center></h2>\n",
    "<img src=\"images/b_mask.png\" width=\"500\"/>\n",
    "</div>"
   ]
  },
  {
   "cell_type": "markdown",
   "metadata": {},
   "source": [
    "### Apply Function to get Area and Water Change\n",
    "---\n",
    "After we apply our function to both planet images, we now know the approximate change in water reservoir water levels between the times both these images were captured.\n",
    "\n",
    "```python\n",
    "area_a = mask_img(labels_a, innerA, a)\n",
    "area_b = mask_img(labels_b, innerB, b)\n",
    "water_level_diff = area_b/float(area_a)\n",
    "```\n",
    "\n",
    "### Output\n",
    "---\n",
    "```\n",
    "Area A = 1164765.0\n",
    "Area B = 1120738.5\n",
    "Water Level Difference = 0.9622013882628685\n",
    "Percent change = -3.7798611737131504%\n",
    "```"
   ]
  },
  {
   "cell_type": "markdown",
   "metadata": {},
   "source": [
    "<a name=\"data-viz\"></a> \n",
    "## Data Visualization Section ##\n",
    "---\n",
    "Our last step is to plot a bar chart to represent the difference in water levels.\n",
    "\n",
    "```python\n",
    "from bokeh.io import output_file, show\n",
    "from bokeh.plotting import figure\n",
    "import bokeh.plotting as bk\n",
    "\n",
    "dates = ['2016-07-13', '2016-09-10']\n",
    "pixels = [area_a, area_b]\n",
    "\n",
    "plt = figure(x_range=dates, plot_height=275, title=\"Reservoir Pixels\",\n",
    "           toolbar_location=None, tools=\"\")\n",
    "\n",
    "plt.vbar(x=dates, top=pixels, width=0.3, fill_color=\"#cfe31e\")\n",
    "\n",
    "plt.xgrid.grid_line_color = None\n",
    "plt.y_range.start = 0\n",
    "plt.xaxis.axis_label = \"Date\"\n",
    "plt.yaxis.axis_label = \"Sum(Pixels)\"\n",
    "\n",
    "#saves as a html file\n",
    "bk.save(plt)\n",
    "show(plt)\n",
    "```"
   ]
  },
  {
   "cell_type": "markdown",
   "metadata": {},
   "source": [
    "<div>\n",
    "    <h1><center>Water Changes</center></h1>\n",
    "<img src=\"images/water_change.png\"/>\n",
    "</div>"
   ]
  },
  {
   "cell_type": "markdown",
   "metadata": {},
   "source": [
    "Questions or comments about this guide? Join the conversation at [Planet Community](https://support.planet.com/hc/en-us/community/topics)."
   ]
  }
 ],
 "metadata": {
  "kernelspec": {
   "display_name": "Python 3",
   "language": "python",
   "name": "python3"
  },
  "language_info": {
   "codemirror_mode": {
    "name": "ipython",
    "version": 3
   },
   "file_extension": ".py",
   "mimetype": "text/x-python",
   "name": "python",
   "nbconvert_exporter": "python",
   "pygments_lexer": "ipython3",
   "version": "3.8.5"
  }
 },
 "nbformat": 4,
 "nbformat_minor": 4
}
