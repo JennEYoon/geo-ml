{
 "cells": [
  {
   "cell_type": "markdown",
   "metadata": {},
   "source": [
    "# Analytics Feeds\n",
    "\n",
    "This notebook maintains a list of analytics feeds used in this repository."
   ]
  },
  {
   "cell_type": "code",
   "execution_count": 1,
   "metadata": {},
   "outputs": [],
   "source": [
    "subscriptions = [\n",
    "    {\n",
    "        'id': '9db92275-1d89-4d3b-a0b6-68abd2e94142',\n",
    "        'used_by': ['analytics/02_fetching_feed_results']\n",
    "    },\n",
    "    {\n",
    "        'id': 'cda3398b-1283-4ad9-87a6-e25796b5ca80',\n",
    "        'used_by': ['analytics/03_visualizing_raster_results']\n",
    "    },\n",
    "    {\n",
    "        'id': '02c4f912-090f-45aa-a18b-ac4a55e4b9ba',\n",
    "        'used_by': ['analytics-snippets/building_footprints_as_vector']\n",
    "    },\n",
    "    {\n",
    "        'id': 'f184516c-b948-406f-b257-deaa66c3f38a',\n",
    "        'used_by': ['analytics-snippets/roads_as_vector']\n",
    "    },\n",
    "]"
   ]
  },
  {
   "cell_type": "markdown",
   "metadata": {},
   "source": [
    "## Get feeds from subscription ids"
   ]
  },
  {
   "cell_type": "code",
   "execution_count": 2,
   "metadata": {},
   "outputs": [],
   "source": [
    "from pprint import pprint\n",
    "import os\n",
    "\n",
    "from planet import api"
   ]
  },
  {
   "cell_type": "code",
   "execution_count": 3,
   "metadata": {},
   "outputs": [],
   "source": [
    "# if your Planet API Key is not set as an environment variable, you can paste it below\n",
    "API_KEY = os.environ.get('PL_API_KEY', 'PASTE_YOUR_KEY_HERE')\n",
    "\n",
    "analytics_client = api.ClientV1(api_key=API_KEY)"
   ]
  },
  {
   "cell_type": "code",
   "execution_count": 4,
   "metadata": {},
   "outputs": [
    {
     "name": "stdout",
     "output_type": "stream",
     "text": [
      "['Port of Oakland, USA', 'Hefei, China', 'Sazgin, Turkey', 'Kirazli, Turkey']\n",
      "['1b4c9ee2-699b-4621-bb4f-934eda8090b5', '36d9d1b0-dcd4-40bc-b411-5eb8e06062a2', 'b442c53b-fc72-4bee-bab4-0b7aa318ccd9', '36d9d1b0-dcd4-40bc-b411-5eb8e06062a2']\n",
      "['Ship Detections', 'Roads (v7)', 'Buildings (v7)', 'Roads (v7)']\n"
     ]
    }
   ],
   "source": [
    "def get_sub_info(subscription_id):\n",
    "    return analytics_client.get_subscription_info(subscription_id).get()\n",
    "\n",
    "def get_sub_title(subscription_id):\n",
    "    return get_sub_info(subscription_id)['title']\n",
    "\n",
    "def get_feed_id(subscription_id):\n",
    "    return get_sub_info(subscription_id)['feedID']\n",
    "\n",
    "def get_feed_info(feed_id):\n",
    "    return analytics_client.get_feed_info(feed_id).get()\n",
    "\n",
    "def get_feed_title(feed_id):\n",
    "    return get_feed_info(feed_id)['title']\n",
    "    \n",
    "\n",
    "titles = [get_sub_title(s['id']) for s in subscriptions]\n",
    "print(titles)\n",
    "\n",
    "feed_ids = [get_feed_id(s['id']) for s in subscriptions]\n",
    "print(feed_ids)\n",
    "\n",
    "feed_titles = [get_feed_title(fid) for fid in feed_ids]\n",
    "print(feed_titles)"
   ]
  }
 ],
 "metadata": {
  "kernelspec": {
   "display_name": "Python 3",
   "language": "python",
   "name": "python3"
  },
  "language_info": {
   "codemirror_mode": {
    "name": "ipython",
    "version": 3
   },
   "file_extension": ".py",
   "mimetype": "text/x-python",
   "name": "python",
   "nbconvert_exporter": "python",
   "pygments_lexer": "ipython3",
   "version": "3.7.6"
  }
 },
 "nbformat": 4,
 "nbformat_minor": 4
}
