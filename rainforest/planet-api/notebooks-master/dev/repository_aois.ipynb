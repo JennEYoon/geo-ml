{
 "cells": [
  {
   "cell_type": "markdown",
   "metadata": {},
   "source": [
    "# Repository AOIs\n",
    "\n",
    "This notebook gathers all the aois used in this repo and saves them as a geojson file.\n",
    "\n",
    "To grab a single aoi geojson string to add to your notebook, just uncomment the line that prints the aoi. Be sure to add your notebook to the list of notebooks used by that aoi!\n",
    "\n",
    "To specify a new aoi or grab an aoi and indicate indicate that the aoi is used by an additional notebook, jump to [Specify AOIs](#Specify-AOIs).\n",
    "\n",
    "**NOTE**: Be sure to run the entire notebook so the aois get printed to geojson at the end\n",
    "\n",
    "\n",
    "## Setup"
   ]
  },
  {
   "cell_type": "code",
   "execution_count": 1,
   "metadata": {},
   "outputs": [],
   "source": [
    "import json\n",
    "\n",
    "import geojson\n",
    "from geojson import Polygon, Feature, FeatureCollection"
   ]
  },
  {
   "cell_type": "code",
   "execution_count": 2,
   "metadata": {},
   "outputs": [],
   "source": [
    "# # Local code for compact printing of geojson\n",
    "from utils import CompactFeature, CompactFeatureCollection"
   ]
  },
  {
   "cell_type": "markdown",
   "metadata": {},
   "source": [
    "### AOI management\n",
    "\n",
    "Some classes that make it a little easier to manage aois and create compact geojson string representations of the aois."
   ]
  },
  {
   "cell_type": "code",
   "execution_count": 3,
   "metadata": {},
   "outputs": [],
   "source": [
    "class Aoi(CompactFeature):\n",
    "    def __init__(self, name, used_by, coordinates, id=None):\n",
    "        pg = Polygon(coordinates)\n",
    "        prop = {'name': name, 'used by': used_by}\n",
    "        if id:\n",
    "            prop['id']: id\n",
    "        super(CompactFeature, self).__init__(geometry=pg, properties=prop)\n",
    "        self[\"type\"] = 'Feature'\n",
    "\n",
    "class Aois(CompactFeatureCollection):\n",
    "    def __init__(self, features=None, **extras):\n",
    "        if features is not None:\n",
    "            for f in features:\n",
    "                self._check_aoi(f)\n",
    "        else:\n",
    "            features = []\n",
    "        super(CompactFeatureCollection, self).__init__(features, **extras)\n",
    "        self.type = 'FeatureCollection'\n",
    "\n",
    "    @staticmethod\n",
    "    def _check_aoi(aoi):\n",
    "        if not isinstance(aoi, Aoi):\n",
    "            raise(Exception('expected instance of Aoi, got {}'.format(type(aoi).__name__)))\n",
    "\n",
    "    def append(self, aoi):\n",
    "        self._check_aoi(aoi)\n",
    "        self.features.append(aoi)\n",
    "    \n",
    "    def write(self, filename):\n",
    "        with open(filename, 'w') as dest:\n",
    "            dest.write(self.__str__())"
   ]
  },
  {
   "cell_type": "markdown",
   "metadata": {},
   "source": [
    "## AOIs\n",
    "\n",
    "### Setup"
   ]
  },
  {
   "cell_type": "code",
   "execution_count": 4,
   "metadata": {},
   "outputs": [],
   "source": [
    "aoi_filename = 'aois.geojson'"
   ]
  },
  {
   "cell_type": "code",
   "execution_count": 5,
   "metadata": {},
   "outputs": [],
   "source": [
    "aois = Aois()"
   ]
  },
  {
   "cell_type": "markdown",
   "metadata": {},
   "source": [
    "### Specify AOIs\n",
    "\n",
    "Each AOI is specified by instantiating the `Aoi` class with the aoi name, notebooks that use the aoi, and aoi geometry coordinates, in that order. Once an AOI is created, append it to the `Aois` object. Be sure to run this through once to generate the geojson file at the end of the notebook.\n",
    "\n",
    "NOTE: Be careful about appending an `Aoi` to `Aois` multiple times. This will result in repeat Features in the resulting geojson."
   ]
  },
  {
   "cell_type": "code",
   "execution_count": 6,
   "metadata": {},
   "outputs": [],
   "source": [
    "iowa_crops = Aoi(\n",
    "    'iowa_crops',\n",
    "    ['crop_classification/classify_cart_l8_ps',\n",
    "     'coverage/calculate_coverage_wgs84'],\n",
    "    [[\n",
    "        [-93.2991294841129, 42.6995987669915],\n",
    "        [-93.2996742314127, 42.8127566482941],\n",
    "        [-93.2884356831875, 42.8619208871588],\n",
    "        [-93.2653319466575, 42.9248165306276],\n",
    "        [-92.9938730936993, 42.9251238519476],\n",
    "        [-92.9938880477425, 42.7736373428868],\n",
    "        [-92.9983961055212, 42.7545290276869],\n",
    "        [-93.0191535706845, 42.6999877495273],\n",
    "        [-93.2991294841129, 42.6995987669915]\n",
    "    ]])\n",
    "aois.append(iowa_crops)\n",
    "# iowa_crops"
   ]
  },
  {
   "cell_type": "code",
   "execution_count": 7,
   "metadata": {},
   "outputs": [],
   "source": [
    "sacramento_crops = Aoi('sacramento_crops',\n",
    "    ['crop_classification/datasets_identify-1'],\n",
    "    [[\n",
    "        [-121.58460974693298, 38.29170496647727],\n",
    "        [-121.58460974693298, 38.32726528409606],\n",
    "        [-121.5248715877533, 38.32726528409606],\n",
    "        [-121.5248715877533, 38.29170496647727],\n",
    "        [-121.58460974693298, 38.29170496647727]\n",
    "    ]])\n",
    "aois.append(sacramento_crops)\n",
    "# sacramento_crops"
   ]
  },
  {
   "cell_type": "code",
   "execution_count": 8,
   "metadata": {},
   "outputs": [],
   "source": [
    "sacramento_crops_2 = Aoi(\n",
    "    'sacramento_crops_2',\n",
    "    ['coverage/calculage_coverage_wgs84',\n",
    "     'crossovers/ps_l8_crossovers',\n",
    "     'landsat-ps-comparison/landsat-ps-comparison',\n",
    "     'crop_classification/datasets_identify-2'],\n",
    "    [[\n",
    "        [-121.3113248348236, 38.28911976564886],\n",
    "        [-121.3113248348236, 38.34622533958],\n",
    "        [-121.2344205379486, 38.34622533958],\n",
    "        [-121.2344205379486, 38.28911976564886],\n",
    "        [-121.3113248348236, 38.28911976564886]\n",
    "    ]])\n",
    "aois.append(sacramento_crops_2)\n",
    "# sacramento_crops_2"
   ]
  },
  {
   "cell_type": "code",
   "execution_count": 9,
   "metadata": {},
   "outputs": [],
   "source": [
    "golden_gate_park = Aoi('golden_gate_park',\n",
    "    ['data-api-tutorials/clip_and_ship_introduction'],\n",
    "    [[\n",
    "        [-122.51103401184083, 37.771596736802074],\n",
    "        [-122.51060485839844, 37.763997637045456],\n",
    "        [-122.45902061462401, 37.76603318676243],\n",
    "        [-122.45773315429689, 37.7654903789825],\n",
    "        [-122.45275497436523, 37.76637243960179],\n",
    "        [-122.45455741882324, 37.775124624817906],\n",
    "        [-122.46597290039062, 37.7738356083287],\n",
    "        [-122.51103401184083, 37.771596736802074]\n",
    "    ]])\n",
    "aois.append(golden_gate_park)\n",
    "# golden_gate_park"
   ]
  },
  {
   "cell_type": "code",
   "execution_count": 10,
   "metadata": {},
   "outputs": [],
   "source": [
    "san_francisco_city = Aoi('san_francisco_city',\n",
    "    ['data-api-tutorials/planet_cli_introduction'],\n",
    "    [[\n",
    "        [-122.47455596923828, 37.810326435534755],\n",
    "        [-122.49172210693358, 37.795406713958236],\n",
    "        [-122.52056121826172, 37.784282779035216],\n",
    "        [-122.51953124999999, 37.6971326434885],\n",
    "        [-122.38941192626953, 37.69441603823106],\n",
    "        [-122.38872528076173, 37.705010235842614],\n",
    "        [-122.36228942871092, 37.70935613533687],\n",
    "        [-122.34992980957031, 37.727280276860036],\n",
    "        [-122.37773895263672, 37.76230130281876],\n",
    "        [-122.38494873046875, 37.794592824285104],\n",
    "        [-122.40554809570311, 37.813310018173155],\n",
    "        [-122.46150970458983, 37.805715207044685],\n",
    "        [-122.47455596923828, 37.810326435534755]\n",
    "    ]])\n",
    "aois.append(san_francisco_city)\n",
    "# san_francisco_city"
   ]
  },
  {
   "cell_type": "code",
   "execution_count": 11,
   "metadata": {},
   "outputs": [],
   "source": [
    "vancouver_island_s = Aoi(\n",
    "    'Vancouver Island South',\n",
    "    ['data-api-tutorials/planet_data_api_introduction'],\n",
    "    [[\n",
    "        [-125.29632568359376, 48.37084770238366],\n",
    "        [-125.29632568359376, 49.335861591104106],\n",
    "        [-123.2391357421875, 49.335861591104106],\n",
    "        [-123.2391357421875, 48.37084770238366],\n",
    "        [-125.29632568359376, 48.37084770238366]\n",
    "    ]])\n",
    "aois.append(vancouver_island_s)\n",
    "# vancouver_island_s"
   ]
  },
  {
   "cell_type": "code",
   "execution_count": 12,
   "metadata": {},
   "outputs": [],
   "source": [
    "# also ndvi-from-sr/ndvi_planetscope_sr and ndvi/ndvi_planetscope\n",
    "west_stockton = Aoi('West of Stockton',\n",
    "    ['data-api-tutorials/search_and_download_quickstart',\n",
    "     'ndvi-from-sr/ndvi_planetscope_sr',\n",
    "     'ndvi/ndvi_planetscope'\n",
    "    ],\n",
    "    [[\n",
    "        [-121.59290313720705, 37.93444993515032],\n",
    "        [-121.27017974853516, 37.93444993515032],\n",
    "        [-121.27017974853516, 38.065932950547484],\n",
    "        [-121.59290313720705, 38.065932950547484],\n",
    "        [-121.59290313720705, 37.93444993515032]\n",
    "    ]])\n",
    "aois.append(west_stockton)\n",
    "# west_stockton"
   ]
  },
  {
   "cell_type": "code",
   "execution_count": 13,
   "metadata": {},
   "outputs": [],
   "source": [
    "congo_forest = Aoi('congo_forest',\n",
    "    ['forest-monitoring/drc_roads_download'],\n",
    "    [[\n",
    "        [25.42429478260258,1.0255377823058893],\n",
    "        [25.592960813580472,1.0255377823058893],\n",
    "        [25.592960813580472,1.1196578801254304],\n",
    "        [25.42429478260258,1.1196578801254304],\n",
    "        [25.42429478260258,1.0255377823058893]\n",
    "    ]])\n",
    "aois.append(congo_forest)\n",
    "# congo_forest"
   ]
  },
  {
   "cell_type": "code",
   "execution_count": 14,
   "metadata": {},
   "outputs": [],
   "source": [
    "# also used in mosaicing/basic_compositing_demo\n",
    "mt_dana = Aoi('Mt Dana',\n",
    "    ['in-class-exercises/mosaicing-and-masking/mosaicing-and-masking-key',\n",
    "     'mosaicing/basic_compositing_demo'\n",
    "    ],\n",
    "    [[\n",
    "        [-119.16183471679688,37.82903964181452],\n",
    "        [-119.14947509765626,37.83663205340172],\n",
    "        [-119.13745880126953,37.846392577323286],\n",
    "        [-119.13574218750001,37.856422880849514],\n",
    "        [-119.13883209228514,37.86645181975611],\n",
    "        [-119.12406921386719,37.86916210952103],\n",
    "        [-119.12200927734376,37.875937397778614],\n",
    "        [-119.1212688230194,37.90572368618133],\n",
    "        [-119.13740499245301,37.930641295117404],\n",
    "        [-119.16595458984376,37.92659678938742],\n",
    "        [-119.18243408203126,37.9447389942697],\n",
    "        [-119.2088161252655,37.95257263611974],\n",
    "        [-119.25516469704283,37.92522514171301],\n",
    "        [-119.2630611203827,37.88215253011582],\n",
    "        [-119.25104482399598,37.84474832157969],\n",
    "        [-119.18203695046083,37.82576791597315],\n",
    "        [-119.16183471679688,37.82903964181452]\n",
    "    ]])\n",
    "aois.append(mt_dana)\n",
    "# mt_dana"
   ]
  },
  {
   "cell_type": "code",
   "execution_count": 15,
   "metadata": {},
   "outputs": [],
   "source": [
    "hanoi_s = Aoi('S Hanoi',\n",
    "    ['label-data/label_maker_pl_geotiff'],\n",
    "    [[\n",
    "        [105.81775409169494, 20.84015810005586],\n",
    "        [105.9111433289945, 20.84015810005586],\n",
    "        [105.9111433289945, 20.925748489914824],\n",
    "        [105.81775409169494, 20.925748489914824],\n",
    "        [105.81775409169494, 20.84015810005586]\n",
    "    ]])\n",
    "aois.append(hanoi_s)\n",
    "# hanoi_s"
   ]
  },
  {
   "cell_type": "code",
   "execution_count": 16,
   "metadata": {},
   "outputs": [],
   "source": [
    "myanmar_s = Aoi('S Myanmar',\n",
    "    ['orders/ordering_and_delivery',\n",
    "     'orders/tools_and_toolchains'\n",
    "    ],\n",
    "    [[\n",
    "        [94.25142652167966,16.942922591218252],\n",
    "        [95.95431374929511,16.587048751480086],\n",
    "        [95.55802198999191,14.851751617790999],\n",
    "        [93.87002080638986,15.209870864141054],\n",
    "        [94.25142652167966,16.942922591218252]\n",
    "    ]])\n",
    "aois.append(myanmar_s)\n",
    "# myanmar_s"
   ]
  },
  {
   "cell_type": "code",
   "execution_count": 17,
   "metadata": {},
   "outputs": [],
   "source": [
    "merced_n = Aoi('North of Merced',\n",
    "    ['toar/toar_planetscope'],\n",
    "    [[\n",
    "        [-120.53282682046516,37.387200839539496],\n",
    "        [-120.52354973008043,37.420706184624756],\n",
    "        [-120.23858050023456,37.37089230084231],\n",
    "        [-120.24140251133315,37.36077146074112],\n",
    "        [-120.240470649891,37.36060856263429],\n",
    "        [-120.253098881104,37.31418359933723],\n",
    "        [-120.25781268370172,37.29734056539194],\n",
    "        [-120.54356183694901,37.347297317827675],\n",
    "        [-120.53282682046516,37.387200839539496]\n",
    "    ]])\n",
    "aois.append(merced_n)\n",
    "# merced_n"
   ]
  },
  {
   "cell_type": "code",
   "execution_count": 18,
   "metadata": {},
   "outputs": [],
   "source": [
    "iowa_crops_2 = Aoi('iowa_crops_2',\n",
    "    ['udm/udm', 'udm/udm2'],\n",
    "    [[\n",
    "        [-93.29905768168668,42.69958733505418],\n",
    "        [-93.29965849650593,42.81289914666694],\n",
    "        [-93.28841467631707,42.862022561801815],\n",
    "        [-93.2653691364643,42.924746756580326],\n",
    "        [-92.99388666885065,42.92512385194759],\n",
    "        [-92.99388666885065,42.77359750030287],\n",
    "        [-92.99839277999504,42.75450452618375],\n",
    "        [-93.01916380660347,42.699965805770056],\n",
    "        [-93.29905768168668,42.69958733505418]\n",
    "    ]])\n",
    "aois.append(iowa_crops_2)\n",
    "# iowa_crops_2"
   ]
  },
  {
   "cell_type": "markdown",
   "metadata": {},
   "source": [
    "### Write to File"
   ]
  },
  {
   "cell_type": "code",
   "execution_count": 19,
   "metadata": {},
   "outputs": [],
   "source": [
    "aois.write(aoi_filename)"
   ]
  }
 ],
 "metadata": {
  "kernelspec": {
   "display_name": "Python 3",
   "language": "python",
   "name": "python3"
  },
  "language_info": {
   "codemirror_mode": {
    "name": "ipython",
    "version": 3
   },
   "file_extension": ".py",
   "mimetype": "text/x-python",
   "name": "python",
   "nbconvert_exporter": "python",
   "pygments_lexer": "ipython3",
   "version": "3.7.6"
  }
 },
 "nbformat": 4,
 "nbformat_minor": 4
}
