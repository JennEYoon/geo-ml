{
 "cells": [
  {
   "cell_type": "markdown",
   "metadata": {},
   "source": [
    "# Imports Test\n",
    "\n",
    "This notebook imports all of the dependencies in this repo to identify any import errors. The purpose of this notebook is to provide some basic testing for development involving the Docker image.\n",
    "\n",
    "Every once in a while, check to see all these packages are used\n",
    "\n",
    "```\n",
    "find . -type f -print0 | xargs -0 grep \"import <package>\"\n",
    "```"
   ]
  },
  {
   "cell_type": "code",
   "execution_count": 1,
   "metadata": {},
   "outputs": [],
   "source": [
    "# please keep this in alphabetical order\n",
    "import cv2\n",
    "import fiona\n",
    "import geojson\n",
    "import geojsonio\n",
    "import geopandas\n",
    "import ipyleaflet\n",
    "import ipywidgets\n",
    "import matplotlib\n",
    "import mercantile\n",
    "import numpy\n",
    "from osgeo import gdal, osr\n",
    "import pandas\n",
    "import planet\n",
    "import pyproj\n",
    "import pytest\n",
    "import rasterio\n",
    "import requests\n",
    "import scipy\n",
    "import shapely\n",
    "import six # python2/3 compatibility\n",
    "import skimage\n",
    "import sklearn\n",
    "import tqdm"
   ]
  },
  {
   "cell_type": "code",
   "execution_count": null,
   "metadata": {},
   "outputs": [],
   "source": []
  }
 ],
 "metadata": {
  "kernelspec": {
   "display_name": "Python 3",
   "language": "python",
   "name": "python3"
  },
  "language_info": {
   "codemirror_mode": {
    "name": "ipython",
    "version": 3
   },
   "file_extension": ".py",
   "mimetype": "text/x-python",
   "name": "python",
   "nbconvert_exporter": "python",
   "pygments_lexer": "ipython3",
   "version": "3.7.6"
  }
 },
 "nbformat": 4,
 "nbformat_minor": 4
}
