{
 "cells": [
  {
   "cell_type": "markdown",
   "id": "lightweight-loading",
   "metadata": {},
   "source": [
    "## Data Load Test 2   \n",
    "env: fastai20 from ubuntu, local   \n",
    "     includes jupyter lab/notebook   \n",
    "date: 7/24/2021 3:30 pm start  \n",
    "author: Jennifer Yoon  \n",
    "desc: using fastai to load data, try TINY_PLANET fastai source data  "
   ]
  },
  {
   "cell_type": "markdown",
   "id": "brief-premises",
   "metadata": {},
   "source": [
    "### S0. Load Libraries  "
   ]
  },
  {
   "cell_type": "code",
   "execution_count": 10,
   "id": "specialized-messenger",
   "metadata": {},
   "outputs": [],
   "source": [
    "# Load fastai library, book contents  \n",
    "# import fastai, fastbook\n",
    "!pip install -Uqq fastbook\n",
    "import fastbook\n",
    "fastbook.setup_book()"
   ]
  },
  {
   "cell_type": "code",
   "execution_count": 12,
   "id": "skilled-means",
   "metadata": {},
   "outputs": [],
   "source": [
    "# test versions, python, pytorch, nbdev\n",
    "#!python --version  # v3.6.10  \n",
    "#import torch; print(torch.__version__)  # v1.7.1\n",
    "#import nbdev; print(nbdev.__version__)  # v1.1.11\n",
    "import pandas as pd \n",
    "import numpy as np\n",
    "import matplotlib.pyplot as plt \n",
    "\n",
    "%matplotlib inline \n",
    "%load_ext autoreload\n",
    "%autoreload 2    # auto-reload all modules"
   ]
  },
  {
   "cell_type": "code",
   "execution_count": null,
   "id": "stunning-montreal",
   "metadata": {},
   "outputs": [],
   "source": [
    "# plt.<shift+tab>  # dot+shift+tab to view pkg info."
   ]
  },
  {
   "cell_type": "code",
   "execution_count": 11,
   "id": "approved-placement",
   "metadata": {},
   "outputs": [
    {
     "name": "stdout",
     "output_type": "stream",
     "text": [
      "0-93-multi-category-planet-dataset-fast-ai.ipynb\n",
      "JY-notes-gdrive-v3.ipynb\n",
      "data_load_test2.ipynb\n",
      "fast-ai-v3-lesson-3-notes.txt\n",
      "fast-ai-v3-lesson-3-planet.ipynb\n",
      "img_load.ipynb\n",
      "multicategory-planet-with-fastai.ipynb\n",
      "rainforest-load-jy1.pdf\n",
      "/mnt/c/users/jyoon/gdrive/repos/geo-ml/rainforest/tests/mytest_nbs\n"
     ]
    }
   ],
   "source": [
    "!ls\n",
    "!pwd"
   ]
  },
  {
   "cell_type": "code",
   "execution_count": 16,
   "id": "durable-laundry",
   "metadata": {},
   "outputs": [],
   "source": [
    "# Javascript keep alive widget, for working online with Google Colab\n",
    "#%%javascript\n",
    "#function ClickConnect(){\n",
    "#    console.log(“Working”);\n",
    "#    document.querySelector(“colab-connect-button”).shadowRoot.getElementById(‘connect’).click();\n",
    "#}\n",
    "#setInterval(ClickConnect,60000)\n"
   ]
  },
  {
   "cell_type": "markdown",
   "id": "ideal-tamil",
   "metadata": {},
   "source": [
    "### S1.  Set data path  \n",
    "ex1 remote google drive: ```Path('/content/gdrive/MyDrive/repos/data-big/planet-jpg/train-jpg')``` \n",
    "ex2 local: ```Path('c:/users/jyoon/repos/data-big/planet-jpg)```\n",
    "\n",
    "#### to mount google drive, when working in Google Colab  \n",
    "```\n",
    "from google.colab import drive\n",
    "drive.mount('/content/drive')\n",
    "#drive.mount(\"/content/drive\", force_remount=True)\n",
    "``` "
   ]
  },
  {
   "cell_type": "code",
   "execution_count": null,
   "id": "infrared-subdivision",
   "metadata": {},
   "outputs": [],
   "source": []
  },
  {
   "cell_type": "code",
   "execution_count": null,
   "id": "prostate-spine",
   "metadata": {},
   "outputs": [],
   "source": [
    "path = untar_data(URLs.TINY_PLANET)\n",
    "path.ls()"
   ]
  },
  {
   "cell_type": "code",
   "execution_count": null,
   "id": "viral-arthritis",
   "metadata": {},
   "outputs": [],
   "source": []
  },
  {
   "cell_type": "code",
   "execution_count": null,
   "id": "hollow-driver",
   "metadata": {},
   "outputs": [],
   "source": [
    "# explore files\n",
    "files = get_image_files(path/\"images\")\n",
    "len(files)\n",
    "files[0], files[10] "
   ]
  },
  {
   "cell_type": "code",
   "execution_count": null,
   "id": "deluxe-synthesis",
   "metadata": {},
   "outputs": [],
   "source": []
  },
  {
   "cell_type": "code",
   "execution_count": 20,
   "id": "congressional-sharp",
   "metadata": {},
   "outputs": [
    {
     "data": {
      "text/plain": [
       "(#4) [Path('/mnt/c/users/jyoon/gdrive/repos/data-big/planet-2k/desktop.ini'),Path('/mnt/c/users/jyoon/gdrive/repos/data-big/planet-2k/test'),Path('/mnt/c/users/jyoon/gdrive/repos/data-big/planet-2k/train'),Path('/mnt/c/users/jyoon/gdrive/repos/data-big/planet-2k/train_classes_2k.csv')]"
      ]
     },
     "execution_count": 20,
     "metadata": {},
     "output_type": "execute_result"
    }
   ],
   "source": [
    "from pathlib import Path\n",
    "path2 = Path('/mnt/c/users/jyoon/gdrive/repos/data-big/planet-2k')\n",
    "path2.ls()"
   ]
  },
  {
   "cell_type": "code",
   "execution_count": null,
   "id": "biological-hierarchy",
   "metadata": {},
   "outputs": [],
   "source": []
  }
 ],
 "metadata": {
  "kernelspec": {
   "display_name": "Python [conda env:fastai20] *",
   "language": "python",
   "name": "conda-env-fastai20-py"
  },
  "language_info": {
   "codemirror_mode": {
    "name": "ipython",
    "version": 3
   },
   "file_extension": ".py",
   "mimetype": "text/x-python",
   "name": "python",
   "nbconvert_exporter": "python",
   "pygments_lexer": "ipython3",
   "version": "3.6.10"
  }
 },
 "nbformat": 4,
 "nbformat_minor": 5
}
