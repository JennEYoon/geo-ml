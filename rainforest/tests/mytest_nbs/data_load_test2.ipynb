{
 "cells": [
  {
   "cell_type": "markdown",
   "id": "external-loading",
   "metadata": {},
   "source": [
    "## Data Load Test 2   \n",
    "env: fastai20 from ubuntu, local   \n",
    "     includes jupyter lab/notebook   \n",
    "date: 7/24/2021 3:30 pm start  \n",
    "date: 7/25/2021 11:10 pm end  \n",
    "author: Jennifer Yoon  \n",
    "desc: using fastai to load data, try PLANET_TINY fastai source data  "
   ]
  },
  {
   "cell_type": "markdown",
   "id": "viral-holder",
   "metadata": {},
   "source": [
    "### S0a. Setup for working locally  \n",
    "Ubuntu WSL, conda env \"fastai20\"    \n",
    "Python v 3.6, jupyter lab/nb, pytorch 1.7,   \n",
    "nbdev 1.1, need nbdev for viewing docs    "
   ]
  },
  {
   "cell_type": "code",
   "execution_count": 1,
   "id": "standard-whale",
   "metadata": {},
   "outputs": [],
   "source": [
    "# import data science libaries into each alias namespace  \n",
    "from PIL import Image\n",
    "import numpy as np\n",
    "import pandas as pd \n",
    "import matplotlib.pyplot as plt \n",
    "\n",
    "%matplotlib inline  \n",
    "%load_ext autoreload\n",
    "%autoreload 2    \n",
    "# auto-reload all external modules\n",
    "\n",
    "np.random.seed(42)  # set seed for numpy.random "
   ]
  },
  {
   "cell_type": "code",
   "execution_count": 2,
   "id": "satellite-pointer",
   "metadata": {},
   "outputs": [],
   "source": [
    "# name.<shift+tab>  # dot+shift+tab to view optioninfo.\n"
   ]
  },
  {
   "cell_type": "code",
   "execution_count": 3,
   "id": "hungarian-frost",
   "metadata": {},
   "outputs": [
    {
     "name": "stdout",
     "output_type": "stream",
     "text": [
      "Python 3.6.10 :: Anaconda, Inc.\n",
      "1.7.1\n",
      "1.1.11\n"
     ]
    }
   ],
   "source": [
    "# test versions, python, pytorch, nbdev\n",
    "!python --version  # v3.6.10  \n",
    "import torch; print(torch.__version__)  # v1.7.1\n",
    "import nbdev; print(nbdev.__version__)  # v1.1.11"
   ]
  },
  {
   "cell_type": "code",
   "execution_count": 4,
   "id": "integrated-elements",
   "metadata": {
    "collapsed": true,
    "jupyter": {
     "outputs_hidden": true
    }
   },
   "outputs": [],
   "source": [
    "# dir() to see data science lib namespace\n",
    "#dir()"
   ]
  },
  {
   "cell_type": "code",
   "execution_count": 5,
   "id": "immune-schema",
   "metadata": {},
   "outputs": [],
   "source": [
    "# Load fastai library, book contents  \n",
    "# install and import fastbook contents \n",
    "!pip install -Uqq fastbook\n",
    "import fastbook\n",
    "fastbook.setup_book()"
   ]
  },
  {
   "cell_type": "code",
   "execution_count": 6,
   "id": "respiratory-logistics",
   "metadata": {},
   "outputs": [],
   "source": [
    "# import fastbook contents\n",
    "from fastbook import *\n",
    "\n",
    "# import all vision library namespace  \n",
    "from fastai.vision.all import *\n",
    "\n",
    "# alternate vision library import statement  \n",
    "#from fastai.vision import *"
   ]
  },
  {
   "cell_type": "code",
   "execution_count": 7,
   "id": "complete-dealing",
   "metadata": {
    "collapsed": true,
    "jupyter": {
     "outputs_hidden": true
    }
   },
   "outputs": [],
   "source": [
    "#dir()  # prints all fastai vision imported namespace"
   ]
  },
  {
   "cell_type": "code",
   "execution_count": null,
   "id": "ancient-standing",
   "metadata": {},
   "outputs": [],
   "source": []
  },
  {
   "cell_type": "markdown",
   "id": "wrong-april",
   "metadata": {},
   "source": [
    "### S0b. Setup for working in Colab  \n",
    "\n",
    " * mount gdrive  \n",
    " * run fastbook install codes, import fastbook, call setup  \n",
    " * from pathlib import Path (if \"Path\" object didn't get imported with fastbook import).  \n",
    " * somehow upload data folder to gdrive or to Colab instance \\contents\\gdrive\\ path  \n",
    " * set Path object to point to uploaded data location, gdrive or root of Colab instance.  \n",
    " * test Path by showing one image file  \n",
    "\n",
    "#### Mount google drive with Google Colab  \n",
    "```\n",
    "from google.colab import drive  \n",
    "drive.mount('/content/drive')  \n",
    "#drive.mount(\"/content/drive\", force_remount=True)  \n",
    "``` \n",
    "\n",
    "#### Set data path  \n",
    "ex1 remote google drive:   \n",
    "```Path('/content/gdrive/MyDrive/Colab Notebooks/data/planet_2k')```   \n",
    "ex2 local:  \n",
    "```Path('c:/users/jyoon/repos/data-big/planet-jpg')```  \n",
    "\n",
    "#### Explore path  \n",
    "!pwd  # print working directory. linux bash command  \n",
    "!ls   # list items, linux bash command  \n",
    "\n",
    "#### Path object from Python pathlib.py  \n",
    "path = Path('/contents/gdrive/Colab Notebooks/data/planet-2k/train/')  \n",
    "path.ls()  \n",
    "path.BASE_PATH = path  \n",
    "path.BASE_PATH  "
   ]
  },
  {
   "cell_type": "code",
   "execution_count": 8,
   "id": "detected-pregnancy",
   "metadata": {},
   "outputs": [],
   "source": [
    "#path = Path('/contents/gdrive/Colab Notebooks/data/planet_2k/train/')\n",
    "#path.ls()\n"
   ]
  },
  {
   "cell_type": "code",
   "execution_count": 9,
   "id": "bigger-taxation",
   "metadata": {},
   "outputs": [],
   "source": [
    "#path.BASE_PATH = path  \n",
    "#path.BASE_PATH  "
   ]
  },
  {
   "cell_type": "code",
   "execution_count": 10,
   "id": "collaborative-meaning",
   "metadata": {},
   "outputs": [],
   "source": [
    "# Javascript keep alive widget, for working online with Google Colab\n",
    "\n",
    "#%%javascript\n",
    "#function ClickConnect(){\n",
    "#    console.log(“Working”);\n",
    "#    document.querySelector(“colab-connect-button”).shadowRoot.getElementById(‘connect’).click();\n",
    "#}\n",
    "#setInterval(ClickConnect,60000)"
   ]
  },
  {
   "cell_type": "markdown",
   "id": "insured-regard",
   "metadata": {},
   "source": []
  },
  {
   "cell_type": "code",
   "execution_count": null,
   "id": "consistent-alexander",
   "metadata": {},
   "outputs": [],
   "source": []
  },
  {
   "cell_type": "markdown",
   "id": "loaded-biotechnology",
   "metadata": {},
   "source": [
    "### S1a. untar_data, PLANET_TINY  \n",
    "\n",
    "Try using fastai's \"untar_data\" function to download PLANET_TINY data from fastai's aws.s3 server."
   ]
  },
  {
   "cell_type": "code",
   "execution_count": 11,
   "id": "wicked-shield",
   "metadata": {},
   "outputs": [
    {
     "data": {
      "text/plain": [
       "(#2) [Path('/home/jyoon/.fastai/data/oxford-iiit-pet/annotations'),Path('/home/jyoon/.fastai/data/oxford-iiit-pet/images')]"
      ]
     },
     "execution_count": 11,
     "metadata": {},
     "output_type": "execute_result"
    }
   ],
   "source": [
    "# test untar_data namespace\n",
    "path = untar_data(URLs.PETS) \n",
    "path.ls()"
   ]
  },
  {
   "cell_type": "code",
   "execution_count": 12,
   "id": "handmade-catering",
   "metadata": {},
   "outputs": [
    {
     "data": {
      "text/plain": [
       "(#2) [Path('/home/jyoon/.fastai/data/planet_tiny/labels.csv'),Path('/home/jyoon/.fastai/data/planet_tiny/train')]"
      ]
     },
     "execution_count": 12,
     "metadata": {},
     "output_type": "execute_result"
    }
   ],
   "source": [
    "# download data PLANET_TINY from fastai's aws.s3 storage server.  \n",
    "path2 = untar_data(URLs.PLANET_TINY)\n",
    "path2.ls()"
   ]
  },
  {
   "cell_type": "code",
   "execution_count": 13,
   "id": "earlier-sustainability",
   "metadata": {},
   "outputs": [
    {
     "name": "stdout",
     "output_type": "stream",
     "text": [
      "/home/jyoon/.fastai/data/planet_tiny\n",
      "[Path('labels.csv'), Path('train')]\n"
     ]
    }
   ],
   "source": [
    "# shorten path\n",
    "Path.BASE_PATH = path2\n",
    "print(Path.BASE_PATH)\n",
    "print(path2.ls())"
   ]
  },
  {
   "cell_type": "code",
   "execution_count": 14,
   "id": "annoying-charlotte",
   "metadata": {},
   "outputs": [
    {
     "data": {
      "text/plain": [
       "Path('labels.csv')"
      ]
     },
     "execution_count": 14,
     "metadata": {},
     "output_type": "execute_result"
    }
   ],
   "source": [
    "path3 = path2/'labels.csv'\n",
    "path3"
   ]
  },
  {
   "cell_type": "code",
   "execution_count": 15,
   "id": "southern-virtue",
   "metadata": {},
   "outputs": [
    {
     "name": "stdout",
     "output_type": "stream",
     "text": [
      "/home/jyoon/.fastai/data/planet_tiny/labels.csv\n"
     ]
    }
   ],
   "source": [
    "filecsv = path2/'labels.csv'\n",
    "print(filecsv)\n"
   ]
  },
  {
   "cell_type": "code",
   "execution_count": 16,
   "id": "historic-guest",
   "metadata": {},
   "outputs": [
    {
     "data": {
      "text/html": [
       "<div>\n",
       "<style scoped>\n",
       "    .dataframe tbody tr th:only-of-type {\n",
       "        vertical-align: middle;\n",
       "    }\n",
       "\n",
       "    .dataframe tbody tr th {\n",
       "        vertical-align: top;\n",
       "    }\n",
       "\n",
       "    .dataframe thead th {\n",
       "        text-align: right;\n",
       "    }\n",
       "</style>\n",
       "<table border=\"1\" class=\"dataframe\">\n",
       "  <thead>\n",
       "    <tr style=\"text-align: right;\">\n",
       "      <th></th>\n",
       "      <th>image_name</th>\n",
       "      <th>tags</th>\n",
       "    </tr>\n",
       "  </thead>\n",
       "  <tbody>\n",
       "    <tr>\n",
       "      <th>0</th>\n",
       "      <td>train_31112</td>\n",
       "      <td>clear primary</td>\n",
       "    </tr>\n",
       "    <tr>\n",
       "      <th>1</th>\n",
       "      <td>train_4300</td>\n",
       "      <td>partly_cloudy primary water</td>\n",
       "    </tr>\n",
       "    <tr>\n",
       "      <th>2</th>\n",
       "      <td>train_39539</td>\n",
       "      <td>clear primary water</td>\n",
       "    </tr>\n",
       "    <tr>\n",
       "      <th>3</th>\n",
       "      <td>train_12498</td>\n",
       "      <td>agriculture clear primary road</td>\n",
       "    </tr>\n",
       "    <tr>\n",
       "      <th>4</th>\n",
       "      <td>train_9320</td>\n",
       "      <td>clear primary</td>\n",
       "    </tr>\n",
       "  </tbody>\n",
       "</table>\n",
       "</div>"
      ],
      "text/plain": [
       "    image_name                            tags\n",
       "0  train_31112                   clear primary\n",
       "1   train_4300     partly_cloudy primary water\n",
       "2  train_39539             clear primary water\n",
       "3  train_12498  agriculture clear primary road\n",
       "4   train_9320                   clear primary"
      ]
     },
     "execution_count": 16,
     "metadata": {},
     "output_type": "execute_result"
    }
   ],
   "source": [
    "df = pd.read_csv(filecsv)\n",
    "df.head()"
   ]
  },
  {
   "cell_type": "code",
   "execution_count": 17,
   "id": "robust-antique",
   "metadata": {},
   "outputs": [
    {
     "data": {
      "text/plain": [
       "200"
      ]
     },
     "execution_count": 17,
     "metadata": {},
     "output_type": "execute_result"
    }
   ],
   "source": [
    "len(df)"
   ]
  },
  {
   "cell_type": "code",
   "execution_count": 18,
   "id": "silver-orchestra",
   "metadata": {},
   "outputs": [],
   "source": [
    "# load one or more images.  \n",
    "# do images show "
   ]
  },
  {
   "cell_type": "code",
   "execution_count": null,
   "id": "disciplinary-sustainability",
   "metadata": {},
   "outputs": [],
   "source": []
  },
  {
   "cell_type": "code",
   "execution_count": null,
   "id": "sophisticated-harvard",
   "metadata": {},
   "outputs": [],
   "source": []
  },
  {
   "cell_type": "code",
   "execution_count": null,
   "id": "agricultural-advisory",
   "metadata": {},
   "outputs": [],
   "source": []
  },
  {
   "cell_type": "code",
   "execution_count": null,
   "id": "convinced-distributor",
   "metadata": {},
   "outputs": [],
   "source": []
  },
  {
   "cell_type": "code",
   "execution_count": null,
   "id": "advance-rough",
   "metadata": {},
   "outputs": [],
   "source": []
  },
  {
   "cell_type": "code",
   "execution_count": null,
   "id": "worldwide-midnight",
   "metadata": {},
   "outputs": [],
   "source": []
  },
  {
   "cell_type": "code",
   "execution_count": null,
   "id": "hungry-concert",
   "metadata": {},
   "outputs": [],
   "source": []
  },
  {
   "cell_type": "code",
   "execution_count": null,
   "id": "innocent-botswana",
   "metadata": {},
   "outputs": [],
   "source": []
  },
  {
   "cell_type": "markdown",
   "id": "legal-fountain",
   "metadata": {},
   "source": [
    "#### S1b. Planet_2k data  \n",
    "Working locally from Ubuntu fastai20 conda env.  \n",
    "Data saved to \"gdrive/Colab Notebooks/data/planet_2k\" locally.  "
   ]
  },
  {
   "cell_type": "code",
   "execution_count": 19,
   "id": "valid-dispute",
   "metadata": {},
   "outputs": [
    {
     "data": {
      "text/plain": [
       "(#4) [Path('/mnt/c/users/jyoon/gdrive/Colab Notebooks/data/planet_2k/test'),Path('/mnt/c/users/jyoon/gdrive/Colab Notebooks/data/planet_2k/train'),Path('/mnt/c/users/jyoon/gdrive/Colab Notebooks/data/planet_2k/train_classes_2k.csv'),Path('/mnt/c/users/jyoon/gdrive/Colab Notebooks/data/planet_2k/train_classes_2k.gsheet')]"
      ]
     },
     "execution_count": 19,
     "metadata": {},
     "output_type": "execute_result"
    }
   ],
   "source": [
    "# set path to planet-2k folder  \n",
    "# C:\\Users\\jyoon\\gdrive\\Colab Notebooks\\data\\planet_2k\n",
    "# location: Path('/mnt/c/users/jyoon/gdrive/Colab Notebooks/data/planet_2k')  \n",
    "\n",
    "path2k = Path('/mnt/c/users/jyoon/gdrive/Colab Notebooks/data/planet_2k')\n",
    "path2k.ls()"
   ]
  },
  {
   "cell_type": "code",
   "execution_count": 20,
   "id": "acquired-waterproof",
   "metadata": {},
   "outputs": [
    {
     "data": {
      "text/plain": [
       "(#4) [Path('test'),Path('train'),Path('train_classes_2k.csv'),Path('train_classes_2k.gsheet')]"
      ]
     },
     "execution_count": 20,
     "metadata": {},
     "output_type": "execute_result"
    }
   ],
   "source": [
    "Path.BASE_PATH = path2k\n",
    "path2k.ls()"
   ]
  },
  {
   "cell_type": "code",
   "execution_count": 21,
   "id": "tested-shadow",
   "metadata": {},
   "outputs": [
    {
     "name": "stdout",
     "output_type": "stream",
     "text": [
      "/mnt/c/users/jyoon/gdrive/Colab Notebooks/data/planet_2k/train_classes_2k.csv\n"
     ]
    }
   ],
   "source": [
    "csv2k = path2k/'train_classes_2k.csv'\n",
    "print(csv2k)\n"
   ]
  },
  {
   "cell_type": "code",
   "execution_count": 22,
   "id": "sealed-services",
   "metadata": {},
   "outputs": [
    {
     "data": {
      "text/html": [
       "<div>\n",
       "<style scoped>\n",
       "    .dataframe tbody tr th:only-of-type {\n",
       "        vertical-align: middle;\n",
       "    }\n",
       "\n",
       "    .dataframe tbody tr th {\n",
       "        vertical-align: top;\n",
       "    }\n",
       "\n",
       "    .dataframe thead th {\n",
       "        text-align: right;\n",
       "    }\n",
       "</style>\n",
       "<table border=\"1\" class=\"dataframe\">\n",
       "  <thead>\n",
       "    <tr style=\"text-align: right;\">\n",
       "      <th></th>\n",
       "      <th>image_name</th>\n",
       "      <th>tags</th>\n",
       "    </tr>\n",
       "  </thead>\n",
       "  <tbody>\n",
       "    <tr>\n",
       "      <th>0</th>\n",
       "      <td>train_0</td>\n",
       "      <td>haze primary</td>\n",
       "    </tr>\n",
       "    <tr>\n",
       "      <th>1</th>\n",
       "      <td>train_1</td>\n",
       "      <td>agriculture clear primary water</td>\n",
       "    </tr>\n",
       "    <tr>\n",
       "      <th>2</th>\n",
       "      <td>train_2</td>\n",
       "      <td>clear primary</td>\n",
       "    </tr>\n",
       "    <tr>\n",
       "      <th>3</th>\n",
       "      <td>train_3</td>\n",
       "      <td>clear primary</td>\n",
       "    </tr>\n",
       "    <tr>\n",
       "      <th>4</th>\n",
       "      <td>train_4</td>\n",
       "      <td>agriculture clear habitation primary road</td>\n",
       "    </tr>\n",
       "  </tbody>\n",
       "</table>\n",
       "</div>"
      ],
      "text/plain": [
       "  image_name                                       tags\n",
       "0    train_0                               haze primary\n",
       "1    train_1            agriculture clear primary water\n",
       "2    train_2                              clear primary\n",
       "3    train_3                              clear primary\n",
       "4    train_4  agriculture clear habitation primary road"
      ]
     },
     "execution_count": 22,
     "metadata": {},
     "output_type": "execute_result"
    }
   ],
   "source": [
    "df2k = pd.read_csv(csv2k)\n",
    "#df2k.tail()\n",
    "df2k.head()"
   ]
  },
  {
   "cell_type": "code",
   "execution_count": 23,
   "id": "altered-parish",
   "metadata": {},
   "outputs": [],
   "source": [
    "# explore labels data frame  \n",
    "# df2k.describe() \n",
    "# df2k.tags.unique()\n",
    "# len(df2k)\n",
    "# dk2k['tags'] == 'na'"
   ]
  },
  {
   "cell_type": "code",
   "execution_count": null,
   "id": "backed-patch",
   "metadata": {},
   "outputs": [],
   "source": []
  },
  {
   "cell_type": "markdown",
   "id": "compact-perspective",
   "metadata": {},
   "source": [
    "#### S2b. Explore Planet_2k images"
   ]
  },
  {
   "cell_type": "code",
   "execution_count": 24,
   "id": "arbitrary-detail",
   "metadata": {},
   "outputs": [
    {
     "data": {
      "text/plain": [
       "2000"
      ]
     },
     "execution_count": 24,
     "metadata": {},
     "output_type": "execute_result"
    }
   ],
   "source": [
    "# explore files\n",
    "files = get_image_files(path2k/\"train\")\n",
    "len(files)\n"
   ]
  },
  {
   "cell_type": "code",
   "execution_count": 25,
   "id": "illegal-fantasy",
   "metadata": {},
   "outputs": [
    {
     "data": {
      "text/plain": [
       "(Path('train/train_0.jpg'),\n",
       " Path('train/train_1.jpg'),\n",
       " Path('train/train_10.jpg'),\n",
       " Path('train/train_100.jpg'),\n",
       " Path('train/train_1000.jpg'))"
      ]
     },
     "execution_count": 25,
     "metadata": {},
     "output_type": "execute_result"
    }
   ],
   "source": [
    "files[0], files[1], files[2], files[3], files[4] "
   ]
  },
  {
   "cell_type": "code",
   "execution_count": null,
   "id": "future-terrace",
   "metadata": {},
   "outputs": [],
   "source": []
  },
  {
   "cell_type": "code",
   "execution_count": 26,
   "id": "premier-duncan",
   "metadata": {},
   "outputs": [],
   "source": [
    "from PIL import Image"
   ]
  },
  {
   "cell_type": "code",
   "execution_count": 27,
   "id": "swiss-orlando",
   "metadata": {},
   "outputs": [
    {
     "name": "stdout",
     "output_type": "stream",
     "text": [
      "im\n",
      "im\n",
      "im\n"
     ]
    },
    {
     "data": {
      "image/png": "[encoded data removed]",
      "text/plain": [
       "<PIL.Image.Image image mode=RGB size=256x256 at 0x7FD48B7E2780>"
      ]
     },
     "execution_count": 27,
     "metadata": {},
     "output_type": "execute_result"
    }
   ],
   "source": [
    "# We can open an image with the Python Imaging Library's Image class\n",
    "imlist = []\n",
    "for i in [0, 1, 2]:\n",
    "    im = Image.open(files[i]).convert('RGB')\n",
    "    print(\"im\")\n",
    "    imlist.append(im)\n",
    "im    "
   ]
  },
  {
   "cell_type": "code",
   "execution_count": 28,
   "id": "hydraulic-hindu",
   "metadata": {},
   "outputs": [
    {
     "data": {
      "text/plain": [
       "[<PIL.Image.Image image mode=RGB size=256x256 at 0x7FD48B7C9278>,\n",
       " <PIL.Image.Image image mode=RGB size=256x256 at 0x7FD49C04DDA0>,\n",
       " <PIL.Image.Image image mode=RGB size=256x256 at 0x7FD48B7E2780>]"
      ]
     },
     "execution_count": 28,
     "metadata": {},
     "output_type": "execute_result"
    }
   ],
   "source": [
    "imlist"
   ]
  },
  {
   "cell_type": "code",
   "execution_count": 29,
   "id": "mysterious-cooperation",
   "metadata": {},
   "outputs": [],
   "source": [
    "# how to show 3 images at once?  Use matplotlib.pyplot?\n",
    "# After images loaded into dls, can use \"dls.show_batch(3)\""
   ]
  },
  {
   "cell_type": "code",
   "execution_count": null,
   "id": "suitable-integrity",
   "metadata": {},
   "outputs": [],
   "source": []
  },
  {
   "cell_type": "markdown",
   "id": "isolated-fault",
   "metadata": {},
   "source": [
    "#### S3a. DataBlock, DataLoaders, DLS  \n",
    "Firt try loading PLANET_TINY into fastai dls."
   ]
  },
  {
   "cell_type": "code",
   "execution_count": null,
   "id": "optimum-cycle",
   "metadata": {},
   "outputs": [],
   "source": []
  },
  {
   "cell_type": "code",
   "execution_count": null,
   "id": "dramatic-uganda",
   "metadata": {},
   "outputs": [],
   "source": []
  },
  {
   "cell_type": "code",
   "execution_count": null,
   "id": "cleared-gauge",
   "metadata": {},
   "outputs": [],
   "source": []
  },
  {
   "cell_type": "markdown",
   "id": "opposite-jones",
   "metadata": {},
   "source": [
    "#### S3b. DataBlock, DataLoaders, DLS  \n",
    "Next load planet_2k images into fastai dls.  \n",
    "Need img.convert('RGB'), part of dataloader I think. "
   ]
  },
  {
   "cell_type": "code",
   "execution_count": null,
   "id": "norwegian-ottawa",
   "metadata": {},
   "outputs": [],
   "source": []
  },
  {
   "cell_type": "code",
   "execution_count": null,
   "id": "fluid-english",
   "metadata": {},
   "outputs": [],
   "source": []
  },
  {
   "cell_type": "code",
   "execution_count": null,
   "id": "convertible-capability",
   "metadata": {},
   "outputs": [],
   "source": []
  },
  {
   "cell_type": "code",
   "execution_count": null,
   "id": "verified-minneapolis",
   "metadata": {},
   "outputs": [],
   "source": []
  },
  {
   "cell_type": "code",
   "execution_count": null,
   "id": "united-welding",
   "metadata": {},
   "outputs": [],
   "source": []
  }
 ],
 "metadata": {
  "kernelspec": {
   "display_name": "Python [conda env:fastai20] *",
   "language": "python",
   "name": "conda-env-fastai20-py"
  },
  "language_info": {
   "codemirror_mode": {
    "name": "ipython",
    "version": 3
   },
   "file_extension": ".py",
   "mimetype": "text/x-python",
   "name": "python",
   "nbconvert_exporter": "python",
   "pygments_lexer": "ipython3",
   "version": "3.6.10"
  }
 },
 "nbformat": 4,
 "nbformat_minor": 5
}
