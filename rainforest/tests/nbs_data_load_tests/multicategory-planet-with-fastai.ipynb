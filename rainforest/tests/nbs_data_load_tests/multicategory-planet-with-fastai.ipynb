{
 "cells": [
  {
   "cell_type": "markdown",
   "metadata": {
    "papermill": {
     "duration": 0.010122,
     "end_time": "2021-01-28T02:32:38.650074",
     "exception": false,
     "start_time": "2021-01-28T02:32:38.639952",
     "status": "completed"
    },
    "tags": []
   },
   "source": [
    "with reference from : https://www.kaggle.com/slm37102/0-93-multi-category-planet-dataset-fast-ai"
   ]
  },
  {
   "cell_type": "code",
   "execution_count": 1,
   "metadata": {
    "execution": {
     "iopub.execute_input": "2021-01-28T02:32:38.673892Z",
     "iopub.status.busy": "2021-01-28T02:32:38.673204Z",
     "iopub.status.idle": "2021-01-28T02:32:41.849890Z",
     "shell.execute_reply": "2021-01-28T02:32:41.848804Z"
    },
    "papermill": {
     "duration": 3.190759,
     "end_time": "2021-01-28T02:32:41.850086",
     "exception": false,
     "start_time": "2021-01-28T02:32:38.659327",
     "status": "completed"
    },
    "tags": []
   },
   "outputs": [],
   "source": [
    "from fastai.vision.all import *"
   ]
  },
  {
   "cell_type": "code",
   "execution_count": 2,
   "metadata": {
    "execution": {
     "iopub.execute_input": "2021-01-28T02:32:41.875104Z",
     "iopub.status.busy": "2021-01-28T02:32:41.873681Z",
     "iopub.status.idle": "2021-01-28T02:32:41.876680Z",
     "shell.execute_reply": "2021-01-28T02:32:41.876237Z"
    },
    "papermill": {
     "duration": 0.016436,
     "end_time": "2021-01-28T02:32:41.876802",
     "exception": false,
     "start_time": "2021-01-28T02:32:41.860366",
     "status": "completed"
    },
    "tags": []
   },
   "outputs": [],
   "source": [
    "path = Path('../input/planets-dataset/planet/planet')"
   ]
  },
  {
   "cell_type": "code",
   "execution_count": 3,
   "metadata": {
    "execution": {
     "iopub.execute_input": "2021-01-28T02:32:41.926294Z",
     "iopub.status.busy": "2021-01-28T02:32:41.925724Z",
     "iopub.status.idle": "2021-01-28T02:32:42.004687Z",
     "shell.execute_reply": "2021-01-28T02:32:42.005086Z"
    },
    "papermill": {
     "duration": 0.119082,
     "end_time": "2021-01-28T02:32:42.005243",
     "exception": false,
     "start_time": "2021-01-28T02:32:41.886161",
     "status": "completed"
    },
    "tags": []
   },
   "outputs": [
    {
     "data": {
      "text/html": [
       "<div>\n",
       "<style scoped>\n",
       "    .dataframe tbody tr th:only-of-type {\n",
       "        vertical-align: middle;\n",
       "    }\n",
       "\n",
       "    .dataframe tbody tr th {\n",
       "        vertical-align: top;\n",
       "    }\n",
       "\n",
       "    .dataframe thead th {\n",
       "        text-align: right;\n",
       "    }\n",
       "</style>\n",
       "<table border=\"1\" class=\"dataframe\">\n",
       "  <thead>\n",
       "    <tr style=\"text-align: right;\">\n",
       "      <th></th>\n",
       "      <th>image_name</th>\n",
       "      <th>tags</th>\n",
       "    </tr>\n",
       "  </thead>\n",
       "  <tbody>\n",
       "    <tr>\n",
       "      <th>0</th>\n",
       "      <td>train_0</td>\n",
       "      <td>haze primary</td>\n",
       "    </tr>\n",
       "    <tr>\n",
       "      <th>1</th>\n",
       "      <td>train_1</td>\n",
       "      <td>agriculture clear primary water</td>\n",
       "    </tr>\n",
       "    <tr>\n",
       "      <th>2</th>\n",
       "      <td>train_2</td>\n",
       "      <td>clear primary</td>\n",
       "    </tr>\n",
       "    <tr>\n",
       "      <th>3</th>\n",
       "      <td>train_3</td>\n",
       "      <td>clear primary</td>\n",
       "    </tr>\n",
       "    <tr>\n",
       "      <th>4</th>\n",
       "      <td>train_4</td>\n",
       "      <td>agriculture clear habitation primary road</td>\n",
       "    </tr>\n",
       "    <tr>\n",
       "      <th>...</th>\n",
       "      <td>...</td>\n",
       "      <td>...</td>\n",
       "    </tr>\n",
       "    <tr>\n",
       "      <th>40474</th>\n",
       "      <td>train_40474</td>\n",
       "      <td>clear primary</td>\n",
       "    </tr>\n",
       "    <tr>\n",
       "      <th>40475</th>\n",
       "      <td>train_40475</td>\n",
       "      <td>cloudy</td>\n",
       "    </tr>\n",
       "    <tr>\n",
       "      <th>40476</th>\n",
       "      <td>train_40476</td>\n",
       "      <td>agriculture clear primary</td>\n",
       "    </tr>\n",
       "    <tr>\n",
       "      <th>40477</th>\n",
       "      <td>train_40477</td>\n",
       "      <td>agriculture clear primary road</td>\n",
       "    </tr>\n",
       "    <tr>\n",
       "      <th>40478</th>\n",
       "      <td>train_40478</td>\n",
       "      <td>agriculture cultivation partly_cloudy primary</td>\n",
       "    </tr>\n",
       "  </tbody>\n",
       "</table>\n",
       "<p>40479 rows × 2 columns</p>\n",
       "</div>"
      ],
      "text/plain": [
       "        image_name                                           tags\n",
       "0          train_0                                   haze primary\n",
       "1          train_1                agriculture clear primary water\n",
       "2          train_2                                  clear primary\n",
       "3          train_3                                  clear primary\n",
       "4          train_4      agriculture clear habitation primary road\n",
       "...            ...                                            ...\n",
       "40474  train_40474                                  clear primary\n",
       "40475  train_40475                                         cloudy\n",
       "40476  train_40476                      agriculture clear primary\n",
       "40477  train_40477                 agriculture clear primary road\n",
       "40478  train_40478  agriculture cultivation partly_cloudy primary\n",
       "\n",
       "[40479 rows x 2 columns]"
      ]
     },
     "execution_count": 3,
     "metadata": {},
     "output_type": "execute_result"
    }
   ],
   "source": [
    "train_df = pd.read_csv(path/'train_classes.csv')\n",
    "train_df"
   ]
  },
  {
   "cell_type": "code",
   "execution_count": 4,
   "metadata": {
    "execution": {
     "iopub.execute_input": "2021-01-28T02:32:42.029614Z",
     "iopub.status.busy": "2021-01-28T02:32:42.028888Z",
     "iopub.status.idle": "2021-01-28T02:32:42.031797Z",
     "shell.execute_reply": "2021-01-28T02:32:42.031361Z"
    },
    "papermill": {
     "duration": 0.016411,
     "end_time": "2021-01-28T02:32:42.031913",
     "exception": false,
     "start_time": "2021-01-28T02:32:42.015502",
     "status": "completed"
    },
    "tags": []
   },
   "outputs": [],
   "source": [
    "def get_x(r):\n",
    "    return path/'train-jpg'/(r['image_name']+'.jpg')\n",
    "\n",
    "\n"
   ]
  },
  {
   "cell_type": "code",
   "execution_count": 5,
   "metadata": {
    "execution": {
     "iopub.execute_input": "2021-01-28T02:32:42.055760Z",
     "iopub.status.busy": "2021-01-28T02:32:42.055080Z",
     "iopub.status.idle": "2021-01-28T02:32:42.057566Z",
     "shell.execute_reply": "2021-01-28T02:32:42.057944Z"
    },
    "papermill": {
     "duration": 0.016249,
     "end_time": "2021-01-28T02:32:42.058075",
     "exception": false,
     "start_time": "2021-01-28T02:32:42.041826",
     "status": "completed"
    },
    "tags": []
   },
   "outputs": [],
   "source": [
    "def get_y(r):\n",
    "    return r['tags'].split()\n"
   ]
  },
  {
   "cell_type": "code",
   "execution_count": 6,
   "metadata": {
    "execution": {
     "iopub.execute_input": "2021-01-28T02:32:42.083414Z",
     "iopub.status.busy": "2021-01-28T02:32:42.082769Z",
     "iopub.status.idle": "2021-01-28T02:32:42.085681Z",
     "shell.execute_reply": "2021-01-28T02:32:42.085264Z"
    },
    "papermill": {
     "duration": 0.017677,
     "end_time": "2021-01-28T02:32:42.085790",
     "exception": false,
     "start_time": "2021-01-28T02:32:42.068113",
     "status": "completed"
    },
    "tags": []
   },
   "outputs": [],
   "source": [
    "def get_data(size=224, bs=64, data_df=train_df):\n",
    "    dblock = DataBlock(blocks=(ImageBlock, MultiCategoryBlock),\n",
    "                       splitter=RandomSplitter(seed=42),\n",
    "                       get_x=get_x,\n",
    "                       get_y=get_y,\n",
    "                       item_tfms=Resize(size),\n",
    "                       batch_tfms=[*aug_transforms(flip_vert=True, max_warp=0),\n",
    "                                   Normalize.from_stats(*imagenet_stats)])\n",
    "    return dblock.dataloaders(data_df,bs=bs)"
   ]
  },
  {
   "cell_type": "code",
   "execution_count": 7,
   "metadata": {
    "execution": {
     "iopub.execute_input": "2021-01-28T02:32:42.115072Z",
     "iopub.status.busy": "2021-01-28T02:32:42.114475Z",
     "iopub.status.idle": "2021-01-28T02:32:52.429742Z",
     "shell.execute_reply": "2021-01-28T02:32:52.429253Z"
    },
    "papermill": {
     "duration": 10.334057,
     "end_time": "2021-01-28T02:32:52.429874",
     "exception": false,
     "start_time": "2021-01-28T02:32:42.095817",
     "status": "completed"
    },
    "tags": []
   },
   "outputs": [],
   "source": [
    "dls = get_data(300, 40)"
   ]
  },
  {
   "cell_type": "code",
   "execution_count": 8,
   "metadata": {
    "execution": {
     "iopub.execute_input": "2021-01-28T02:32:52.479292Z",
     "iopub.status.busy": "2021-01-28T02:32:52.463933Z",
     "iopub.status.idle": "2021-01-28T02:32:53.685326Z",
     "shell.execute_reply": "2021-01-28T02:32:53.685769Z"
    },
    "papermill": {
     "duration": 1.245213,
     "end_time": "2021-01-28T02:32:53.685917",
     "exception": false,
     "start_time": "2021-01-28T02:32:52.440704",
     "status": "completed"
    },
    "tags": []
   },
   "outputs": [
    {
     "data": {
      "image/png": "[encoded data removed]",
      "text/plain": [
       "<Figure size 648x216 with 3 Axes>"
      ]
     },
     "metadata": {
      "needs_background": "light"
     },
     "output_type": "display_data"
    }
   ],
   "source": [
    "dls.show_batch(nrows=1,ncols=3)"
   ]
  },
  {
   "cell_type": "code",
   "execution_count": 9,
   "metadata": {
    "execution": {
     "iopub.execute_input": "2021-01-28T02:32:53.717298Z",
     "iopub.status.busy": "2021-01-28T02:32:53.716596Z",
     "iopub.status.idle": "2021-01-28T02:32:53.719094Z",
     "shell.execute_reply": "2021-01-28T02:32:53.719531Z"
    },
    "papermill": {
     "duration": 0.020021,
     "end_time": "2021-01-28T02:32:53.719673",
     "exception": false,
     "start_time": "2021-01-28T02:32:53.699652",
     "status": "completed"
    },
    "tags": []
   },
   "outputs": [],
   "source": [
    "f2samples = FBetaMulti(beta=2, average='samples', thresh=0.2)"
   ]
  },
  {
   "cell_type": "code",
   "execution_count": 10,
   "metadata": {
    "execution": {
     "iopub.execute_input": "2021-01-28T02:32:53.750935Z",
     "iopub.status.busy": "2021-01-28T02:32:53.750140Z",
     "iopub.status.idle": "2021-01-28T02:32:53.752923Z",
     "shell.execute_reply": "2021-01-28T02:32:53.752510Z"
    },
    "papermill": {
     "duration": 0.019992,
     "end_time": "2021-01-28T02:32:53.753044",
     "exception": false,
     "start_time": "2021-01-28T02:32:53.733052",
     "status": "completed"
    },
    "tags": []
   },
   "outputs": [],
   "source": [
    "metrics = [partial(accuracy_multi, thresh=0.2), f2samples]\n",
    "cbs = [MixUp]"
   ]
  },
  {
   "cell_type": "code",
   "execution_count": 11,
   "metadata": {
    "execution": {
     "iopub.execute_input": "2021-01-28T02:32:53.787277Z",
     "iopub.status.busy": "2021-01-28T02:32:53.786749Z",
     "iopub.status.idle": "2021-01-28T02:33:09.819463Z",
     "shell.execute_reply": "2021-01-28T02:33:09.819993Z"
    },
    "papermill": {
     "duration": 16.051864,
     "end_time": "2021-01-28T02:33:09.820153",
     "exception": false,
     "start_time": "2021-01-28T02:32:53.768289",
     "status": "completed"
    },
    "tags": []
   },
   "outputs": [],
   "source": [
    "!pip install wwf -q\n",
    "!pip install timm -q"
   ]
  },
  {
   "cell_type": "code",
   "execution_count": 12,
   "metadata": {
    "execution": {
     "iopub.execute_input": "2021-01-28T02:33:09.853545Z",
     "iopub.status.busy": "2021-01-28T02:33:09.852450Z",
     "iopub.status.idle": "2021-01-28T02:33:09.949723Z",
     "shell.execute_reply": "2021-01-28T02:33:09.949206Z"
    },
    "papermill": {
     "duration": 0.115118,
     "end_time": "2021-01-28T02:33:09.949851",
     "exception": false,
     "start_time": "2021-01-28T02:33:09.834733",
     "status": "completed"
    },
    "tags": []
   },
   "outputs": [],
   "source": [
    "from wwf.vision.timm import *"
   ]
  },
  {
   "cell_type": "code",
   "execution_count": 13,
   "metadata": {
    "execution": {
     "iopub.execute_input": "2021-01-28T02:33:09.987284Z",
     "iopub.status.busy": "2021-01-28T02:33:09.986476Z",
     "iopub.status.idle": "2021-01-28T02:33:13.542054Z",
     "shell.execute_reply": "2021-01-28T02:33:13.541156Z"
    },
    "papermill": {
     "duration": 3.578444,
     "end_time": "2021-01-28T02:33:13.542198",
     "exception": false,
     "start_time": "2021-01-28T02:33:09.963754",
     "status": "completed"
    },
    "tags": []
   },
   "outputs": [
    {
     "name": "stderr",
     "output_type": "stream",
     "text": [
      "Downloading: \"https://github.com/rwightman/pytorch-image-models/releases/download/v0.1-weights/efficientnet_b3_ra2-cf984f9c.pth\" to /root/.cache/torch/hub/checkpoints/efficientnet_b3_ra2-cf984f9c.pth\n"
     ]
    }
   ],
   "source": [
    "learn = timm_learner(dls, 'efficientnet_b3', metrics=metrics, cbs=cbs)"
   ]
  },
  {
   "cell_type": "code",
   "execution_count": 14,
   "metadata": {
    "execution": {
     "iopub.execute_input": "2021-01-28T02:33:13.578346Z",
     "iopub.status.busy": "2021-01-28T02:33:13.577715Z",
     "iopub.status.idle": "2021-01-28T04:46:53.799144Z",
     "shell.execute_reply": "2021-01-28T04:46:53.798692Z"
    },
    "papermill": {
     "duration": 8020.242719,
     "end_time": "2021-01-28T04:46:53.799279",
     "exception": false,
     "start_time": "2021-01-28T02:33:13.556560",
     "status": "completed"
    },
    "tags": []
   },
   "outputs": [
    {
     "data": {
      "text/html": [
       "<table border=\"1\" class=\"dataframe\">\n",
       "  <thead>\n",
       "    <tr style=\"text-align: left;\">\n",
       "      <th>epoch</th>\n",
       "      <th>train_loss</th>\n",
       "      <th>valid_loss</th>\n",
       "      <th>accuracy_multi</th>\n",
       "      <th>fbeta_score</th>\n",
       "      <th>time</th>\n",
       "    </tr>\n",
       "  </thead>\n",
       "  <tbody>\n",
       "    <tr>\n",
       "      <td>0</td>\n",
       "      <td>0.189556</td>\n",
       "      <td>1.573179</td>\n",
       "      <td>0.923490</td>\n",
       "      <td>0.868529</td>\n",
       "      <td>07:16</td>\n",
       "    </tr>\n",
       "    <tr>\n",
       "      <td>1</td>\n",
       "      <td>0.175117</td>\n",
       "      <td>0.815853</td>\n",
       "      <td>0.933990</td>\n",
       "      <td>0.890614</td>\n",
       "      <td>06:43</td>\n",
       "    </tr>\n",
       "    <tr>\n",
       "      <td>2</td>\n",
       "      <td>0.169636</td>\n",
       "      <td>0.242508</td>\n",
       "      <td>0.951161</td>\n",
       "      <td>0.892307</td>\n",
       "      <td>06:42</td>\n",
       "    </tr>\n",
       "    <tr>\n",
       "      <td>3</td>\n",
       "      <td>0.170679</td>\n",
       "      <td>14.588033</td>\n",
       "      <td>0.952520</td>\n",
       "      <td>0.904011</td>\n",
       "      <td>06:43</td>\n",
       "    </tr>\n",
       "  </tbody>\n",
       "</table>"
      ],
      "text/plain": [
       "<IPython.core.display.HTML object>"
      ]
     },
     "metadata": {},
     "output_type": "display_data"
    },
    {
     "data": {
      "text/html": [
       "<table border=\"1\" class=\"dataframe\">\n",
       "  <thead>\n",
       "    <tr style=\"text-align: left;\">\n",
       "      <th>epoch</th>\n",
       "      <th>train_loss</th>\n",
       "      <th>valid_loss</th>\n",
       "      <th>accuracy_multi</th>\n",
       "      <th>fbeta_score</th>\n",
       "      <th>time</th>\n",
       "    </tr>\n",
       "  </thead>\n",
       "  <tbody>\n",
       "    <tr>\n",
       "      <td>0</td>\n",
       "      <td>0.151867</td>\n",
       "      <td>20.700893</td>\n",
       "      <td>0.952774</td>\n",
       "      <td>0.911197</td>\n",
       "      <td>08:51</td>\n",
       "    </tr>\n",
       "    <tr>\n",
       "      <td>1</td>\n",
       "      <td>0.148737</td>\n",
       "      <td>6.204937</td>\n",
       "      <td>0.957243</td>\n",
       "      <td>0.912786</td>\n",
       "      <td>08:50</td>\n",
       "    </tr>\n",
       "    <tr>\n",
       "      <td>2</td>\n",
       "      <td>0.146366</td>\n",
       "      <td>77.422615</td>\n",
       "      <td>0.949562</td>\n",
       "      <td>0.917527</td>\n",
       "      <td>08:50</td>\n",
       "    </tr>\n",
       "    <tr>\n",
       "      <td>3</td>\n",
       "      <td>0.147281</td>\n",
       "      <td>1.264093</td>\n",
       "      <td>0.943320</td>\n",
       "      <td>0.911396</td>\n",
       "      <td>08:50</td>\n",
       "    </tr>\n",
       "    <tr>\n",
       "      <td>4</td>\n",
       "      <td>0.143721</td>\n",
       "      <td>0.098584</td>\n",
       "      <td>0.955019</td>\n",
       "      <td>0.919248</td>\n",
       "      <td>08:51</td>\n",
       "    </tr>\n",
       "    <tr>\n",
       "      <td>5</td>\n",
       "      <td>0.140903</td>\n",
       "      <td>0.109510</td>\n",
       "      <td>0.961261</td>\n",
       "      <td>0.921604</td>\n",
       "      <td>08:50</td>\n",
       "    </tr>\n",
       "    <tr>\n",
       "      <td>6</td>\n",
       "      <td>0.137618</td>\n",
       "      <td>75.550758</td>\n",
       "      <td>0.957083</td>\n",
       "      <td>0.922654</td>\n",
       "      <td>08:50</td>\n",
       "    </tr>\n",
       "    <tr>\n",
       "      <td>7</td>\n",
       "      <td>0.135837</td>\n",
       "      <td>2.933902</td>\n",
       "      <td>0.958180</td>\n",
       "      <td>0.923902</td>\n",
       "      <td>08:51</td>\n",
       "    </tr>\n",
       "    <tr>\n",
       "      <td>8</td>\n",
       "      <td>0.132907</td>\n",
       "      <td>0.090600</td>\n",
       "      <td>0.955724</td>\n",
       "      <td>0.925125</td>\n",
       "      <td>08:52</td>\n",
       "    </tr>\n",
       "    <tr>\n",
       "      <td>9</td>\n",
       "      <td>0.123096</td>\n",
       "      <td>7.847790</td>\n",
       "      <td>0.958405</td>\n",
       "      <td>0.924639</td>\n",
       "      <td>08:51</td>\n",
       "    </tr>\n",
       "    <tr>\n",
       "      <td>10</td>\n",
       "      <td>0.125528</td>\n",
       "      <td>34.302605</td>\n",
       "      <td>0.958667</td>\n",
       "      <td>0.925276</td>\n",
       "      <td>08:51</td>\n",
       "    </tr>\n",
       "    <tr>\n",
       "      <td>11</td>\n",
       "      <td>0.120975</td>\n",
       "      <td>0.097861</td>\n",
       "      <td>0.959401</td>\n",
       "      <td>0.926059</td>\n",
       "      <td>08:52</td>\n",
       "    </tr>\n",
       "  </tbody>\n",
       "</table>"
      ],
      "text/plain": [
       "<IPython.core.display.HTML object>"
      ]
     },
     "metadata": {},
     "output_type": "display_data"
    }
   ],
   "source": [
    "learn.fine_tune(12, base_lr=3e-2,freeze_epochs=4)\n"
   ]
  },
  {
   "cell_type": "code",
   "execution_count": 15,
   "metadata": {
    "execution": {
     "iopub.execute_input": "2021-01-28T04:46:53.839810Z",
     "iopub.status.busy": "2021-01-28T04:46:53.839272Z",
     "iopub.status.idle": "2021-01-28T04:46:53.922123Z",
     "shell.execute_reply": "2021-01-28T04:46:53.921221Z"
    },
    "papermill": {
     "duration": 0.107409,
     "end_time": "2021-01-28T04:46:53.922278",
     "exception": false,
     "start_time": "2021-01-28T04:46:53.814869",
     "status": "completed"
    },
    "tags": []
   },
   "outputs": [],
   "source": [
    "file_path = Path('../input/planets-dataset/test-jpg-additional/test-jpg-additional')\n",
    "test_path = Path('../input/planets-dataset/planet/planet/test-jpg')\n",
    "submission_df = pd.read_csv(path/'sample_submission.csv')"
   ]
  },
  {
   "cell_type": "code",
   "execution_count": 16,
   "metadata": {
    "execution": {
     "iopub.execute_input": "2021-01-28T04:46:53.958219Z",
     "iopub.status.busy": "2021-01-28T04:46:53.957701Z",
     "iopub.status.idle": "2021-01-28T04:46:54.425835Z",
     "shell.execute_reply": "2021-01-28T04:46:54.425175Z"
    },
    "papermill": {
     "duration": 0.488059,
     "end_time": "2021-01-28T04:46:54.425996",
     "exception": false,
     "start_time": "2021-01-28T04:46:53.937937",
     "status": "completed"
    },
    "tags": []
   },
   "outputs": [],
   "source": [
    "testing_path = (submission_df['image_name'] +'.jpg').apply(lambda x: test_path/x if x.startswith('test') else file_path/x)"
   ]
  },
  {
   "cell_type": "code",
   "execution_count": 17,
   "metadata": {
    "execution": {
     "iopub.execute_input": "2021-01-28T04:46:54.463147Z",
     "iopub.status.busy": "2021-01-28T04:46:54.462553Z",
     "iopub.status.idle": "2021-01-28T04:46:54.465941Z",
     "shell.execute_reply": "2021-01-28T04:46:54.465519Z"
    },
    "papermill": {
     "duration": 0.024248,
     "end_time": "2021-01-28T04:46:54.466043",
     "exception": false,
     "start_time": "2021-01-28T04:46:54.441795",
     "status": "completed"
    },
    "tags": []
   },
   "outputs": [],
   "source": [
    "def prediction(filename='submission.csv', tta=False):\n",
    "    tst_dl = learn.dls.test_dl(testing_path)\n",
    "    if tta:\n",
    "        predictions = learn.tta(dl=tst_dl)\n",
    "    else :\n",
    "        predictions = learn.get_preds(dl=tst_dl)\n",
    "    predlist = [' '.join(learn.dls.vocab[i]) for i in (predictions[0] >0.2)]\n",
    "    df = submission_df\n",
    "    df['tags'] = predlist\n",
    "    df.to_csv(filename, index=False)\n",
    "    return df"
   ]
  }
 ],
 "metadata": {
  "kernelspec": {
   "display_name": "Python 3",
   "language": "python",
   "name": "python3"
  },
  "language_info": {
   "codemirror_mode": {
    "name": "ipython",
    "version": 3
   },
   "file_extension": ".py",
   "mimetype": "text/x-python",
   "name": "python",
   "nbconvert_exporter": "python",
   "pygments_lexer": "ipython3",
   "version": "3.7.3"
  },
  "papermill": {
   "default_parameters": {},
   "duration": 8063.251954,
   "end_time": "2021-01-28T04:46:56.619076",
   "environment_variables": {},
   "exception": null,
   "input_path": "__notebook__.ipynb",
   "output_path": "__notebook__.ipynb",
   "parameters": {},
   "start_time": "2021-01-28T02:32:33.367122",
   "version": "2.2.2"
  }
 },
 "nbformat": 4,
 "nbformat_minor": 4
}
