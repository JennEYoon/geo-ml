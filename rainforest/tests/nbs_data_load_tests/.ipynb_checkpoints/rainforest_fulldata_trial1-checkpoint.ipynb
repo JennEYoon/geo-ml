{
 "cells": [
  {
   "cell_type": "markdown",
   "id": "7d43a265",
   "metadata": {},
   "source": [
    "# rainforest project - run full 40k dataset on Colab \n",
    "\n",
    "Date: April 1, 2022  \n",
    "Author: Jennifer E. Yoon  \n",
    "Env:  Google Colab GPU, fastai and PyTorch libs  \n",
    "Env:  Setup on local computer, base conda env WSL2, Python 3.9, PyTorch CPU, fastai \n",
    "\n",
    "Desc: Picking up this project again after a long hiatus.  \n",
    "Goal, Run full 40,000 dataset on Colab with ResNet34. 10 to 20 epochs.  \n",
    "Save model output and re-run.  "
   ]
  },
  {
   "cell_type": "code",
   "execution_count": 1,
   "id": "81e15629",
   "metadata": {},
   "outputs": [
    {
     "name": "stdout",
     "output_type": "stream",
     "text": [
      "Python 3.9.5\r\n"
     ]
    }
   ],
   "source": [
    "# local env, base WSL2  \n",
    "#!python --version"
   ]
  },
  {
   "cell_type": "code",
   "execution_count": 3,
   "id": "8d147c94",
   "metadata": {},
   "outputs": [
    {
     "name": "stdout",
     "output_type": "stream",
     "text": [
      "<module 'numpy' from '/home/jyoon/miniconda3/lib/python3.9/site-packages/numpy/__init__.py'> <module 'pandas' from '/home/jyoon/miniconda3/lib/python3.9/site-packages/pandas/__init__.py'> <module 'matplotlib.pyplot' from '/home/jyoon/miniconda3/lib/python3.9/site-packages/matplotlib/pyplot.py'>\n",
      "1.21.2 1.3.5 3.5.0\n"
     ]
    }
   ],
   "source": [
    "import numpy as np\n",
    "import pandas as pd \n",
    "import matplotlib.pyplot as plt  \n",
    "import matplotlib as mpl\n",
    "\n",
    "#print(np, pd, plt)\n",
    "#print(np.__version__, pd.__version__, mpl.__version__)\n",
    "\n",
    "%matplotlib inline "
   ]
  },
  {
   "cell_type": "code",
   "execution_count": 4,
   "id": "29b98a4a",
   "metadata": {},
   "outputs": [
    {
     "data": {
      "text/plain": [
       "'2.5.3'"
      ]
     },
     "execution_count": 4,
     "metadata": {},
     "output_type": "execute_result"
    }
   ],
   "source": [
    "#import fastai\n",
    "#fastai.__version__"
   ]
  },
  {
   "cell_type": "code",
   "execution_count": null,
   "id": "ab17536a",
   "metadata": {},
   "outputs": [],
   "source": []
  }
 ],
 "metadata": {
  "kernelspec": {
   "display_name": "Python 3",
   "language": "python",
   "name": "python3"
  },
  "language_info": {
   "codemirror_mode": {
    "name": "ipython",
    "version": 3
   },
   "file_extension": ".py",
   "mimetype": "text/x-python",
   "name": "python",
   "nbconvert_exporter": "python",
   "pygments_lexer": "ipython3",
   "version": "3.9.5"
  }
 },
 "nbformat": 4,
 "nbformat_minor": 5
}
