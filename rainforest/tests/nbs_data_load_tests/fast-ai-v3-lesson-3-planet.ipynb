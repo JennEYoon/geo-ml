{
 "cells": [
  {
   "cell_type": "markdown",
   "metadata": {
    "_uuid": "6c5f5286a663db32696ef558ad28e8cb7b84bd12"
   },
   "source": [
    "## Multi-label prediction with Planet Amazon dataset"
   ]
  },
  {
   "cell_type": "code",
   "execution_count": null,
   "metadata": {
    "_uuid": "e9b2ef1901b9d21c152a8d84e071d543706807ee"
   },
   "outputs": [],
   "source": [
    "%reload_ext autoreload\n",
    "%autoreload 2\n",
    "%matplotlib inline"
   ]
  },
  {
   "cell_type": "code",
   "execution_count": null,
   "metadata": {
    "_uuid": "e71626307b79460bfdee0a2c2fa099ab0bce901c"
   },
   "outputs": [],
   "source": [
    "from fastai.vision import *"
   ]
  },
  {
   "cell_type": "code",
   "execution_count": null,
   "metadata": {
    "_uuid": "24a79ad418ebee8a55d236f0bc227a479d2ef877"
   },
   "outputs": [],
   "source": [
    "path = Path('/kaggle/input/')\n",
    "path.ls()"
   ]
  },
  {
   "cell_type": "markdown",
   "metadata": {
    "_uuid": "3a25f76f77155d050c8a5117b12b121de524b757"
   },
   "source": [
    "## Multiclassification"
   ]
  },
  {
   "cell_type": "markdown",
   "metadata": {
    "_uuid": "1033aa544d20e1647e496b6b2997ae36a72cd799"
   },
   "source": [
    "Contrary to the pets dataset studied in last lesson, here each picture can have multiple labels. If we take a look at the csv file containing the labels (in 'train_v2.csv' here) we see that each 'image_name' is associated to several tags separated by spaces."
   ]
  },
  {
   "cell_type": "code",
   "execution_count": null,
   "metadata": {
    "_uuid": "a830933beb9d6c5163085c6bf6f2525b814e7e80"
   },
   "outputs": [],
   "source": [
    "df = pd.read_csv(path/'train_v2.csv')\n",
    "df.head()"
   ]
  },
  {
   "cell_type": "markdown",
   "metadata": {
    "_uuid": "54d6808126963e0d1c613b0b0a56790ef63f8a64"
   },
   "source": [
    "To put this in a `DataBunch` while using the [data block API](https://docs.fast.ai/data_block.html), we then need to using `ImageItemList` (and not `ImageDataBunch`). This will make sure the model created has the proper loss function to deal with the multiple classes."
   ]
  },
  {
   "cell_type": "code",
   "execution_count": null,
   "metadata": {
    "_uuid": "dd7a9e8213a231f4ca58a601c6007db788ea0275"
   },
   "outputs": [],
   "source": [
    "tfms = get_transforms(flip_vert=True, max_lighting=0.1, max_zoom=1.05, max_warp=0.)"
   ]
  },
  {
   "cell_type": "markdown",
   "metadata": {
    "_uuid": "4b1bbd35bb3b6f4ecfa4408c824dfe5cbcea28a5"
   },
   "source": [
    "We use parentheses around the data block pipeline below, so that we can use a multiline statement without needing to add '\\\\'."
   ]
  },
  {
   "cell_type": "code",
   "execution_count": null,
   "metadata": {
    "_uuid": "999d26da81029af9754f0f076a25da65e8abf251"
   },
   "outputs": [],
   "source": [
    "np.random.seed(42)\n",
    "src = (ImageItemList.from_csv(path, 'train_v2.csv', folder='train-jpg', suffix='.jpg')\n",
    "       .random_split_by_pct(0.2)\n",
    "       .label_from_df(sep=' '))"
   ]
  },
  {
   "cell_type": "code",
   "execution_count": null,
   "metadata": {
    "_uuid": "8626f01c6c23017afaeb0a7e05a0a8175224cca7"
   },
   "outputs": [],
   "source": [
    "data = (src.transform(tfms, size=128)\n",
    "        .databunch(num_workers=0).normalize(imagenet_stats))"
   ]
  },
  {
   "cell_type": "markdown",
   "metadata": {
    "_uuid": "f8b0072d138ed5fbf4a34661c852d76b809c0846"
   },
   "source": [
    "`show_batch` still works, and show us the different labels separated by `;`."
   ]
  },
  {
   "cell_type": "code",
   "execution_count": null,
   "metadata": {
    "_uuid": "935b67c8ea4066f76fb10c8db923c0fd4f3aa8ae"
   },
   "outputs": [],
   "source": [
    "data.show_batch(rows=3, figsize=(12,9))"
   ]
  },
  {
   "cell_type": "markdown",
   "metadata": {
    "_uuid": "28a56d12057e5415003077a162cc17a1bf56f566"
   },
   "source": [
    "To create a `Learner` we use the same function as in lesson 1. Our base architecture is resnet34 again, but the metrics are a little bit differeent: we use `accuracy_thresh` instead of `accuracy`. In lesson 1, we determined the predicition for a given class by picking the final activation that was the biggest, but here, each activation can be 0. or 1. `accuracy_thresh` selects the ones that are above a certain threshold (0.5 by default) and compares them to the ground truth.\n",
    "\n",
    "As for Fbeta, it's the metric that was used by Kaggle on this competition. See [here](https://en.wikipedia.org/wiki/F1_score) for more details."
   ]
  },
  {
   "cell_type": "code",
   "execution_count": null,
   "metadata": {
    "_uuid": "7457e56481fc7423f680436f359c7b62194d3fc1"
   },
   "outputs": [],
   "source": [
    "arch = models.resnet50"
   ]
  },
  {
   "cell_type": "code",
   "execution_count": null,
   "metadata": {
    "_uuid": "db486b8e9b157b05f2544656c44902e168423e3e"
   },
   "outputs": [],
   "source": [
    "acc_02 = partial(accuracy_thresh, thresh=0.2)\n",
    "f_score = partial(fbeta, thresh=0.2)\n",
    "learn = create_cnn(data, arch, metrics=[acc_02, f_score], model_dir='/tmp/models')"
   ]
  },
  {
   "cell_type": "markdown",
   "metadata": {
    "_uuid": "44a62e07e18623e75844572597db46fdfd5e48a5"
   },
   "source": [
    "We use the LR Finder to pick a good learning rate."
   ]
  },
  {
   "cell_type": "code",
   "execution_count": null,
   "metadata": {
    "_uuid": "c2f971f77bfdb26aacb88c75633f3642ac805594"
   },
   "outputs": [],
   "source": [
    "learn.lr_find()"
   ]
  },
  {
   "cell_type": "code",
   "execution_count": null,
   "metadata": {
    "_uuid": "0b67041826d7f56d0ac79041e8bc6a20badeef22"
   },
   "outputs": [],
   "source": [
    "learn.recorder.plot()"
   ]
  },
  {
   "cell_type": "markdown",
   "metadata": {
    "_uuid": "6c3adc9eac97d029b0c7227853680b665fb33a45"
   },
   "source": [
    "Then we can fit the head of our network."
   ]
  },
  {
   "cell_type": "code",
   "execution_count": null,
   "metadata": {
    "_uuid": "ad7e9fb3a3b20a2260fb118c8758f6a8a6a7ca0f"
   },
   "outputs": [],
   "source": [
    "lr = 0.01"
   ]
  },
  {
   "cell_type": "code",
   "execution_count": null,
   "metadata": {
    "_uuid": "d5a950413bb94d3a4af1018d4951d75846157c82"
   },
   "outputs": [],
   "source": [
    "learn.fit_one_cycle(5, slice(lr))"
   ]
  },
  {
   "cell_type": "code",
   "execution_count": null,
   "metadata": {
    "_uuid": "30e9c8ccd84c6122d80493fd5c805ef15951ffaa"
   },
   "outputs": [],
   "source": [
    "learn.save('stage-1-rn50')"
   ]
  },
  {
   "cell_type": "markdown",
   "metadata": {
    "_uuid": "f56acd31149d26be8b71fb85904e719a820a8816"
   },
   "source": [
    "...And fine-tune the whole model:"
   ]
  },
  {
   "cell_type": "code",
   "execution_count": null,
   "metadata": {
    "_uuid": "258939eb3246a1de7670c5b8bd8b9ef716f1d8aa"
   },
   "outputs": [],
   "source": [
    "learn.unfreeze()"
   ]
  },
  {
   "cell_type": "code",
   "execution_count": null,
   "metadata": {
    "_uuid": "4aad6f532f954bf601aaeddfbbea87c339355d72"
   },
   "outputs": [],
   "source": [
    "learn.lr_find()\n",
    "learn.recorder.plot()"
   ]
  },
  {
   "cell_type": "code",
   "execution_count": null,
   "metadata": {
    "_uuid": "0912604620c20251ba319df8d223d330bc455952"
   },
   "outputs": [],
   "source": [
    "learn.fit_one_cycle(5, slice(1e-5, lr/5))"
   ]
  },
  {
   "cell_type": "code",
   "execution_count": null,
   "metadata": {
    "_uuid": "7ae09ac92de6067896ac3c2cb8787bad9bb104ed"
   },
   "outputs": [],
   "source": [
    "learn.save('stage-2-rn50')"
   ]
  },
  {
   "cell_type": "code",
   "execution_count": null,
   "metadata": {
    "_uuid": "db8098002290191218c17cdacceb8efac9f86ab0"
   },
   "outputs": [],
   "source": [
    "data = (src.transform(tfms, size=256)\n",
    "        .databunch(num_workers=0).normalize(imagenet_stats))\n",
    "\n",
    "learn.data = data\n",
    "data.train_ds[0][0].shape"
   ]
  },
  {
   "cell_type": "code",
   "execution_count": null,
   "metadata": {
    "_uuid": "100466fddf10914dcc4f04cc1ddc06b1a8d9e9db"
   },
   "outputs": [],
   "source": [
    "learn.freeze()"
   ]
  },
  {
   "cell_type": "code",
   "execution_count": null,
   "metadata": {
    "_uuid": "70873c091ae3bd749db9781a64025c7146681831"
   },
   "outputs": [],
   "source": [
    "learn.lr_find()\n",
    "learn.recorder.plot()"
   ]
  },
  {
   "cell_type": "code",
   "execution_count": null,
   "metadata": {
    "_uuid": "d186811bbc633f52ca5141c04289dcbd790e0027"
   },
   "outputs": [],
   "source": [
    "lr=1e-2/2"
   ]
  },
  {
   "cell_type": "code",
   "execution_count": null,
   "metadata": {
    "_uuid": "eba6430c3bd2cb9b707e6bf60d9ed46d88bf944f"
   },
   "outputs": [],
   "source": [
    "learn.fit_one_cycle(5, slice(lr))"
   ]
  },
  {
   "cell_type": "code",
   "execution_count": null,
   "metadata": {
    "_uuid": "6bf4d6c7c5abe0bedc9c22991f3db0f20fb5ddb0"
   },
   "outputs": [],
   "source": [
    "learn.save('stage-1-256-rn50')"
   ]
  },
  {
   "cell_type": "code",
   "execution_count": null,
   "metadata": {
    "_uuid": "539b4ea3c52c7ea92728b7565b8330f546459d9a"
   },
   "outputs": [],
   "source": [
    "learn.unfreeze()"
   ]
  },
  {
   "cell_type": "code",
   "execution_count": null,
   "metadata": {
    "_uuid": "791002e67e4e382a34c19580512b213f66f5b183"
   },
   "outputs": [],
   "source": [
    "learn.fit_one_cycle(5, slice(1e-5, lr/5))"
   ]
  },
  {
   "cell_type": "code",
   "execution_count": null,
   "metadata": {
    "_uuid": "fa4e117fdc51d5dc05de766c5899d2cc5d2ee268"
   },
   "outputs": [],
   "source": [
    "learn.recorder.plot_losses()"
   ]
  },
  {
   "cell_type": "code",
   "execution_count": null,
   "metadata": {
    "_uuid": "b946f7a770c085fbcd36a2204ff7d494f548e289"
   },
   "outputs": [],
   "source": [
    "learn.save('stage-2-256-rn50')"
   ]
  },
  {
   "cell_type": "markdown",
   "metadata": {
    "_uuid": "ce6ea2d9186a2a135899e25ad5e4f859a9997602"
   },
   "source": [
    "You won't really know how you're going until you submit to Kaggle, since the leaderboard isn't using the same subset as we have for training. But as a guide, 50th place (out of 938 teams) on the private leaderboard was a score of `0.930`."
   ]
  },
  {
   "cell_type": "code",
   "execution_count": null,
   "metadata": {
    "_uuid": "749088f0326d60bffb824f1d644a16396e634984"
   },
   "outputs": [],
   "source": [
    "learn.export()"
   ]
  },
  {
   "cell_type": "markdown",
   "metadata": {
    "_uuid": "569e662c9c7ebabadc79da4aaea9a99afad6fa93"
   },
   "source": [
    "## fin"
   ]
  },
  {
   "cell_type": "markdown",
   "metadata": {
    "_uuid": "4ea1bf295ba59c92154372efc7d75b3ed4537ec6"
   },
   "source": [
    "(This section will be covered in part 2 - please don't ask about it just yet! :) )"
   ]
  },
  {
   "cell_type": "code",
   "execution_count": null,
   "metadata": {
    "_uuid": "64d1730f863c79c76621b6455cfdfd65e168789a"
   },
   "outputs": [],
   "source": [
    "test = ImageItemList.from_folder(path/'test-jpg').add(ImageItemList.from_folder(path/'test-jpg-additional'))\n",
    "len(test)"
   ]
  },
  {
   "cell_type": "code",
   "execution_count": null,
   "metadata": {
    "_uuid": "0be3bd71f0f696aceefa40034b2024a5012627d1"
   },
   "outputs": [],
   "source": [
    "learn = load_learner(path, test=test)\n",
    "preds, _ = learn.get_preds(ds_type=DatasetType.Test)"
   ]
  },
  {
   "cell_type": "code",
   "execution_count": null,
   "metadata": {
    "_uuid": "b4b86e0cd2c823843ea9ea09836c60ea0c57f3d7"
   },
   "outputs": [],
   "source": [
    "thresh = 0.2\n",
    "labelled_preds = [' '.join([learn.data.classes[i] for i,p in enumerate(pred) if p > thresh]) for pred in preds]"
   ]
  },
  {
   "cell_type": "code",
   "execution_count": null,
   "metadata": {
    "_uuid": "25e6d169885a85aed08f030f000f89c8722d0856"
   },
   "outputs": [],
   "source": [
    "labelled_preds[:5]"
   ]
  },
  {
   "cell_type": "code",
   "execution_count": null,
   "metadata": {
    "_uuid": "abd22f482dbef841fa620cd08a71affef1f0efcf"
   },
   "outputs": [],
   "source": [
    "fnames = [f.name[:-4] for f in learn.data.test_ds.items]"
   ]
  },
  {
   "cell_type": "code",
   "execution_count": null,
   "metadata": {
    "_uuid": "9b303782382a0235fd4ca6655ced2f66f7e5efec"
   },
   "outputs": [],
   "source": [
    "df = pd.DataFrame({'image_name':fnames, 'tags':labelled_preds}, columns=['image_name', 'tags'])"
   ]
  },
  {
   "cell_type": "code",
   "execution_count": null,
   "metadata": {
    "_uuid": "ed9602dfdd6567a349646b9aa31bf3b4343b68ee"
   },
   "outputs": [],
   "source": [
    "df.to_csv(path/'submission.csv', index=False)"
   ]
  },
  {
   "cell_type": "markdown",
   "metadata": {
    "_uuid": "3e055ce28cb222fb12da3b8167a3881b4fe1eb95"
   },
   "source": [
    "Private Leaderboard score: 0.9296 (around 80th)"
   ]
  }
 ],
 "metadata": {
  "kernelspec": {
   "display_name": "Python 3",
   "language": "python",
   "name": "python3"
  },
  "language_info": {
   "codemirror_mode": {
    "name": "ipython",
    "version": 3
   },
   "file_extension": ".py",
   "mimetype": "text/x-python",
   "name": "python",
   "nbconvert_exporter": "python",
   "pygments_lexer": "ipython3",
   "version": "3.6.10"
  }
 },
 "nbformat": 4,
 "nbformat_minor": 4
}
